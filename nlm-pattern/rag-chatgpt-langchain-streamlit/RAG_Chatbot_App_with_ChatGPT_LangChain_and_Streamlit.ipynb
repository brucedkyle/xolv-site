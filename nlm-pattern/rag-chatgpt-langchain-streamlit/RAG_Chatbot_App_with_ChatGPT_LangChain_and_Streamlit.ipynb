{
 "cells": [
  {
   "cell_type": "markdown",
   "metadata": {
    "id": "xPRVq3e03c1K"
   },
   "source": [
    "# File QA RAG Chatbot App with ChatGPT, LangChain and Streamlit\n",
    "\n",
    "Here we will implement an advanced RAG System with ChatGPT, LangChain and Streamlit to build a File QA UI-based chatbot with the following features:\n",
    "\n",
    "- PDF Document Upload and Indexing\n",
    "- RAG System for query analysis and response\n",
    "- Result streaming capabilities (Real-time output)\n",
    "- Show document sources of the answer from RAG system"
   ]
  },
  {
   "cell_type": "markdown",
   "metadata": {
    "id": "L1KvMtf54l0d"
   },
   "source": [
    "## Install App and LLM dependencies"
   ]
  },
  {
   "cell_type": "code",
   "execution_count": 7,
   "metadata": {
    "colab": {
     "base_uri": "https://localhost:8080/"
    },
    "id": "2evPp14fy258",
    "outputId": "0cb5b8c2-edc9-4a3b-ab74-4b4549b934a7"
   },
   "outputs": [
    {
     "name": "stdout",
     "output_type": "stream",
     "text": [
      "Requirement already satisfied: langchain==0.1.12 in c:\\users\\bruce\\anaconda3\\lib\\site-packages (0.1.12)\n",
      "Requirement already satisfied: PyYAML>=5.3 in c:\\users\\bruce\\anaconda3\\lib\\site-packages (from langchain==0.1.12) (6.0.1)\n",
      "Requirement already satisfied: SQLAlchemy<3,>=1.4 in c:\\users\\bruce\\anaconda3\\lib\\site-packages (from langchain==0.1.12) (2.0.25)\n",
      "Requirement already satisfied: aiohttp<4.0.0,>=3.8.3 in c:\\users\\bruce\\anaconda3\\lib\\site-packages (from langchain==0.1.12) (3.9.3)\n",
      "Requirement already satisfied: dataclasses-json<0.7,>=0.5.7 in c:\\users\\bruce\\anaconda3\\lib\\site-packages (from langchain==0.1.12) (0.6.7)\n",
      "Requirement already satisfied: jsonpatch<2.0,>=1.33 in c:\\users\\bruce\\anaconda3\\lib\\site-packages (from langchain==0.1.12) (1.33)\n",
      "Requirement already satisfied: langchain-community<0.1,>=0.0.28 in c:\\users\\bruce\\anaconda3\\lib\\site-packages (from langchain==0.1.12) (0.0.29)\n",
      "Requirement already satisfied: langchain-core<0.2.0,>=0.1.31 in c:\\users\\bruce\\anaconda3\\lib\\site-packages (from langchain==0.1.12) (0.1.52)\n",
      "Requirement already satisfied: langchain-text-splitters<0.1,>=0.0.1 in c:\\users\\bruce\\anaconda3\\lib\\site-packages (from langchain==0.1.12) (0.0.2)\n",
      "Requirement already satisfied: langsmith<0.2.0,>=0.1.17 in c:\\users\\bruce\\anaconda3\\lib\\site-packages (from langchain==0.1.12) (0.1.134)\n",
      "Requirement already satisfied: numpy<2,>=1 in c:\\users\\bruce\\appdata\\roaming\\python\\python311\\site-packages (from langchain==0.1.12) (1.25.2)\n",
      "Requirement already satisfied: pydantic<3,>=1 in c:\\users\\bruce\\anaconda3\\lib\\site-packages (from langchain==0.1.12) (1.10.12)\n",
      "Requirement already satisfied: requests<3,>=2 in c:\\users\\bruce\\anaconda3\\lib\\site-packages (from langchain==0.1.12) (2.31.0)\n",
      "Collecting tenacity<9.0.0,>=8.1.0 (from langchain==0.1.12)\n",
      "  Downloading tenacity-8.5.0-py3-none-any.whl.metadata (1.2 kB)\n",
      "Requirement already satisfied: aiosignal>=1.1.2 in c:\\users\\bruce\\anaconda3\\lib\\site-packages (from aiohttp<4.0.0,>=3.8.3->langchain==0.1.12) (1.2.0)\n",
      "Requirement already satisfied: attrs>=17.3.0 in c:\\users\\bruce\\anaconda3\\lib\\site-packages (from aiohttp<4.0.0,>=3.8.3->langchain==0.1.12) (23.1.0)\n",
      "Requirement already satisfied: frozenlist>=1.1.1 in c:\\users\\bruce\\anaconda3\\lib\\site-packages (from aiohttp<4.0.0,>=3.8.3->langchain==0.1.12) (1.4.0)\n",
      "Requirement already satisfied: multidict<7.0,>=4.5 in c:\\users\\bruce\\anaconda3\\lib\\site-packages (from aiohttp<4.0.0,>=3.8.3->langchain==0.1.12) (6.0.4)\n",
      "Requirement already satisfied: yarl<2.0,>=1.0 in c:\\users\\bruce\\anaconda3\\lib\\site-packages (from aiohttp<4.0.0,>=3.8.3->langchain==0.1.12) (1.9.3)\n",
      "Requirement already satisfied: marshmallow<4.0.0,>=3.18.0 in c:\\users\\bruce\\anaconda3\\lib\\site-packages (from dataclasses-json<0.7,>=0.5.7->langchain==0.1.12) (3.22.0)\n",
      "Requirement already satisfied: typing-inspect<1,>=0.4.0 in c:\\users\\bruce\\anaconda3\\lib\\site-packages (from dataclasses-json<0.7,>=0.5.7->langchain==0.1.12) (0.9.0)\n",
      "Requirement already satisfied: jsonpointer>=1.9 in c:\\users\\bruce\\anaconda3\\lib\\site-packages (from jsonpatch<2.0,>=1.33->langchain==0.1.12) (2.1)\n",
      "Requirement already satisfied: packaging<24.0,>=23.2 in c:\\users\\bruce\\anaconda3\\lib\\site-packages (from langchain-core<0.2.0,>=0.1.31->langchain==0.1.12) (23.2)\n",
      "Requirement already satisfied: httpx<1,>=0.23.0 in c:\\users\\bruce\\anaconda3\\lib\\site-packages (from langsmith<0.2.0,>=0.1.17->langchain==0.1.12) (0.26.0)\n",
      "Requirement already satisfied: orjson<4.0.0,>=3.9.14 in c:\\users\\bruce\\anaconda3\\lib\\site-packages (from langsmith<0.2.0,>=0.1.17->langchain==0.1.12) (3.10.7)\n",
      "Requirement already satisfied: requests-toolbelt<2.0.0,>=1.0.0 in c:\\users\\bruce\\anaconda3\\lib\\site-packages (from langsmith<0.2.0,>=0.1.17->langchain==0.1.12) (1.0.0)\n",
      "Requirement already satisfied: typing-extensions>=4.2.0 in c:\\users\\bruce\\anaconda3\\lib\\site-packages (from pydantic<3,>=1->langchain==0.1.12) (4.12.2)\n",
      "Requirement already satisfied: charset-normalizer<4,>=2 in c:\\users\\bruce\\anaconda3\\lib\\site-packages (from requests<3,>=2->langchain==0.1.12) (2.0.4)\n",
      "Requirement already satisfied: idna<4,>=2.5 in c:\\users\\bruce\\anaconda3\\lib\\site-packages (from requests<3,>=2->langchain==0.1.12) (3.4)\n",
      "Requirement already satisfied: urllib3<3,>=1.21.1 in c:\\users\\bruce\\anaconda3\\lib\\site-packages (from requests<3,>=2->langchain==0.1.12) (2.0.7)\n",
      "Requirement already satisfied: certifi>=2017.4.17 in c:\\users\\bruce\\anaconda3\\lib\\site-packages (from requests<3,>=2->langchain==0.1.12) (2024.8.30)\n",
      "Requirement already satisfied: greenlet!=0.4.17 in c:\\users\\bruce\\anaconda3\\lib\\site-packages (from SQLAlchemy<3,>=1.4->langchain==0.1.12) (3.0.1)\n",
      "Requirement already satisfied: anyio in c:\\users\\bruce\\anaconda3\\lib\\site-packages (from httpx<1,>=0.23.0->langsmith<0.2.0,>=0.1.17->langchain==0.1.12) (4.2.0)\n",
      "Requirement already satisfied: httpcore==1.* in c:\\users\\bruce\\anaconda3\\lib\\site-packages (from httpx<1,>=0.23.0->langsmith<0.2.0,>=0.1.17->langchain==0.1.12) (1.0.2)\n",
      "Requirement already satisfied: sniffio in c:\\users\\bruce\\anaconda3\\lib\\site-packages (from httpx<1,>=0.23.0->langsmith<0.2.0,>=0.1.17->langchain==0.1.12) (1.3.0)\n",
      "Requirement already satisfied: h11<0.15,>=0.13 in c:\\users\\bruce\\anaconda3\\lib\\site-packages (from httpcore==1.*->httpx<1,>=0.23.0->langsmith<0.2.0,>=0.1.17->langchain==0.1.12) (0.14.0)\n",
      "Requirement already satisfied: mypy-extensions>=0.3.0 in c:\\users\\bruce\\anaconda3\\lib\\site-packages (from typing-inspect<1,>=0.4.0->dataclasses-json<0.7,>=0.5.7->langchain==0.1.12) (1.0.0)\n",
      "Downloading tenacity-8.5.0-py3-none-any.whl (28 kB)\n",
      "Installing collected packages: tenacity\n",
      "  Attempting uninstall: tenacity\n",
      "    Found existing installation: tenacity 9.0.0\n",
      "    Uninstalling tenacity-9.0.0:\n",
      "      Successfully uninstalled tenacity-9.0.0\n",
      "Successfully installed tenacity-8.5.0\n",
      "Requirement already satisfied: langchain-openai==0.0.8 in c:\\users\\bruce\\anaconda3\\lib\\site-packages (0.0.8)\n",
      "Requirement already satisfied: langchain-core<0.2.0,>=0.1.27 in c:\\users\\bruce\\anaconda3\\lib\\site-packages (from langchain-openai==0.0.8) (0.1.52)\n",
      "Requirement already satisfied: openai<2.0.0,>=1.10.0 in c:\\users\\bruce\\anaconda3\\lib\\site-packages (from langchain-openai==0.0.8) (1.43.0)\n",
      "Requirement already satisfied: tiktoken<1,>=0.5.2 in c:\\users\\bruce\\anaconda3\\lib\\site-packages (from langchain-openai==0.0.8) (0.8.0)\n",
      "Requirement already satisfied: PyYAML>=5.3 in c:\\users\\bruce\\anaconda3\\lib\\site-packages (from langchain-core<0.2.0,>=0.1.27->langchain-openai==0.0.8) (6.0.1)\n",
      "Requirement already satisfied: jsonpatch<2.0,>=1.33 in c:\\users\\bruce\\anaconda3\\lib\\site-packages (from langchain-core<0.2.0,>=0.1.27->langchain-openai==0.0.8) (1.33)\n",
      "Requirement already satisfied: langsmith<0.2.0,>=0.1.0 in c:\\users\\bruce\\anaconda3\\lib\\site-packages (from langchain-core<0.2.0,>=0.1.27->langchain-openai==0.0.8) (0.1.134)\n",
      "Requirement already satisfied: packaging<24.0,>=23.2 in c:\\users\\bruce\\anaconda3\\lib\\site-packages (from langchain-core<0.2.0,>=0.1.27->langchain-openai==0.0.8) (23.2)\n",
      "Requirement already satisfied: pydantic<3,>=1 in c:\\users\\bruce\\anaconda3\\lib\\site-packages (from langchain-core<0.2.0,>=0.1.27->langchain-openai==0.0.8) (1.10.12)\n",
      "Requirement already satisfied: tenacity<9.0.0,>=8.1.0 in c:\\users\\bruce\\anaconda3\\lib\\site-packages (from langchain-core<0.2.0,>=0.1.27->langchain-openai==0.0.8) (8.5.0)\n",
      "Requirement already satisfied: anyio<5,>=3.5.0 in c:\\users\\bruce\\anaconda3\\lib\\site-packages (from openai<2.0.0,>=1.10.0->langchain-openai==0.0.8) (4.2.0)\n",
      "Requirement already satisfied: distro<2,>=1.7.0 in c:\\users\\bruce\\anaconda3\\lib\\site-packages (from openai<2.0.0,>=1.10.0->langchain-openai==0.0.8) (1.8.0)\n",
      "Requirement already satisfied: httpx<1,>=0.23.0 in c:\\users\\bruce\\anaconda3\\lib\\site-packages (from openai<2.0.0,>=1.10.0->langchain-openai==0.0.8) (0.26.0)\n",
      "Requirement already satisfied: jiter<1,>=0.4.0 in c:\\users\\bruce\\anaconda3\\lib\\site-packages (from openai<2.0.0,>=1.10.0->langchain-openai==0.0.8) (0.5.0)\n",
      "Requirement already satisfied: sniffio in c:\\users\\bruce\\anaconda3\\lib\\site-packages (from openai<2.0.0,>=1.10.0->langchain-openai==0.0.8) (1.3.0)\n",
      "Requirement already satisfied: tqdm>4 in c:\\users\\bruce\\anaconda3\\lib\\site-packages (from openai<2.0.0,>=1.10.0->langchain-openai==0.0.8) (4.65.0)\n",
      "Requirement already satisfied: typing-extensions<5,>=4.11 in c:\\users\\bruce\\anaconda3\\lib\\site-packages (from openai<2.0.0,>=1.10.0->langchain-openai==0.0.8) (4.12.2)\n",
      "Requirement already satisfied: regex>=2022.1.18 in c:\\users\\bruce\\anaconda3\\lib\\site-packages (from tiktoken<1,>=0.5.2->langchain-openai==0.0.8) (2023.10.3)\n",
      "Requirement already satisfied: requests>=2.26.0 in c:\\users\\bruce\\anaconda3\\lib\\site-packages (from tiktoken<1,>=0.5.2->langchain-openai==0.0.8) (2.31.0)\n",
      "Requirement already satisfied: idna>=2.8 in c:\\users\\bruce\\anaconda3\\lib\\site-packages (from anyio<5,>=3.5.0->openai<2.0.0,>=1.10.0->langchain-openai==0.0.8) (3.4)\n",
      "Requirement already satisfied: certifi in c:\\users\\bruce\\anaconda3\\lib\\site-packages (from httpx<1,>=0.23.0->openai<2.0.0,>=1.10.0->langchain-openai==0.0.8) (2024.8.30)\n",
      "Requirement already satisfied: httpcore==1.* in c:\\users\\bruce\\anaconda3\\lib\\site-packages (from httpx<1,>=0.23.0->openai<2.0.0,>=1.10.0->langchain-openai==0.0.8) (1.0.2)\n",
      "Requirement already satisfied: h11<0.15,>=0.13 in c:\\users\\bruce\\anaconda3\\lib\\site-packages (from httpcore==1.*->httpx<1,>=0.23.0->openai<2.0.0,>=1.10.0->langchain-openai==0.0.8) (0.14.0)\n",
      "Requirement already satisfied: jsonpointer>=1.9 in c:\\users\\bruce\\anaconda3\\lib\\site-packages (from jsonpatch<2.0,>=1.33->langchain-core<0.2.0,>=0.1.27->langchain-openai==0.0.8) (2.1)\n",
      "Requirement already satisfied: orjson<4.0.0,>=3.9.14 in c:\\users\\bruce\\anaconda3\\lib\\site-packages (from langsmith<0.2.0,>=0.1.0->langchain-core<0.2.0,>=0.1.27->langchain-openai==0.0.8) (3.10.7)\n",
      "Requirement already satisfied: requests-toolbelt<2.0.0,>=1.0.0 in c:\\users\\bruce\\anaconda3\\lib\\site-packages (from langsmith<0.2.0,>=0.1.0->langchain-core<0.2.0,>=0.1.27->langchain-openai==0.0.8) (1.0.0)\n",
      "Requirement already satisfied: charset-normalizer<4,>=2 in c:\\users\\bruce\\anaconda3\\lib\\site-packages (from requests>=2.26.0->tiktoken<1,>=0.5.2->langchain-openai==0.0.8) (2.0.4)\n",
      "Requirement already satisfied: urllib3<3,>=1.21.1 in c:\\users\\bruce\\anaconda3\\lib\\site-packages (from requests>=2.26.0->tiktoken<1,>=0.5.2->langchain-openai==0.0.8) (2.0.7)\n",
      "Requirement already satisfied: colorama in c:\\users\\bruce\\anaconda3\\lib\\site-packages (from tqdm>4->openai<2.0.0,>=1.10.0->langchain-openai==0.0.8) (0.4.6)\n",
      "Requirement already satisfied: langchain-community==0.0.29 in c:\\users\\bruce\\anaconda3\\lib\\site-packages (0.0.29)\n",
      "Requirement already satisfied: PyYAML>=5.3 in c:\\users\\bruce\\anaconda3\\lib\\site-packages (from langchain-community==0.0.29) (6.0.1)\n",
      "Requirement already satisfied: SQLAlchemy<3,>=1.4 in c:\\users\\bruce\\anaconda3\\lib\\site-packages (from langchain-community==0.0.29) (2.0.25)\n",
      "Requirement already satisfied: aiohttp<4.0.0,>=3.8.3 in c:\\users\\bruce\\anaconda3\\lib\\site-packages (from langchain-community==0.0.29) (3.9.3)\n",
      "Requirement already satisfied: dataclasses-json<0.7,>=0.5.7 in c:\\users\\bruce\\anaconda3\\lib\\site-packages (from langchain-community==0.0.29) (0.6.7)\n",
      "Requirement already satisfied: langchain-core<0.2.0,>=0.1.33 in c:\\users\\bruce\\anaconda3\\lib\\site-packages (from langchain-community==0.0.29) (0.1.52)\n",
      "Requirement already satisfied: langsmith<0.2.0,>=0.1.0 in c:\\users\\bruce\\anaconda3\\lib\\site-packages (from langchain-community==0.0.29) (0.1.134)\n",
      "Requirement already satisfied: numpy<2,>=1 in c:\\users\\bruce\\appdata\\roaming\\python\\python311\\site-packages (from langchain-community==0.0.29) (1.25.2)\n",
      "Requirement already satisfied: requests<3,>=2 in c:\\users\\bruce\\anaconda3\\lib\\site-packages (from langchain-community==0.0.29) (2.31.0)\n",
      "Requirement already satisfied: tenacity<9.0.0,>=8.1.0 in c:\\users\\bruce\\anaconda3\\lib\\site-packages (from langchain-community==0.0.29) (8.5.0)\n",
      "Requirement already satisfied: aiosignal>=1.1.2 in c:\\users\\bruce\\anaconda3\\lib\\site-packages (from aiohttp<4.0.0,>=3.8.3->langchain-community==0.0.29) (1.2.0)\n",
      "Requirement already satisfied: attrs>=17.3.0 in c:\\users\\bruce\\anaconda3\\lib\\site-packages (from aiohttp<4.0.0,>=3.8.3->langchain-community==0.0.29) (23.1.0)\n",
      "Requirement already satisfied: frozenlist>=1.1.1 in c:\\users\\bruce\\anaconda3\\lib\\site-packages (from aiohttp<4.0.0,>=3.8.3->langchain-community==0.0.29) (1.4.0)\n",
      "Requirement already satisfied: multidict<7.0,>=4.5 in c:\\users\\bruce\\anaconda3\\lib\\site-packages (from aiohttp<4.0.0,>=3.8.3->langchain-community==0.0.29) (6.0.4)\n",
      "Requirement already satisfied: yarl<2.0,>=1.0 in c:\\users\\bruce\\anaconda3\\lib\\site-packages (from aiohttp<4.0.0,>=3.8.3->langchain-community==0.0.29) (1.9.3)\n",
      "Requirement already satisfied: marshmallow<4.0.0,>=3.18.0 in c:\\users\\bruce\\anaconda3\\lib\\site-packages (from dataclasses-json<0.7,>=0.5.7->langchain-community==0.0.29) (3.22.0)\n",
      "Requirement already satisfied: typing-inspect<1,>=0.4.0 in c:\\users\\bruce\\anaconda3\\lib\\site-packages (from dataclasses-json<0.7,>=0.5.7->langchain-community==0.0.29) (0.9.0)\n",
      "Requirement already satisfied: jsonpatch<2.0,>=1.33 in c:\\users\\bruce\\anaconda3\\lib\\site-packages (from langchain-core<0.2.0,>=0.1.33->langchain-community==0.0.29) (1.33)\n",
      "Requirement already satisfied: packaging<24.0,>=23.2 in c:\\users\\bruce\\anaconda3\\lib\\site-packages (from langchain-core<0.2.0,>=0.1.33->langchain-community==0.0.29) (23.2)\n",
      "Requirement already satisfied: pydantic<3,>=1 in c:\\users\\bruce\\anaconda3\\lib\\site-packages (from langchain-core<0.2.0,>=0.1.33->langchain-community==0.0.29) (1.10.12)\n",
      "Requirement already satisfied: httpx<1,>=0.23.0 in c:\\users\\bruce\\anaconda3\\lib\\site-packages (from langsmith<0.2.0,>=0.1.0->langchain-community==0.0.29) (0.26.0)\n",
      "Requirement already satisfied: orjson<4.0.0,>=3.9.14 in c:\\users\\bruce\\anaconda3\\lib\\site-packages (from langsmith<0.2.0,>=0.1.0->langchain-community==0.0.29) (3.10.7)\n",
      "Requirement already satisfied: requests-toolbelt<2.0.0,>=1.0.0 in c:\\users\\bruce\\anaconda3\\lib\\site-packages (from langsmith<0.2.0,>=0.1.0->langchain-community==0.0.29) (1.0.0)\n",
      "Requirement already satisfied: charset-normalizer<4,>=2 in c:\\users\\bruce\\anaconda3\\lib\\site-packages (from requests<3,>=2->langchain-community==0.0.29) (2.0.4)\n",
      "Requirement already satisfied: idna<4,>=2.5 in c:\\users\\bruce\\anaconda3\\lib\\site-packages (from requests<3,>=2->langchain-community==0.0.29) (3.4)\n",
      "Requirement already satisfied: urllib3<3,>=1.21.1 in c:\\users\\bruce\\anaconda3\\lib\\site-packages (from requests<3,>=2->langchain-community==0.0.29) (2.0.7)\n",
      "Requirement already satisfied: certifi>=2017.4.17 in c:\\users\\bruce\\anaconda3\\lib\\site-packages (from requests<3,>=2->langchain-community==0.0.29) (2024.8.30)\n",
      "Requirement already satisfied: typing-extensions>=4.6.0 in c:\\users\\bruce\\anaconda3\\lib\\site-packages (from SQLAlchemy<3,>=1.4->langchain-community==0.0.29) (4.12.2)\n",
      "Requirement already satisfied: greenlet!=0.4.17 in c:\\users\\bruce\\anaconda3\\lib\\site-packages (from SQLAlchemy<3,>=1.4->langchain-community==0.0.29) (3.0.1)\n",
      "Requirement already satisfied: anyio in c:\\users\\bruce\\anaconda3\\lib\\site-packages (from httpx<1,>=0.23.0->langsmith<0.2.0,>=0.1.0->langchain-community==0.0.29) (4.2.0)\n",
      "Requirement already satisfied: httpcore==1.* in c:\\users\\bruce\\anaconda3\\lib\\site-packages (from httpx<1,>=0.23.0->langsmith<0.2.0,>=0.1.0->langchain-community==0.0.29) (1.0.2)\n",
      "Requirement already satisfied: sniffio in c:\\users\\bruce\\anaconda3\\lib\\site-packages (from httpx<1,>=0.23.0->langsmith<0.2.0,>=0.1.0->langchain-community==0.0.29) (1.3.0)\n",
      "Requirement already satisfied: h11<0.15,>=0.13 in c:\\users\\bruce\\anaconda3\\lib\\site-packages (from httpcore==1.*->httpx<1,>=0.23.0->langsmith<0.2.0,>=0.1.0->langchain-community==0.0.29) (0.14.0)\n",
      "Requirement already satisfied: jsonpointer>=1.9 in c:\\users\\bruce\\anaconda3\\lib\\site-packages (from jsonpatch<2.0,>=1.33->langchain-core<0.2.0,>=0.1.33->langchain-community==0.0.29) (2.1)\n",
      "Requirement already satisfied: mypy-extensions>=0.3.0 in c:\\users\\bruce\\anaconda3\\lib\\site-packages (from typing-inspect<1,>=0.4.0->dataclasses-json<0.7,>=0.5.7->langchain-community==0.0.29) (1.0.0)\n",
      "Requirement already satisfied: streamlit==1.32.2 in c:\\users\\bruce\\anaconda3\\lib\\site-packages (1.32.2)\n",
      "Requirement already satisfied: altair<6,>=4.0 in c:\\users\\bruce\\anaconda3\\lib\\site-packages (from streamlit==1.32.2) (5.0.1)\n",
      "Requirement already satisfied: blinker<2,>=1.0.0 in c:\\users\\bruce\\anaconda3\\lib\\site-packages (from streamlit==1.32.2) (1.6.2)\n",
      "Requirement already satisfied: cachetools<6,>=4.0 in c:\\users\\bruce\\anaconda3\\lib\\site-packages (from streamlit==1.32.2) (4.2.2)\n",
      "Requirement already satisfied: click<9,>=7.0 in c:\\users\\bruce\\anaconda3\\lib\\site-packages (from streamlit==1.32.2) (8.1.7)\n",
      "Requirement already satisfied: numpy<2,>=1.19.3 in c:\\users\\bruce\\appdata\\roaming\\python\\python311\\site-packages (from streamlit==1.32.2) (1.25.2)\n",
      "Requirement already satisfied: packaging<24,>=16.8 in c:\\users\\bruce\\anaconda3\\lib\\site-packages (from streamlit==1.32.2) (23.2)\n",
      "Requirement already satisfied: pandas<3,>=1.3.0 in c:\\users\\bruce\\appdata\\roaming\\python\\python311\\site-packages (from streamlit==1.32.2) (1.5.3)\n",
      "Requirement already satisfied: pillow<11,>=7.1.0 in c:\\users\\bruce\\anaconda3\\lib\\site-packages (from streamlit==1.32.2) (10.2.0)\n",
      "Requirement already satisfied: protobuf<5,>=3.20 in c:\\users\\bruce\\anaconda3\\lib\\site-packages (from streamlit==1.32.2) (3.20.3)\n",
      "Requirement already satisfied: pyarrow>=7.0 in c:\\users\\bruce\\anaconda3\\lib\\site-packages (from streamlit==1.32.2) (14.0.2)\n",
      "Requirement already satisfied: requests<3,>=2.27 in c:\\users\\bruce\\anaconda3\\lib\\site-packages (from streamlit==1.32.2) (2.31.0)\n",
      "Requirement already satisfied: rich<14,>=10.14.0 in c:\\users\\bruce\\anaconda3\\lib\\site-packages (from streamlit==1.32.2) (13.3.5)\n",
      "Requirement already satisfied: tenacity<9,>=8.1.0 in c:\\users\\bruce\\anaconda3\\lib\\site-packages (from streamlit==1.32.2) (8.5.0)\n",
      "Requirement already satisfied: toml<2,>=0.10.1 in c:\\users\\bruce\\anaconda3\\lib\\site-packages (from streamlit==1.32.2) (0.10.2)\n",
      "Requirement already satisfied: typing-extensions<5,>=4.3.0 in c:\\users\\bruce\\anaconda3\\lib\\site-packages (from streamlit==1.32.2) (4.12.2)\n",
      "Requirement already satisfied: gitpython!=3.1.19,<4,>=3.0.7 in c:\\users\\bruce\\anaconda3\\lib\\site-packages (from streamlit==1.32.2) (3.1.37)\n",
      "Requirement already satisfied: pydeck<1,>=0.8.0b4 in c:\\users\\bruce\\anaconda3\\lib\\site-packages (from streamlit==1.32.2) (0.8.0)\n",
      "Requirement already satisfied: tornado<7,>=6.0.3 in c:\\users\\bruce\\anaconda3\\lib\\site-packages (from streamlit==1.32.2) (6.3.3)\n",
      "Requirement already satisfied: watchdog>=2.1.5 in c:\\users\\bruce\\anaconda3\\lib\\site-packages (from streamlit==1.32.2) (2.1.6)\n",
      "Requirement already satisfied: jinja2 in c:\\users\\bruce\\anaconda3\\lib\\site-packages (from altair<6,>=4.0->streamlit==1.32.2) (3.1.3)\n",
      "Requirement already satisfied: jsonschema>=3.0 in c:\\users\\bruce\\anaconda3\\lib\\site-packages (from altair<6,>=4.0->streamlit==1.32.2) (4.19.2)\n",
      "Requirement already satisfied: toolz in c:\\users\\bruce\\anaconda3\\lib\\site-packages (from altair<6,>=4.0->streamlit==1.32.2) (0.12.0)\n",
      "Requirement already satisfied: colorama in c:\\users\\bruce\\anaconda3\\lib\\site-packages (from click<9,>=7.0->streamlit==1.32.2) (0.4.6)\n",
      "Requirement already satisfied: gitdb<5,>=4.0.1 in c:\\users\\bruce\\anaconda3\\lib\\site-packages (from gitpython!=3.1.19,<4,>=3.0.7->streamlit==1.32.2) (4.0.7)\n",
      "Requirement already satisfied: python-dateutil>=2.8.1 in c:\\users\\bruce\\anaconda3\\lib\\site-packages (from pandas<3,>=1.3.0->streamlit==1.32.2) (2.8.2)\n",
      "Requirement already satisfied: pytz>=2020.1 in c:\\users\\bruce\\anaconda3\\lib\\site-packages (from pandas<3,>=1.3.0->streamlit==1.32.2) (2023.3.post1)\n",
      "Requirement already satisfied: charset-normalizer<4,>=2 in c:\\users\\bruce\\anaconda3\\lib\\site-packages (from requests<3,>=2.27->streamlit==1.32.2) (2.0.4)\n",
      "Requirement already satisfied: idna<4,>=2.5 in c:\\users\\bruce\\anaconda3\\lib\\site-packages (from requests<3,>=2.27->streamlit==1.32.2) (3.4)\n",
      "Requirement already satisfied: urllib3<3,>=1.21.1 in c:\\users\\bruce\\anaconda3\\lib\\site-packages (from requests<3,>=2.27->streamlit==1.32.2) (2.0.7)\n",
      "Requirement already satisfied: certifi>=2017.4.17 in c:\\users\\bruce\\anaconda3\\lib\\site-packages (from requests<3,>=2.27->streamlit==1.32.2) (2024.8.30)\n",
      "Requirement already satisfied: markdown-it-py<3.0.0,>=2.2.0 in c:\\users\\bruce\\anaconda3\\lib\\site-packages (from rich<14,>=10.14.0->streamlit==1.32.2) (2.2.0)\n",
      "Requirement already satisfied: pygments<3.0.0,>=2.13.0 in c:\\users\\bruce\\anaconda3\\lib\\site-packages (from rich<14,>=10.14.0->streamlit==1.32.2) (2.15.1)\n",
      "Requirement already satisfied: smmap<5,>=3.0.1 in c:\\users\\bruce\\anaconda3\\lib\\site-packages (from gitdb<5,>=4.0.1->gitpython!=3.1.19,<4,>=3.0.7->streamlit==1.32.2) (4.0.0)\n",
      "Requirement already satisfied: MarkupSafe>=2.0 in c:\\users\\bruce\\anaconda3\\lib\\site-packages (from jinja2->altair<6,>=4.0->streamlit==1.32.2) (2.1.3)\n",
      "Requirement already satisfied: attrs>=22.2.0 in c:\\users\\bruce\\anaconda3\\lib\\site-packages (from jsonschema>=3.0->altair<6,>=4.0->streamlit==1.32.2) (23.1.0)\n",
      "Requirement already satisfied: jsonschema-specifications>=2023.03.6 in c:\\users\\bruce\\anaconda3\\lib\\site-packages (from jsonschema>=3.0->altair<6,>=4.0->streamlit==1.32.2) (2023.7.1)\n",
      "Requirement already satisfied: referencing>=0.28.4 in c:\\users\\bruce\\anaconda3\\lib\\site-packages (from jsonschema>=3.0->altair<6,>=4.0->streamlit==1.32.2) (0.30.2)\n",
      "Requirement already satisfied: rpds-py>=0.7.1 in c:\\users\\bruce\\anaconda3\\lib\\site-packages (from jsonschema>=3.0->altair<6,>=4.0->streamlit==1.32.2) (0.10.6)\n",
      "Requirement already satisfied: mdurl~=0.1 in c:\\users\\bruce\\anaconda3\\lib\\site-packages (from markdown-it-py<3.0.0,>=2.2.0->rich<14,>=10.14.0->streamlit==1.32.2) (0.1.0)\n",
      "Requirement already satisfied: six>=1.5 in c:\\users\\bruce\\anaconda3\\lib\\site-packages (from python-dateutil>=2.8.1->pandas<3,>=1.3.0->streamlit==1.32.2) (1.16.0)\n",
      "Requirement already satisfied: PyMuPDF==1.24.0 in c:\\users\\bruce\\anaconda3\\lib\\site-packages (1.24.0)\n",
      "Requirement already satisfied: PyMuPDFb==1.24.0 in c:\\users\\bruce\\anaconda3\\lib\\site-packages (from PyMuPDF==1.24.0) (1.24.0)\n",
      "Requirement already satisfied: chromadb==0.4.24 in c:\\users\\bruce\\anaconda3\\lib\\site-packages (0.4.24)\n",
      "Requirement already satisfied: build>=1.0.3 in c:\\users\\bruce\\anaconda3\\lib\\site-packages (from chromadb==0.4.24) (1.2.2.post1)\n",
      "Requirement already satisfied: requests>=2.28 in c:\\users\\bruce\\anaconda3\\lib\\site-packages (from chromadb==0.4.24) (2.31.0)\n",
      "Requirement already satisfied: pydantic>=1.9 in c:\\users\\bruce\\anaconda3\\lib\\site-packages (from chromadb==0.4.24) (1.10.12)\n",
      "Requirement already satisfied: chroma-hnswlib==0.7.3 in c:\\users\\bruce\\anaconda3\\lib\\site-packages (from chromadb==0.4.24) (0.7.3)\n",
      "Requirement already satisfied: fastapi>=0.95.2 in c:\\users\\bruce\\anaconda3\\lib\\site-packages (from chromadb==0.4.24) (0.115.2)\n",
      "Requirement already satisfied: uvicorn>=0.18.3 in c:\\users\\bruce\\anaconda3\\lib\\site-packages (from uvicorn[standard]>=0.18.3->chromadb==0.4.24) (0.31.1)\n",
      "Requirement already satisfied: numpy>=1.22.5 in c:\\users\\bruce\\appdata\\roaming\\python\\python311\\site-packages (from chromadb==0.4.24) (1.25.2)\n",
      "Requirement already satisfied: posthog>=2.4.0 in c:\\users\\bruce\\anaconda3\\lib\\site-packages (from chromadb==0.4.24) (3.7.0)\n",
      "Requirement already satisfied: typing-extensions>=4.5.0 in c:\\users\\bruce\\anaconda3\\lib\\site-packages (from chromadb==0.4.24) (4.12.2)\n",
      "Requirement already satisfied: pulsar-client>=3.1.0 in c:\\users\\bruce\\anaconda3\\lib\\site-packages (from chromadb==0.4.24) (3.5.0)\n",
      "Requirement already satisfied: onnxruntime>=1.14.1 in c:\\users\\bruce\\anaconda3\\lib\\site-packages (from chromadb==0.4.24) (1.18.1)\n",
      "Requirement already satisfied: opentelemetry-api>=1.2.0 in c:\\users\\bruce\\anaconda3\\lib\\site-packages (from chromadb==0.4.24) (1.27.0)\n",
      "Requirement already satisfied: opentelemetry-exporter-otlp-proto-grpc>=1.2.0 in c:\\users\\bruce\\anaconda3\\lib\\site-packages (from chromadb==0.4.24) (1.27.0)\n",
      "Requirement already satisfied: opentelemetry-instrumentation-fastapi>=0.41b0 in c:\\users\\bruce\\anaconda3\\lib\\site-packages (from chromadb==0.4.24) (0.48b0)\n",
      "Requirement already satisfied: opentelemetry-sdk>=1.2.0 in c:\\users\\bruce\\anaconda3\\lib\\site-packages (from chromadb==0.4.24) (1.27.0)\n",
      "Requirement already satisfied: tokenizers>=0.13.2 in c:\\users\\bruce\\anaconda3\\lib\\site-packages (from chromadb==0.4.24) (0.20.0)\n",
      "Requirement already satisfied: pypika>=0.48.9 in c:\\users\\bruce\\anaconda3\\lib\\site-packages (from chromadb==0.4.24) (0.48.9)\n",
      "Requirement already satisfied: tqdm>=4.65.0 in c:\\users\\bruce\\anaconda3\\lib\\site-packages (from chromadb==0.4.24) (4.65.0)\n",
      "Requirement already satisfied: overrides>=7.3.1 in c:\\users\\bruce\\anaconda3\\lib\\site-packages (from chromadb==0.4.24) (7.4.0)\n",
      "Requirement already satisfied: importlib-resources in c:\\users\\bruce\\anaconda3\\lib\\site-packages (from chromadb==0.4.24) (6.4.5)\n",
      "Requirement already satisfied: grpcio>=1.58.0 in c:\\users\\bruce\\anaconda3\\lib\\site-packages (from chromadb==0.4.24) (1.65.4)\n",
      "Requirement already satisfied: bcrypt>=4.0.1 in c:\\users\\bruce\\anaconda3\\lib\\site-packages (from chromadb==0.4.24) (4.2.0)\n",
      "Requirement already satisfied: typer>=0.9.0 in c:\\users\\bruce\\anaconda3\\lib\\site-packages (from chromadb==0.4.24) (0.12.5)\n",
      "Requirement already satisfied: kubernetes>=28.1.0 in c:\\users\\bruce\\anaconda3\\lib\\site-packages (from chromadb==0.4.24) (31.0.0)\n",
      "Requirement already satisfied: tenacity>=8.2.3 in c:\\users\\bruce\\anaconda3\\lib\\site-packages (from chromadb==0.4.24) (8.5.0)\n",
      "Requirement already satisfied: PyYAML>=6.0.0 in c:\\users\\bruce\\anaconda3\\lib\\site-packages (from chromadb==0.4.24) (6.0.1)\n",
      "Requirement already satisfied: mmh3>=4.0.1 in c:\\users\\bruce\\anaconda3\\lib\\site-packages (from chromadb==0.4.24) (5.0.1)\n",
      "Requirement already satisfied: orjson>=3.9.12 in c:\\users\\bruce\\anaconda3\\lib\\site-packages (from chromadb==0.4.24) (3.10.7)\n",
      "Requirement already satisfied: packaging>=19.1 in c:\\users\\bruce\\anaconda3\\lib\\site-packages (from build>=1.0.3->chromadb==0.4.24) (23.2)\n",
      "Requirement already satisfied: pyproject_hooks in c:\\users\\bruce\\anaconda3\\lib\\site-packages (from build>=1.0.3->chromadb==0.4.24) (1.2.0)\n",
      "Requirement already satisfied: colorama in c:\\users\\bruce\\anaconda3\\lib\\site-packages (from build>=1.0.3->chromadb==0.4.24) (0.4.6)\n",
      "Requirement already satisfied: starlette<0.41.0,>=0.37.2 in c:\\users\\bruce\\anaconda3\\lib\\site-packages (from fastapi>=0.95.2->chromadb==0.4.24) (0.39.2)\n",
      "Requirement already satisfied: certifi>=14.05.14 in c:\\users\\bruce\\anaconda3\\lib\\site-packages (from kubernetes>=28.1.0->chromadb==0.4.24) (2024.8.30)\n",
      "Requirement already satisfied: six>=1.9.0 in c:\\users\\bruce\\anaconda3\\lib\\site-packages (from kubernetes>=28.1.0->chromadb==0.4.24) (1.16.0)\n",
      "Requirement already satisfied: python-dateutil>=2.5.3 in c:\\users\\bruce\\anaconda3\\lib\\site-packages (from kubernetes>=28.1.0->chromadb==0.4.24) (2.8.2)\n",
      "Requirement already satisfied: google-auth>=1.0.1 in c:\\users\\bruce\\appdata\\roaming\\python\\python311\\site-packages (from kubernetes>=28.1.0->chromadb==0.4.24) (2.35.0)\n",
      "Requirement already satisfied: websocket-client!=0.40.0,!=0.41.*,!=0.42.*,>=0.32.0 in c:\\users\\bruce\\anaconda3\\lib\\site-packages (from kubernetes>=28.1.0->chromadb==0.4.24) (0.58.0)\n",
      "Requirement already satisfied: requests-oauthlib in c:\\users\\bruce\\appdata\\roaming\\python\\python311\\site-packages (from kubernetes>=28.1.0->chromadb==0.4.24) (2.0.0)\n",
      "Requirement already satisfied: oauthlib>=3.2.2 in c:\\users\\bruce\\appdata\\roaming\\python\\python311\\site-packages (from kubernetes>=28.1.0->chromadb==0.4.24) (3.2.2)\n",
      "Requirement already satisfied: urllib3>=1.24.2 in c:\\users\\bruce\\anaconda3\\lib\\site-packages (from kubernetes>=28.1.0->chromadb==0.4.24) (2.0.7)\n",
      "Requirement already satisfied: durationpy>=0.7 in c:\\users\\bruce\\anaconda3\\lib\\site-packages (from kubernetes>=28.1.0->chromadb==0.4.24) (0.9)\n",
      "Requirement already satisfied: coloredlogs in c:\\users\\bruce\\anaconda3\\lib\\site-packages (from onnxruntime>=1.14.1->chromadb==0.4.24) (15.0.1)\n",
      "Requirement already satisfied: flatbuffers in c:\\users\\bruce\\anaconda3\\lib\\site-packages (from onnxruntime>=1.14.1->chromadb==0.4.24) (24.3.25)\n",
      "Requirement already satisfied: protobuf in c:\\users\\bruce\\anaconda3\\lib\\site-packages (from onnxruntime>=1.14.1->chromadb==0.4.24) (3.20.3)\n",
      "Requirement already satisfied: sympy in c:\\users\\bruce\\anaconda3\\lib\\site-packages (from onnxruntime>=1.14.1->chromadb==0.4.24) (1.12)\n",
      "Requirement already satisfied: deprecated>=1.2.6 in c:\\users\\bruce\\anaconda3\\lib\\site-packages (from opentelemetry-api>=1.2.0->chromadb==0.4.24) (1.2.14)\n",
      "Requirement already satisfied: importlib-metadata<=8.4.0,>=6.0 in c:\\users\\bruce\\anaconda3\\lib\\site-packages (from opentelemetry-api>=1.2.0->chromadb==0.4.24) (7.0.1)\n",
      "Requirement already satisfied: googleapis-common-protos~=1.52 in c:\\users\\bruce\\anaconda3\\lib\\site-packages (from opentelemetry-exporter-otlp-proto-grpc>=1.2.0->chromadb==0.4.24) (1.65.0)\n",
      "Requirement already satisfied: opentelemetry-exporter-otlp-proto-common==1.27.0 in c:\\users\\bruce\\anaconda3\\lib\\site-packages (from opentelemetry-exporter-otlp-proto-grpc>=1.2.0->chromadb==0.4.24) (1.27.0)\n",
      "Requirement already satisfied: opentelemetry-proto==1.27.0 in c:\\users\\bruce\\anaconda3\\lib\\site-packages (from opentelemetry-exporter-otlp-proto-grpc>=1.2.0->chromadb==0.4.24) (1.27.0)\n",
      "Requirement already satisfied: opentelemetry-instrumentation-asgi==0.48b0 in c:\\users\\bruce\\anaconda3\\lib\\site-packages (from opentelemetry-instrumentation-fastapi>=0.41b0->chromadb==0.4.24) (0.48b0)\n",
      "Requirement already satisfied: opentelemetry-instrumentation==0.48b0 in c:\\users\\bruce\\anaconda3\\lib\\site-packages (from opentelemetry-instrumentation-fastapi>=0.41b0->chromadb==0.4.24) (0.48b0)\n",
      "Requirement already satisfied: opentelemetry-semantic-conventions==0.48b0 in c:\\users\\bruce\\anaconda3\\lib\\site-packages (from opentelemetry-instrumentation-fastapi>=0.41b0->chromadb==0.4.24) (0.48b0)\n",
      "Requirement already satisfied: opentelemetry-util-http==0.48b0 in c:\\users\\bruce\\anaconda3\\lib\\site-packages (from opentelemetry-instrumentation-fastapi>=0.41b0->chromadb==0.4.24) (0.48b0)\n",
      "Requirement already satisfied: setuptools>=16.0 in c:\\users\\bruce\\anaconda3\\lib\\site-packages (from opentelemetry-instrumentation==0.48b0->opentelemetry-instrumentation-fastapi>=0.41b0->chromadb==0.4.24) (68.2.2)\n",
      "Requirement already satisfied: wrapt<2.0.0,>=1.0.0 in c:\\users\\bruce\\anaconda3\\lib\\site-packages (from opentelemetry-instrumentation==0.48b0->opentelemetry-instrumentation-fastapi>=0.41b0->chromadb==0.4.24) (1.14.1)\n",
      "Requirement already satisfied: asgiref~=3.0 in c:\\users\\bruce\\anaconda3\\lib\\site-packages (from opentelemetry-instrumentation-asgi==0.48b0->opentelemetry-instrumentation-fastapi>=0.41b0->chromadb==0.4.24) (3.8.1)\n",
      "Requirement already satisfied: monotonic>=1.5 in c:\\users\\bruce\\anaconda3\\lib\\site-packages (from posthog>=2.4.0->chromadb==0.4.24) (1.6)\n",
      "Requirement already satisfied: backoff>=1.10.0 in c:\\users\\bruce\\anaconda3\\lib\\site-packages (from posthog>=2.4.0->chromadb==0.4.24) (2.2.1)\n",
      "Requirement already satisfied: charset-normalizer<4,>=2 in c:\\users\\bruce\\anaconda3\\lib\\site-packages (from requests>=2.28->chromadb==0.4.24) (2.0.4)\n",
      "Requirement already satisfied: idna<4,>=2.5 in c:\\users\\bruce\\anaconda3\\lib\\site-packages (from requests>=2.28->chromadb==0.4.24) (3.4)\n",
      "Requirement already satisfied: huggingface-hub<1.0,>=0.16.4 in c:\\users\\bruce\\anaconda3\\lib\\site-packages (from tokenizers>=0.13.2->chromadb==0.4.24) (0.24.5)\n",
      "Requirement already satisfied: click>=8.0.0 in c:\\users\\bruce\\anaconda3\\lib\\site-packages (from typer>=0.9.0->chromadb==0.4.24) (8.1.7)\n",
      "Requirement already satisfied: shellingham>=1.3.0 in c:\\users\\bruce\\anaconda3\\lib\\site-packages (from typer>=0.9.0->chromadb==0.4.24) (1.5.4)\n",
      "Requirement already satisfied: rich>=10.11.0 in c:\\users\\bruce\\anaconda3\\lib\\site-packages (from typer>=0.9.0->chromadb==0.4.24) (13.3.5)\n",
      "Requirement already satisfied: h11>=0.8 in c:\\users\\bruce\\anaconda3\\lib\\site-packages (from uvicorn>=0.18.3->uvicorn[standard]>=0.18.3->chromadb==0.4.24) (0.14.0)\n",
      "Requirement already satisfied: httptools>=0.5.0 in c:\\users\\bruce\\anaconda3\\lib\\site-packages (from uvicorn[standard]>=0.18.3->chromadb==0.4.24) (0.6.2)\n",
      "Requirement already satisfied: python-dotenv>=0.13 in c:\\users\\bruce\\anaconda3\\lib\\site-packages (from uvicorn[standard]>=0.18.3->chromadb==0.4.24) (0.21.0)\n",
      "Requirement already satisfied: watchfiles>=0.13 in c:\\users\\bruce\\anaconda3\\lib\\site-packages (from uvicorn[standard]>=0.18.3->chromadb==0.4.24) (0.24.0)\n",
      "Requirement already satisfied: websockets>=10.4 in c:\\users\\bruce\\anaconda3\\lib\\site-packages (from uvicorn[standard]>=0.18.3->chromadb==0.4.24) (13.1)\n",
      "Requirement already satisfied: cachetools<6.0,>=2.0.0 in c:\\users\\bruce\\anaconda3\\lib\\site-packages (from google-auth>=1.0.1->kubernetes>=28.1.0->chromadb==0.4.24) (4.2.2)\n",
      "Requirement already satisfied: pyasn1-modules>=0.2.1 in c:\\users\\bruce\\anaconda3\\lib\\site-packages (from google-auth>=1.0.1->kubernetes>=28.1.0->chromadb==0.4.24) (0.2.8)\n",
      "Requirement already satisfied: rsa<5,>=3.1.4 in c:\\users\\bruce\\appdata\\roaming\\python\\python311\\site-packages (from google-auth>=1.0.1->kubernetes>=28.1.0->chromadb==0.4.24) (4.9)\n",
      "Requirement already satisfied: filelock in c:\\users\\bruce\\anaconda3\\lib\\site-packages (from huggingface-hub<1.0,>=0.16.4->tokenizers>=0.13.2->chromadb==0.4.24) (3.13.1)\n",
      "Requirement already satisfied: fsspec>=2023.5.0 in c:\\users\\bruce\\anaconda3\\lib\\site-packages (from huggingface-hub<1.0,>=0.16.4->tokenizers>=0.13.2->chromadb==0.4.24) (2023.10.0)\n",
      "Requirement already satisfied: zipp>=0.5 in c:\\users\\bruce\\anaconda3\\lib\\site-packages (from importlib-metadata<=8.4.0,>=6.0->opentelemetry-api>=1.2.0->chromadb==0.4.24) (3.17.0)\n",
      "Requirement already satisfied: markdown-it-py<3.0.0,>=2.2.0 in c:\\users\\bruce\\anaconda3\\lib\\site-packages (from rich>=10.11.0->typer>=0.9.0->chromadb==0.4.24) (2.2.0)\n",
      "Requirement already satisfied: pygments<3.0.0,>=2.13.0 in c:\\users\\bruce\\anaconda3\\lib\\site-packages (from rich>=10.11.0->typer>=0.9.0->chromadb==0.4.24) (2.15.1)\n",
      "Requirement already satisfied: anyio<5,>=3.4.0 in c:\\users\\bruce\\anaconda3\\lib\\site-packages (from starlette<0.41.0,>=0.37.2->fastapi>=0.95.2->chromadb==0.4.24) (4.2.0)\n",
      "Requirement already satisfied: humanfriendly>=9.1 in c:\\users\\bruce\\anaconda3\\lib\\site-packages (from coloredlogs->onnxruntime>=1.14.1->chromadb==0.4.24) (10.0)\n",
      "Requirement already satisfied: mpmath>=0.19 in c:\\users\\bruce\\anaconda3\\lib\\site-packages (from sympy->onnxruntime>=1.14.1->chromadb==0.4.24) (1.3.0)\n",
      "Requirement already satisfied: sniffio>=1.1 in c:\\users\\bruce\\anaconda3\\lib\\site-packages (from anyio<5,>=3.4.0->starlette<0.41.0,>=0.37.2->fastapi>=0.95.2->chromadb==0.4.24) (1.3.0)\n",
      "Requirement already satisfied: pyreadline3 in c:\\users\\bruce\\anaconda3\\lib\\site-packages (from humanfriendly>=9.1->coloredlogs->onnxruntime>=1.14.1->chromadb==0.4.24) (3.4.1)\n",
      "Requirement already satisfied: mdurl~=0.1 in c:\\users\\bruce\\anaconda3\\lib\\site-packages (from markdown-it-py<3.0.0,>=2.2.0->rich>=10.11.0->typer>=0.9.0->chromadb==0.4.24) (0.1.0)\n",
      "Requirement already satisfied: pyasn1<0.5.0,>=0.4.6 in c:\\users\\bruce\\anaconda3\\lib\\site-packages (from pyasn1-modules>=0.2.1->google-auth>=1.0.1->kubernetes>=28.1.0->chromadb==0.4.24) (0.4.8)\n"
     ]
    },
    {
     "data": {
      "text/plain": [
       "'\\n!pip install pyngrok==7.1.5\\n'"
      ]
     },
     "execution_count": 7,
     "metadata": {},
     "output_type": "execute_result"
    }
   ],
   "source": [
    "!pip install langchain==0.1.12\n",
    "!pip install langchain-openai==0.0.8\n",
    "!pip install langchain-community==0.0.29\n",
    "!pip install streamlit==1.32.2\n",
    "!pip install PyMuPDF==1.24.0\n",
    "!pip install chromadb\n",
    "'''\n",
    "!pip install pyngrok==7.1.5\n",
    "'''"
   ]
  },
  {
   "cell_type": "markdown",
   "metadata": {
    "id": "CiwGjVWK4q6F"
   },
   "source": [
    "## Load OpenAI API Credentials\n",
    "\n",
    "Here we load it from a file so we don't explore the credentials on the internet by mistake"
   ]
  },
  {
   "cell_type": "code",
   "execution_count": 1,
   "metadata": {
    "id": "5e1HqI56y7t3"
   },
   "outputs": [
    {
     "data": {
      "text/plain": [
       "True"
      ]
     },
     "execution_count": 1,
     "metadata": {},
     "output_type": "execute_result"
    }
   ],
   "source": [
    "from dotenv import load_dotenv\n",
    "\n",
    "load_dotenv()  # take environment variables from .env."
   ]
  },
  {
   "cell_type": "markdown",
   "metadata": {
    "id": "RCMshwB1U9iQ"
   },
   "source": [
    "## Write the app code here and store it in a py file"
   ]
  },
  {
   "cell_type": "code",
   "execution_count": 5,
   "metadata": {
    "colab": {
     "base_uri": "https://localhost:8080/"
    },
    "id": "XXceMDF0Qza0",
    "outputId": "62a23071-134b-40ae-91ca-6e3c3202f11e"
   },
   "outputs": [
    {
     "name": "stdout",
     "output_type": "stream",
     "text": [
      "Overwriting app.py\n"
     ]
    }
   ],
   "source": [
    "%%writefile app.py\n",
    "# the preceding line is a magic command\n",
    "# that will write all the code below it to the python file app.py\n",
    "# we will then deploy this app.py file on the cloud server where colab is running\n",
    "# if you have your own server you can just write the code in app.py and deploy it directly\n",
    "from dotenv import load_dotenv\n",
    "load_dotenv()  # take environment variables from .env.\n",
    "\n",
    "from langchain_openai import ChatOpenAI, OpenAIEmbeddings\n",
    "from langchain_core.prompts import ChatPromptTemplate\n",
    "from langchain_community.chat_message_histories import StreamlitChatMessageHistory\n",
    "from langchain_core.callbacks.base import BaseCallbackHandler\n",
    "from langchain_community.document_loaders import PyMuPDFLoader\n",
    "from langchain_text_splitters import RecursiveCharacterTextSplitter\n",
    "from langchain_community.vectorstores.chroma import Chroma\n",
    "from operator import itemgetter\n",
    "import streamlit as st\n",
    "import tempfile\n",
    "import os\n",
    "import pandas as pd\n",
    "\n",
    "# Customize initial app landing page\n",
    "st.set_page_config(page_title=\"File QA Chatbot\", page_icon=\"🤖\")\n",
    "st.title(\"Welcome to File QA RAG Chatbot 🤖\")\n",
    "\n",
    "@st.cache_resource(ttl=\"1h\")\n",
    "# Takes uploaded PDFs, creates document chunks, computes embeddings\n",
    "# Stores document chunks and embeddings in a Vector DB\n",
    "# Returns a retriever which can look up the Vector DB\n",
    "# to return documents based on user input\n",
    "# Stores this in the cache\n",
    "def configure_retriever(uploaded_files):\n",
    "  # Read documents\n",
    "  docs = []\n",
    "  temp_dir = tempfile.TemporaryDirectory()\n",
    "  for file in uploaded_files:\n",
    "    temp_filepath = os.path.join(temp_dir.name, file.name)\n",
    "    with open(temp_filepath, \"wb\") as f:\n",
    "      f.write(file.getvalue())\n",
    "    loader = PyMuPDFLoader(temp_filepath)\n",
    "    docs.extend(loader.load())\n",
    "\n",
    "  # Split into documents chunks\n",
    "  text_splitter = RecursiveCharacterTextSplitter(chunk_size=1500,\n",
    "                                                 chunk_overlap=200)\n",
    "  doc_chunks = text_splitter.split_documents(docs)\n",
    "\n",
    "  # Create document embeddings and store in Vector DB\n",
    "  embeddings_model = OpenAIEmbeddings()\n",
    "  vectordb = Chroma.from_documents(doc_chunks, embeddings_model)\n",
    "\n",
    "  # Define retriever object\n",
    "  retriever = vectordb.as_retriever()\n",
    "  return retriever\n",
    "\n",
    "# Manages live updates to a Streamlit app's display by appending new text tokens\n",
    "# to an existing text stream and rendering the updated text in Markdown\n",
    "class StreamHandler(BaseCallbackHandler):\n",
    "  def __init__(self, container, initial_text=\"\"):\n",
    "    self.container = container\n",
    "    self.text = initial_text\n",
    "\n",
    "  def on_llm_new_token(self, token: str, **kwargs) -> None:\n",
    "    self.text += token\n",
    "    self.container.markdown(self.text)\n",
    "\n",
    "# Creates UI element to accept PDF uploads\n",
    "uploaded_files = st.sidebar.file_uploader(\n",
    "  label=\"Upload PDF files\", type=[\"pdf\"],\n",
    "  accept_multiple_files=True\n",
    ")\n",
    "if not uploaded_files:\n",
    "  st.info(\"Please upload PDF documents to continue.\")\n",
    "  st.stop()\n",
    "\n",
    "# Create retriever object based on uploaded PDFs\n",
    "retriever = configure_retriever(uploaded_files)\n",
    "\n",
    "# Load a connection to ChatGPT LLM\n",
    "chatgpt = ChatOpenAI(model_name='gpt-3.5-turbo', temperature=0.1,\n",
    "                     streaming=True)\n",
    "\n",
    "# Create a prompt template for QA RAG System\n",
    "qa_template = \"\"\"\n",
    "              Use only the following pieces of context to answer the question at the end.\n",
    "              If you don't know the answer, just say that you don't know,\n",
    "              don't try to make up an answer. Keep the answer as concise as possible.\n",
    "\n",
    "              {context}\n",
    "\n",
    "              Question: {question}\n",
    "              \"\"\"\n",
    "qa_prompt = ChatPromptTemplate.from_template(qa_template)\n",
    "\n",
    "# This function formats retrieved documents before sending to LLM\n",
    "def format_docs(docs):\n",
    "  return \"\\n\\n\".join([d.page_content for d in docs])\n",
    "\n",
    "# Create a QA RAG System Chain\n",
    "qa_rag_chain = (\n",
    "  {\n",
    "    \"context\": itemgetter(\"question\") # based on the user question get context docs\n",
    "      |\n",
    "    retriever\n",
    "      |\n",
    "    format_docs,\n",
    "    \"question\": itemgetter(\"question\") # user question\n",
    "  }\n",
    "    |\n",
    "  qa_prompt # prompt with above user question and context\n",
    "    |\n",
    "  chatgpt # above prompt is sent to the LLM for response\n",
    ")\n",
    "\n",
    "# Store conversation history in Streamlit session state\n",
    "streamlit_msg_history = StreamlitChatMessageHistory(key=\"langchain_messages\")\n",
    "\n",
    "# Shows the first message when app starts\n",
    "if len(streamlit_msg_history.messages) == 0:\n",
    "  streamlit_msg_history.add_ai_message(\"Please ask your question?\")\n",
    "\n",
    "# Render current messages from StreamlitChatMessageHistory\n",
    "for msg in streamlit_msg_history.messages:\n",
    "  st.chat_message(msg.type).write(msg.content)\n",
    "\n",
    "# Callback handler which does some post-processing on the LLM response\n",
    "# Used to post the top 3 document sources used by the LLM in RAG response\n",
    "class PostMessageHandler(BaseCallbackHandler):\n",
    "  def __init__(self, msg: st.write):\n",
    "    BaseCallbackHandler.__init__(self)\n",
    "    self.msg = msg\n",
    "    self.sources = []\n",
    "\n",
    "  def on_retriever_end(self, documents, *, run_id, parent_run_id, **kwargs):\n",
    "    source_ids = []\n",
    "    for d in documents: # retrieved documents from retriever based on user query\n",
    "      metadata = {\n",
    "        \"source\": d.metadata[\"source\"],\n",
    "        \"page\": d.metadata[\"page\"],\n",
    "        \"content\": d.page_content[:200]\n",
    "      }\n",
    "      idx = (metadata[\"source\"], metadata[\"page\"])\n",
    "      if idx not in source_ids: # store unique source documents\n",
    "        source_ids.append(idx)\n",
    "        self.sources.append(metadata)\n",
    "\n",
    "  def on_llm_end(self, response, *, run_id, parent_run_id, **kwargs):\n",
    "    if len(self.sources):\n",
    "      st.markdown(\"__Sources:__ \"+\"\\n\")\n",
    "      st.dataframe(data=pd.DataFrame(self.sources[:3]),\n",
    "                    width=1000) # Top 3 sources\n",
    "\n",
    "\n",
    "# If user inputs a new prompt, display it and show the response\n",
    "if user_prompt := st.chat_input():\n",
    "  st.chat_message(\"human\").write(user_prompt)\n",
    "  # This is where response from the LLM is shown\n",
    "  with st.chat_message(\"ai\"):\n",
    "    # Initializing an empty data stream\n",
    "    stream_handler = StreamHandler(st.empty())\n",
    "    # UI element to write RAG sources after LLM response\n",
    "    sources_container = st.write(\"\")\n",
    "    pm_handler = PostMessageHandler(sources_container)\n",
    "    config = {\"callbacks\": [stream_handler, pm_handler]}\n",
    "    # Get LLM response\n",
    "    response = qa_rag_chain.invoke({\"question\": user_prompt},\n",
    "                                    config)"
   ]
  },
  {
   "cell_type": "markdown",
   "metadata": {
    "id": "8de1tM6FVLsq"
   },
   "source": [
    "## Start the app"
   ]
  },
  {
   "cell_type": "code",
   "execution_count": 1,
   "metadata": {
    "id": "Za_TAI2RkPI9"
   },
   "outputs": [
    {
     "ename": "OSError",
     "evalue": "Background processes not supported.",
     "output_type": "error",
     "traceback": [
      "\u001b[1;31m---------------------------------------------------------------------------\u001b[0m",
      "\u001b[1;31mOSError\u001b[0m                                   Traceback (most recent call last)",
      "Cell \u001b[1;32mIn[1], line 1\u001b[0m\n\u001b[1;32m----> 1\u001b[0m get_ipython()\u001b[38;5;241m.\u001b[39msystem(\u001b[38;5;124m'\u001b[39m\u001b[38;5;124mstreamlit run app.py --server.port=8989 &>./logs.txt &\u001b[39m\u001b[38;5;124m'\u001b[39m)\n",
      "File \u001b[1;32m~\\anaconda3\\Lib\\site-packages\\ipykernel\\zmqshell.py:641\u001b[0m, in \u001b[0;36mZMQInteractiveShell.system_piped\u001b[1;34m(self, cmd)\u001b[0m\n\u001b[0;32m    634\u001b[0m \u001b[38;5;28;01mif\u001b[39;00m cmd\u001b[38;5;241m.\u001b[39mrstrip()\u001b[38;5;241m.\u001b[39mendswith(\u001b[38;5;124m\"\u001b[39m\u001b[38;5;124m&\u001b[39m\u001b[38;5;124m\"\u001b[39m):\n\u001b[0;32m    635\u001b[0m     \u001b[38;5;66;03m# this is *far* from a rigorous test\u001b[39;00m\n\u001b[0;32m    636\u001b[0m     \u001b[38;5;66;03m# We do not support backgrounding processes because we either use\u001b[39;00m\n\u001b[0;32m    637\u001b[0m     \u001b[38;5;66;03m# pexpect or pipes to read from.  Users can always just call\u001b[39;00m\n\u001b[0;32m    638\u001b[0m     \u001b[38;5;66;03m# os.system() or use ip.system=ip.system_raw\u001b[39;00m\n\u001b[0;32m    639\u001b[0m     \u001b[38;5;66;03m# if they really want a background process.\u001b[39;00m\n\u001b[0;32m    640\u001b[0m     msg \u001b[38;5;241m=\u001b[39m \u001b[38;5;124m\"\u001b[39m\u001b[38;5;124mBackground processes not supported.\u001b[39m\u001b[38;5;124m\"\u001b[39m\n\u001b[1;32m--> 641\u001b[0m     \u001b[38;5;28;01mraise\u001b[39;00m \u001b[38;5;167;01mOSError\u001b[39;00m(msg)\n\u001b[0;32m    643\u001b[0m \u001b[38;5;66;03m# we explicitly do NOT return the subprocess status code, because\u001b[39;00m\n\u001b[0;32m    644\u001b[0m \u001b[38;5;66;03m# a non-None value would trigger :func:`sys.displayhook` calls.\u001b[39;00m\n\u001b[0;32m    645\u001b[0m \u001b[38;5;66;03m# Instead, we store the exit_code in user_ns.\u001b[39;00m\n\u001b[0;32m    646\u001b[0m \u001b[38;5;66;03m# Also, protect system call from UNC paths on Windows here too\u001b[39;00m\n\u001b[0;32m    647\u001b[0m \u001b[38;5;66;03m# as is done in InteractiveShell.system_raw\u001b[39;00m\n\u001b[0;32m    648\u001b[0m \u001b[38;5;28;01mif\u001b[39;00m sys\u001b[38;5;241m.\u001b[39mplatform \u001b[38;5;241m==\u001b[39m \u001b[38;5;124m\"\u001b[39m\u001b[38;5;124mwin32\u001b[39m\u001b[38;5;124m\"\u001b[39m:\n",
      "\u001b[1;31mOSError\u001b[0m: Background processes not supported."
     ]
    }
   ],
   "source": [
    "!streamlit run app.py --server.port=8989 &>./logs.txt &"
   ]
  },
  {
   "cell_type": "code",
   "execution_count": null,
   "metadata": {
    "colab": {
     "base_uri": "https://localhost:8080/"
    },
    "id": "FrVhyQVirAqP",
    "outputId": "eda335b1-37b9-464b-906d-935fb06fe1f5"
   },
   "outputs": [
    {
     "name": "stdout",
     "output_type": "stream",
     "text": [
      "Streamlit App: https://70cd-35-185-85-25.ngrok-free.app\n"
     ]
    }
   ],
   "source": [
    "from pyngrok import ngrok\n",
    "import yaml\n",
    "\n",
    "# Terminate open tunnels if exist\n",
    "ngrok.kill()\n",
    "\n",
    "# Setting the authtoken\n",
    "# Get your authtoken from `ngrok_credentials.yml` file\n",
    "with open('ngrok_credentials.yml', 'r') as file:\n",
    "    NGROK_AUTH_TOKEN = yaml.safe_load(file)\n",
    "ngrok.set_auth_token(NGROK_AUTH_TOKEN['ngrok_key'])\n",
    "\n",
    "# Open an HTTPs tunnel on port XXXX which you get from your `logs.txt` file\n",
    "ngrok_tunnel = ngrok.connect(8989)\n",
    "print(\"Streamlit App:\", ngrok_tunnel.public_url)"
   ]
  },
  {
   "cell_type": "markdown",
   "metadata": {
    "id": "2Q3yFB_jsgC5"
   },
   "source": [
    "## Remove running app processes"
   ]
  },
  {
   "cell_type": "code",
   "execution_count": null,
   "metadata": {
    "id": "pG7Abg_LrAw6"
   },
   "outputs": [],
   "source": [
    "ngrok.kill()"
   ]
  },
  {
   "cell_type": "code",
   "execution_count": null,
   "metadata": {
    "colab": {
     "base_uri": "https://localhost:8080/"
    },
    "id": "x2VA4ZtCkPNN",
    "outputId": "ac5397d0-5f30-454b-d97b-45023cf36a4c"
   },
   "outputs": [
    {
     "name": "stdout",
     "output_type": "stream",
     "text": [
      "root        1110       1  1 05:29 ?        00:00:20 /usr/bin/python3 /usr/local/bin/streamlit run ap\n",
      "root        9062     306  0 06:02 ?        00:00:00 /bin/bash -c ps -ef | grep streamlit\n",
      "root        9064    9062  0 06:02 ?        00:00:00 grep streamlit\n"
     ]
    }
   ],
   "source": [
    "!ps -ef | grep streamlit"
   ]
  },
  {
   "cell_type": "code",
   "execution_count": null,
   "metadata": {
    "id": "_WxGAxGHkPLP"
   },
   "outputs": [],
   "source": [
    "!sudo kill -9 1110"
   ]
  },
  {
   "cell_type": "code",
   "execution_count": null,
   "metadata": {
    "id": "MlBQh5fdkPPY"
   },
   "outputs": [],
   "source": []
  }
 ],
 "metadata": {
  "colab": {
   "provenance": []
  },
  "kernelspec": {
   "display_name": "Python 3 (ipykernel)",
   "language": "python",
   "name": "python3"
  },
  "language_info": {
   "codemirror_mode": {
    "name": "ipython",
    "version": 3
   },
   "file_extension": ".py",
   "mimetype": "text/x-python",
   "name": "python",
   "nbconvert_exporter": "python",
   "pygments_lexer": "ipython3",
   "version": "3.11.7"
  }
 },
 "nbformat": 4,
 "nbformat_minor": 4
}

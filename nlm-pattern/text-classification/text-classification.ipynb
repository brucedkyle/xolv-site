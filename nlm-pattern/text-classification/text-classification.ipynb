{
 "cells": [
  {
   "cell_type": "markdown",
   "id": "57994ecd-bd41-4323-b6a8-8effe90d9fc6",
   "metadata": {},
   "source": [
    "# Text classification"
   ]
  },
  {
   "cell_type": "markdown",
   "id": "1b3c86ba-8047-45d8-92ba-bdb60a73f2a7",
   "metadata": {},
   "source": [
    "Text classification has a broad range of applications:\n",
    "\n",
    "- Tag customer feedback into categories\n",
    "- Route support tickets\n",
    "- Sentiment analysis"
   ]
  },
  {
   "cell_type": "markdown",
   "id": "da341cb3-2c86-4d4c-bb02-cb5d8a7d1906",
   "metadata": {},
   "source": [
    "In this example, you will \n",
    "\n",
    "- Identify emotional states using a variant of BERT, [DistilBERT](https://www.google.com/url?q=https%3A%2F%2Farxiv.org%2Fabs%2F1910.01108), that will allow you to train a classifier in a few minutes.\n",
    "- Use core libraries from [Hugging Face](https://huggingface.co/docs/huggingface_hub/index) to quickly go from raw text to a fine-tuned model that can be used for inference on new tweets:\n",
    "\n",
    "    - Tokenizers\n",
    "    - Transformers\n",
    " \n",
    "- This example uses PyTorch, Hugging Face Transformers also provide tight interoperability with TensorFlow and JAX. See the [original code](https://github.com/nlp-with-transformers) for the details on how to smoothly transition between frameworks."
   ]
  },
  {
   "cell_type": "markdown",
   "id": "651f7961-ac7e-456a-8db0-e780a1056685",
   "metadata": {},
   "source": [
    "We will use four steps:\n",
    "\n",
    "1. Load and process datasets\n",
    "2. Tokenize input texts\n",
    "3. Load models, train, and infer\n",
    "4. Load metrics and evaluate models"
   ]
  },
  {
   "cell_type": "markdown",
   "id": "68cab142-c96a-4645-94be-0c8afab0d9aa",
   "metadata": {},
   "source": [
    "This notebook is substantially taken from [NLP Transformers](https://github.com/nlp-with-transformers) as licensed under the  Apache License 2.0.\n",
    "It has been updated to the current code versions and set up using Conda where possible to resolve package conflicts using conda environments and Docker containers. Some of the content has been simplified."
   ]
  },
  {
   "cell_type": "markdown",
   "id": "7b8c9928-146e-4b1c-8dab-8fbcd47d0123",
   "metadata": {},
   "source": [
    "## Verify installation"
   ]
  },
  {
   "cell_type": "markdown",
   "id": "226286db-2467-474a-8f20-9b6b7c56febd",
   "metadata": {},
   "source": [
    "Before we start, let's verify our environment. Using PyTorch to validate the CUDA environment has been set up."
   ]
  },
  {
   "cell_type": "code",
   "execution_count": 1,
   "id": "cbc50def-3bd4-45b4-a21b-28d42a4bed6a",
   "metadata": {},
   "outputs": [
    {
     "name": "stdout",
     "output_type": "stream",
     "text": [
      "np: 1.23.5\n",
      "pd: 2.2.2\n",
      "cuda enable: True\n",
      "current_device: 0\n",
      "device: <torch.cuda.device object at 0x7f4267244e90>\n",
      "device_count: 1\n",
      "get_device_name: NVIDIA GeForce RTX 3060 Laptop GPU\n"
     ]
    }
   ],
   "source": [
    "import numpy as np\n",
    "import pandas as pd\n",
    "import torch\n",
    "\n",
    "print(f'np: {np.__version__}')\n",
    "print(f'pd: {pd.__version__}')\n",
    "\n",
    "print(f'cuda enable: {torch.cuda.is_available()}')\n",
    "print(f'current_device: {torch.cuda.current_device()}')\n",
    "print(f'device: {torch.cuda.device(0)}')\n",
    "print(f'device_count: {torch.cuda.device_count()}')\n",
    "print(f'get_device_name: {torch.cuda.get_device_name(0)}')\n"
   ]
  },
  {
   "cell_type": "markdown",
   "id": "e4f709a6-0e63-4641-858b-c513c7549682",
   "metadata": {},
   "source": [
    "## Load and process datasets"
   ]
  },
  {
   "cell_type": "markdown",
   "id": "5856f68e-51ba-4121-9d94-12b84f36601d",
   "metadata": {},
   "source": [
    "Use `datasets` to download currated data from [Hugging Face Hub](https://huggingface.co/datasets). The following code lists the datasets available."
   ]
  },
  {
   "cell_type": "code",
   "execution_count": 2,
   "id": "866f9aa3-8d31-45ed-985f-39bd7c81aa34",
   "metadata": {},
   "outputs": [
    {
     "name": "stderr",
     "output_type": "stream",
     "text": [
      "/tmp/ipykernel_1371168/89111038.py:3: FutureWarning: list_datasets is deprecated and will be removed in the next major version of datasets. Use 'huggingface_hub.list_datasets' instead.\n",
      "  all_datasets = list_datasets()\n"
     ]
    },
    {
     "name": "stdout",
     "output_type": "stream",
     "text": [
      "There are 200843 datasets currently available on the Hub\n",
      "The first 10 are: ['amirveyseh/acronym_identification', 'ade-benchmark-corpus/ade_corpus_v2', 'UCLNLP/adversarial_qa', 'Yale-LILY/aeslc', 'nwu-ctext/afrikaans_ner_corpus', 'fancyzhx/ag_news', 'allenai/ai2_arc', 'google/air_dialogue', 'komari6/ajgt_twitter_ar', 'legacy-datasets/allegro_reviews']\n"
     ]
    }
   ],
   "source": [
    "from datasets import list_datasets\n",
    "\n",
    "all_datasets = list_datasets()\n",
    "print(f\"There are {len(all_datasets)} datasets currently available on the Hub\")\n",
    "print(f\"The first 10 are: {all_datasets[:10]}\")"
   ]
  },
  {
   "cell_type": "markdown",
   "id": "7b1a2301-5c98-41ca-b0ee-4cafffc3b0f4",
   "metadata": {},
   "source": [
    "Load the `dair-ai/emotion` dataset."
   ]
  },
  {
   "cell_type": "code",
   "execution_count": 3,
   "id": "a751a6be-ea19-4ddb-a8da-687a8521df23",
   "metadata": {},
   "outputs": [],
   "source": [
    "from datasets import load_dataset\n",
    "\n",
    "emotions = load_dataset(\"dair-ai/emotion\")"
   ]
  },
  {
   "cell_type": "markdown",
   "id": "fadf48f0-b3fb-4ebb-b00e-984788bf6eff",
   "metadata": {},
   "source": [
    "View the `emotions` objext"
   ]
  },
  {
   "cell_type": "code",
   "execution_count": 4,
   "id": "3562a7d1-8269-45ef-8cde-9d7d20247d45",
   "metadata": {},
   "outputs": [
    {
     "data": {
      "text/plain": [
       "DatasetDict({\n",
       "    train: Dataset({\n",
       "        features: ['text', 'label'],\n",
       "        num_rows: 16000\n",
       "    })\n",
       "    validation: Dataset({\n",
       "        features: ['text', 'label'],\n",
       "        num_rows: 2000\n",
       "    })\n",
       "    test: Dataset({\n",
       "        features: ['text', 'label'],\n",
       "        num_rows: 2000\n",
       "    })\n",
       "})"
      ]
     },
     "execution_count": 4,
     "metadata": {},
     "output_type": "execute_result"
    }
   ],
   "source": [
    "emotions"
   ]
  },
  {
   "cell_type": "markdown",
   "id": "e73029fe-2700-4021-a8c6-a5b7e5d8031a",
   "metadata": {},
   "source": [
    "The datasets are already split. View the training data as a dataset named `train_ds`"
   ]
  },
  {
   "cell_type": "code",
   "execution_count": 5,
   "id": "fdb74f21-ce41-426f-a21c-d8dcef1c4a2a",
   "metadata": {},
   "outputs": [
    {
     "data": {
      "text/plain": [
       "Dataset({\n",
       "    features: ['text', 'label'],\n",
       "    num_rows: 16000\n",
       "})"
      ]
     },
     "execution_count": 5,
     "metadata": {},
     "output_type": "execute_result"
    }
   ],
   "source": [
    "train_ds = emotions[\"train\"]\n",
    "train_ds"
   ]
  },
  {
   "cell_type": "markdown",
   "id": "036ec98e-7a47-4e7c-9c30-74b1848a3ee9",
   "metadata": {},
   "source": [
    "`Dataset` is one of the core data structures in [Hugging Face Datasets](https://huggingface.co/docs/datasets/index). They use the syntax of a Python array."
   ]
  },
  {
   "cell_type": "code",
   "execution_count": 6,
   "id": "cdc10b81-e38f-498c-bf4d-240f792e4f48",
   "metadata": {},
   "outputs": [
    {
     "name": "stdout",
     "output_type": "stream",
     "text": [
      "16000\n",
      "{'text': 'i didnt feel humiliated', 'label': 0}\n",
      "['text', 'label']\n"
     ]
    }
   ],
   "source": [
    "print(len(train_ds))\n",
    "print(train_ds[0])\n",
    "print(train_ds.column_names)"
   ]
  },
  {
   "cell_type": "markdown",
   "id": "953cd627-1a78-40fd-a008-3c6bd547ba6f",
   "metadata": {},
   "source": [
    "Datasets are based on [Appache Arrow](https://arrow.apache.org/) that uses a typed columnar format that you may recognize from Pandas, Apache Spark, Apache Parquet. See [Products using Apache Arrow](https://arrow.apache.org/powered_by/)."
   ]
  },
  {
   "cell_type": "code",
   "execution_count": 7,
   "id": "345ed966-94a6-42e2-ab51-c1c99a5d3b79",
   "metadata": {},
   "outputs": [
    {
     "name": "stdout",
     "output_type": "stream",
     "text": [
      "{'text': Value(dtype='string', id=None), 'label': ClassLabel(names=['sadness', 'joy', 'love', 'anger', 'fear', 'surprise'], id=None)}\n",
      "---\n",
      "{'text': ['i didnt feel humiliated', 'i can go from feeling so hopeless to so damned hopeful just from being around someone who cares and is awake', 'im grabbing a minute to post i feel greedy wrong', 'i am ever feeling nostalgic about the fireplace i will know that it is still on the property', 'i am feeling grouchy'], 'label': [0, 0, 3, 2, 3]}\n",
      "---\n",
      "['i didnt feel humiliated', 'i can go from feeling so hopeless to so damned hopeful just from being around someone who cares and is awake', 'im grabbing a minute to post i feel greedy wrong', 'i am ever feeling nostalgic about the fireplace i will know that it is still on the property', 'i am feeling grouchy']\n"
     ]
    }
   ],
   "source": [
    "print(train_ds.features) # to see datatypes\n",
    "print('---')\n",
    "print(train_ds[:5]) # to access several rows of the data\n",
    "print('---')\n",
    "print(train_ds[\"text\"][:5]) # to access a column of data by name\n"
   ]
  },
  {
   "cell_type": "markdown",
   "id": "c384379f-ce40-43f2-a1f7-4e334b2bc737",
   "metadata": {},
   "source": [
    "### Use DataFrames for your DataSets"
   ]
  },
  {
   "cell_type": "markdown",
   "id": "eb4e924f-4f3f-4c60-a755-609a82a1012d",
   "metadata": {},
   "source": [
    "You will probably want to convert `DataSet` into a `DataFrame`. DataSets provide `set_format()` method. The underlying Arrow tables are not changed, and you can change formats later. For example, `torch` returns PyTorch tensors and `tensorflow` returns TensorFlow tensors."
   ]
  },
  {
   "cell_type": "code",
   "execution_count": 8,
   "id": "fd03d6a5-e19d-4da4-b506-02b872a3e39a",
   "metadata": {},
   "outputs": [
    {
     "data": {
      "text/html": [
       "<div>\n",
       "<style scoped>\n",
       "    .dataframe tbody tr th:only-of-type {\n",
       "        vertical-align: middle;\n",
       "    }\n",
       "\n",
       "    .dataframe tbody tr th {\n",
       "        vertical-align: top;\n",
       "    }\n",
       "\n",
       "    .dataframe thead th {\n",
       "        text-align: right;\n",
       "    }\n",
       "</style>\n",
       "<table border=\"1\" class=\"dataframe\">\n",
       "  <thead>\n",
       "    <tr style=\"text-align: right;\">\n",
       "      <th></th>\n",
       "      <th>text</th>\n",
       "      <th>label</th>\n",
       "    </tr>\n",
       "  </thead>\n",
       "  <tbody>\n",
       "    <tr>\n",
       "      <th>0</th>\n",
       "      <td>i didnt feel humiliated</td>\n",
       "      <td>0</td>\n",
       "    </tr>\n",
       "    <tr>\n",
       "      <th>1</th>\n",
       "      <td>i can go from feeling so hopeless to so damned...</td>\n",
       "      <td>0</td>\n",
       "    </tr>\n",
       "    <tr>\n",
       "      <th>2</th>\n",
       "      <td>im grabbing a minute to post i feel greedy wrong</td>\n",
       "      <td>3</td>\n",
       "    </tr>\n",
       "    <tr>\n",
       "      <th>3</th>\n",
       "      <td>i am ever feeling nostalgic about the fireplac...</td>\n",
       "      <td>2</td>\n",
       "    </tr>\n",
       "    <tr>\n",
       "      <th>4</th>\n",
       "      <td>i am feeling grouchy</td>\n",
       "      <td>3</td>\n",
       "    </tr>\n",
       "  </tbody>\n",
       "</table>\n",
       "</div>"
      ],
      "text/plain": [
       "                                                text  label\n",
       "0                            i didnt feel humiliated      0\n",
       "1  i can go from feeling so hopeless to so damned...      0\n",
       "2   im grabbing a minute to post i feel greedy wrong      3\n",
       "3  i am ever feeling nostalgic about the fireplac...      2\n",
       "4                               i am feeling grouchy      3"
      ]
     },
     "execution_count": 8,
     "metadata": {},
     "output_type": "execute_result"
    }
   ],
   "source": [
    "import pandas as pd\n",
    "\n",
    "emotions.set_format(type=\"pandas\")\n",
    "df = emotions[\"train\"][:]\n",
    "df.head()"
   ]
  },
  {
   "cell_type": "markdown",
   "id": "b3ebc4df-ce6d-4fed-af28-530226dcb057",
   "metadata": {},
   "source": [
    "The `label` column is represented by integers. Use `int2str` to create a new column in the `DataFrame` to see the label names."
   ]
  },
  {
   "cell_type": "code",
   "execution_count": 9,
   "id": "12780add-c1e4-4190-8ecd-f041fea9cc99",
   "metadata": {},
   "outputs": [
    {
     "data": {
      "text/html": [
       "<div>\n",
       "<style scoped>\n",
       "    .dataframe tbody tr th:only-of-type {\n",
       "        vertical-align: middle;\n",
       "    }\n",
       "\n",
       "    .dataframe tbody tr th {\n",
       "        vertical-align: top;\n",
       "    }\n",
       "\n",
       "    .dataframe thead th {\n",
       "        text-align: right;\n",
       "    }\n",
       "</style>\n",
       "<table border=\"1\" class=\"dataframe\">\n",
       "  <thead>\n",
       "    <tr style=\"text-align: right;\">\n",
       "      <th></th>\n",
       "      <th>text</th>\n",
       "      <th>label</th>\n",
       "      <th>label_name</th>\n",
       "    </tr>\n",
       "  </thead>\n",
       "  <tbody>\n",
       "    <tr>\n",
       "      <th>0</th>\n",
       "      <td>i didnt feel humiliated</td>\n",
       "      <td>0</td>\n",
       "      <td>sadness</td>\n",
       "    </tr>\n",
       "    <tr>\n",
       "      <th>1</th>\n",
       "      <td>i can go from feeling so hopeless to so damned...</td>\n",
       "      <td>0</td>\n",
       "      <td>sadness</td>\n",
       "    </tr>\n",
       "    <tr>\n",
       "      <th>2</th>\n",
       "      <td>im grabbing a minute to post i feel greedy wrong</td>\n",
       "      <td>3</td>\n",
       "      <td>anger</td>\n",
       "    </tr>\n",
       "    <tr>\n",
       "      <th>3</th>\n",
       "      <td>i am ever feeling nostalgic about the fireplac...</td>\n",
       "      <td>2</td>\n",
       "      <td>love</td>\n",
       "    </tr>\n",
       "    <tr>\n",
       "      <th>4</th>\n",
       "      <td>i am feeling grouchy</td>\n",
       "      <td>3</td>\n",
       "      <td>anger</td>\n",
       "    </tr>\n",
       "  </tbody>\n",
       "</table>\n",
       "</div>"
      ],
      "text/plain": [
       "                                                text  label label_name\n",
       "0                            i didnt feel humiliated      0    sadness\n",
       "1  i can go from feeling so hopeless to so damned...      0    sadness\n",
       "2   im grabbing a minute to post i feel greedy wrong      3      anger\n",
       "3  i am ever feeling nostalgic about the fireplac...      2       love\n",
       "4                               i am feeling grouchy      3      anger"
      ]
     },
     "execution_count": 9,
     "metadata": {},
     "output_type": "execute_result"
    }
   ],
   "source": [
    "def label_int2str(row):\n",
    "    return emotions[\"train\"].features[\"label\"].int2str(row)\n",
    "\n",
    "df[\"label_name\"] = df[\"label\"].apply(label_int2str)\n",
    "df.head()"
   ]
  },
  {
   "cell_type": "markdown",
   "id": "e2f2b1e1-5aa2-43cb-82c4-7e314fd363a6",
   "metadata": {},
   "source": [
    "### Exploratory Data Analysis"
   ]
  },
  {
   "cell_type": "markdown",
   "id": "ec159680-66e5-406a-a8ae-3786d5b68894",
   "metadata": {},
   "source": [
    "#### Univariate analysis"
   ]
  },
  {
   "cell_type": "markdown",
   "id": "4513d1bc-017b-496c-be3f-59516634a00d",
   "metadata": {},
   "source": [
    "Determine if the emotions data is balanced."
   ]
  },
  {
   "cell_type": "code",
   "execution_count": 10,
   "id": "fcd80785-70f3-45c5-9a9e-bd8f8c116549",
   "metadata": {},
   "outputs": [
    {
     "data": {
      "image/png": "[encoded data removed]",
      "text/plain": [
       "<Figure size 640x480 with 1 Axes>"
      ]
     },
     "metadata": {},
     "output_type": "display_data"
    }
   ],
   "source": [
    "import matplotlib.pyplot as plt\n",
    "\n",
    "df[\"label_name\"].value_counts(ascending=True).plot.barh()\n",
    "plt.title(\"Frequency of Classes\")\n",
    "plt.show()"
   ]
  },
  {
   "cell_type": "markdown",
   "id": "90848c5f-279b-422f-8fe3-969ff4649adb",
   "metadata": {},
   "source": [
    "**Observations**\n",
    "\n",
    "The frequency of classes is heavily imbalanced with `joy` and `sadness` apprearing frequently, with `love` and `suprise` infrequently.\n",
    "\n",
    "To learn more about how to deal with imbalanced data, see [Imbalance-learn](https://imbalanced-learn.org/stable/) documentation."
   ]
  },
  {
   "cell_type": "markdown",
   "id": "3886c4c3-e7fc-46be-85d7-250844e94f06",
   "metadata": {},
   "source": [
    "Transformer models have a maximum input sequence length that is referred to as the maximum context size. For applications using DistilBERT, the maximum context size is 512 tokens, which amounts to a few paragraphs of text. As we'll see in the next section, a token is an atomic piece of text; for now, we'll treat a token as a single word. "
   ]
  },
  {
   "cell_type": "markdown",
   "id": "30512e16-fac1-42ee-af15-69a992a5d96e",
   "metadata": {},
   "source": [
    "#### Bivariage analysis"
   ]
  },
  {
   "cell_type": "markdown",
   "id": "8e28319d-6c41-4b25-8641-67d9c73da838",
   "metadata": {},
   "source": [
    "Transformer models have a maximum input sequence length that is referred to as the _maximum context size_. For applications using DistilBERT, the maximum context size is 512 tokens, which amounts to a few paragraphs of text. As we'll see in the next section, a token is an atomic piece of text; for now, we'll treat a token as a single word. "
   ]
  },
  {
   "cell_type": "markdown",
   "id": "e808e3da-82d0-4b86-b739-c8867d5203ca",
   "metadata": {},
   "source": [
    "Estimate the tweet lengths for each emotion"
   ]
  },
  {
   "cell_type": "code",
   "execution_count": 11,
   "id": "40002559-fd88-4841-b61b-9d49cee635b7",
   "metadata": {},
   "outputs": [
    {
     "data": {
      "image/png": "[encoded data removed]",
      "text/plain": [
       "<Figure size 640x480 with 1 Axes>"
      ]
     },
     "metadata": {},
     "output_type": "display_data"
    }
   ],
   "source": [
    "df[\"Words Per Tweet\"] = df[\"text\"].str.split().apply(len)\n",
    "df.boxplot(\"Words Per Tweet\", by=\"label_name\", grid=False, showfliers=False,\n",
    "           color=\"black\")\n",
    "plt.suptitle(\"\")\n",
    "plt.xlabel(\"\")\n",
    "plt.show()"
   ]
  },
  {
   "cell_type": "markdown",
   "id": "529538f3-0520-431b-a9f0-f8b1cd49b6ce",
   "metadata": {},
   "source": [
    "**Observation**\n",
    "\n",
    "Most tweets are around 15 words long and the longest tweets are well below DistilBERT's maximum context size.\n",
    "\n",
    "Texts that are longer than a model's context size need to be truncated, which can lead to a loss in performance if the truncated text contains crucial information; in this case, it looks like that won't be an issue."
   ]
  },
  {
   "cell_type": "code",
   "execution_count": 12,
   "id": "b499f206-37d3-400e-8350-bdd1f6535885",
   "metadata": {},
   "outputs": [],
   "source": [
    "emotions.reset_format() # Back to dataset because we no longer need DataFrame"
   ]
  },
  {
   "cell_type": "markdown",
   "id": "814911f7-61b3-4053-b938-5edffadf8d93",
   "metadata": {},
   "source": [
    "## Tokenize input texts"
   ]
  },
  {
   "cell_type": "markdown",
   "id": "293d7a82-d426-4747-8f95-b49eda0b7d27",
   "metadata": {},
   "source": [
    "Transformer models like DistilBERT cannot receive raw strings as input; instead, they assume the text has been tokenized and encoded as numerical vectors. "
   ]
  },
  {
   "cell_type": "markdown",
   "id": "4fd71c74-e25a-4370-9e59-68d4298bafe4",
   "metadata": {},
   "source": [
    "Rather than tokenize _character_ or _word_, let's use subword tokenization"
   ]
  },
  {
   "cell_type": "markdown",
   "id": "51c5ccec-6745-48df-a8e9-0f9739336056",
   "metadata": {},
   "source": [
    "The basic idea behind subword tokenization is to combine the best aspects of character and word tokenization. On the one hand, we want to split rare words into smaller units to allow the model to deal with complex words and misspellings. On the other hand, we want to keep frequent words as unique entities so that we can keep the length of our inputs to a manageable size. The main distinguishing feature of subword tokenization (as well as word tokenization) is that it is learned from the pretraining corpus using a mix of statistical rules and algorithms."
   ]
  },
  {
   "cell_type": "markdown",
   "id": "49ca8940-6f51-4da1-896f-5540bb1be85d",
   "metadata": {},
   "source": [
    "There are several subword tokenization algorithms that are commonly used in NLP,  but let's start with [WordPiece]() that is used by BERT and DistilBERT tokenizers. \n",
    "\n",
    "Hugging Face Tranformers provides `AutoTokenizer` class to load the tokenizer associated with the pre-trained model. We find out what the model is by calling `from_pretrained` and provide the model on the Hub or local file path. "
   ]
  },
  {
   "cell_type": "code",
   "execution_count": 13,
   "id": "fc317270-62b0-400a-90b7-4a6fb31a6ea8",
   "metadata": {},
   "outputs": [
    {
     "name": "stderr",
     "output_type": "stream",
     "text": [
      "/home/bruce/anaconda3/envs/text_classification/lib/python3.11/site-packages/transformers/tokenization_utils_base.py:1601: FutureWarning: `clean_up_tokenization_spaces` was not set. It will be set to `True` by default. This behavior will be depracted in transformers v4.45, and will be then set to `False` by default. For more details check this issue: https://github.com/huggingface/transformers/issues/31884\n",
      "  warnings.warn(\n"
     ]
    }
   ],
   "source": [
    "# Load the tokenizer for DistilBERT\n",
    "from transformers import AutoTokenizer\n",
    "\n",
    "model_ckpt = \"distilbert-base-uncased\"\n",
    "tokenizer = AutoTokenizer.from_pretrained(model_ckpt)"
   ]
  },
  {
   "cell_type": "markdown",
   "id": "1545adcf-cb60-4fc7-b9ca-31442f6af38e",
   "metadata": {},
   "source": [
    "Let's examine how this tokenizer works by feeding it our simple \"Tokenizing text is a core task of NLP.\" example text:"
   ]
  },
  {
   "cell_type": "code",
   "execution_count": 14,
   "id": "12db41aa-e944-4cf9-8ec0-859d4c680437",
   "metadata": {},
   "outputs": [
    {
     "name": "stdout",
     "output_type": "stream",
     "text": [
      "{'input_ids': [101, 19204, 6026, 3793, 2003, 1037, 4563, 4708, 1997, 17953, 2361, 1012, 102], 'attention_mask': [1, 1, 1, 1, 1, 1, 1, 1, 1, 1, 1, 1, 1]}\n"
     ]
    }
   ],
   "source": [
    "text = \"Tokenizing text is a core task of NLP.\"\n",
    "encoded_text = tokenizer(text)\n",
    "print(encoded_text)"
   ]
  },
  {
   "cell_type": "markdown",
   "id": "74ec9a3f-5fb2-4be7-8e5d-77a1afdd0914",
   "metadata": {},
   "source": [
    "The words have been mapped to unique integers in the `input_ids` field.\n",
    "\n",
    "We can convert the `input_ids` back to tokens using tokenizer's `convert_ids_to_tokens()` method"
   ]
  },
  {
   "cell_type": "code",
   "execution_count": 15,
   "id": "cee2c0ce-b81e-441b-b73e-80c7a56fca09",
   "metadata": {},
   "outputs": [
    {
     "name": "stdout",
     "output_type": "stream",
     "text": [
      "['[CLS]', 'token', '##izing', 'text', 'is', 'a', 'core', 'task', 'of', 'nl', '##p', '.', '[SEP]']\n"
     ]
    }
   ],
   "source": [
    "tokens = tokenizer.convert_ids_to_tokens(encoded_text.input_ids)\n",
    "print(tokens)"
   ]
  },
  {
   "cell_type": "markdown",
   "id": "39002f46-d526-497b-add6-b0ae52527dec",
   "metadata": {},
   "source": [
    "**Observations**\n",
    "\n",
    "- Some special [CLS] and [SEP] tokens have been added to the start and end of the sequence. These tokens differ from model to model, but their main role is to indicate the start and end of a sequence.\n",
    "- Tokens have each been lowercased, which is a feature of this particular checkpoint.\n",
    "- \"tokenizing\" and \"NLP\" have been split into two tokens. The ## prefix in ##izing and ##p means that the preceding string is not whitespace; any token with this prefix should be merged with the previous token when you convert the tokens back to a string.\n"
   ]
  },
  {
   "cell_type": "code",
   "execution_count": 16,
   "id": "97ab3c72-3eba-4292-bdfa-508794d34cf0",
   "metadata": {},
   "outputs": [
    {
     "name": "stdout",
     "output_type": "stream",
     "text": [
      "[CLS] tokenizing text is a core task of nlp. [SEP]\n"
     ]
    }
   ],
   "source": [
    "# Get tokened string back to the original\n",
    "print(tokenizer.convert_tokens_to_string(tokens))"
   ]
  },
  {
   "cell_type": "markdown",
   "id": "8ed5535c-6c50-4f96-ba8d-6759f9f1fb7d",
   "metadata": {},
   "source": [
    "Inspect vocabulary size"
   ]
  },
  {
   "cell_type": "code",
   "execution_count": 17,
   "id": "0bad25a5-39e6-4125-a257-268bca642222",
   "metadata": {},
   "outputs": [
    {
     "data": {
      "text/plain": [
       "30522"
      ]
     },
     "execution_count": 17,
     "metadata": {},
     "output_type": "execute_result"
    }
   ],
   "source": [
    "tokenizer.vocab_size"
   ]
  },
  {
   "cell_type": "markdown",
   "id": "e4f41527-d5fd-4488-b7f6-86816f0785cc",
   "metadata": {},
   "source": [
    "Model's maximum context size"
   ]
  },
  {
   "cell_type": "code",
   "execution_count": 18,
   "id": "fe4c8cbd-6bb5-4c22-ae63-e8d3679daf80",
   "metadata": {},
   "outputs": [
    {
     "data": {
      "text/plain": [
       "512"
      ]
     },
     "execution_count": 18,
     "metadata": {},
     "output_type": "execute_result"
    }
   ],
   "source": [
    "tokenizer.model_max_length"
   ]
  },
  {
   "cell_type": "markdown",
   "id": "129ecb33-90c6-48f1-a279-e609a41e748a",
   "metadata": {},
   "source": [
    "Inspect the names of the fields that the model expects in its forward pass"
   ]
  },
  {
   "cell_type": "code",
   "execution_count": 19,
   "id": "826c1ac7-9d66-4eee-84e1-1c87a400f574",
   "metadata": {},
   "outputs": [
    {
     "data": {
      "text/plain": [
       "['input_ids', 'attention_mask']"
      ]
     },
     "execution_count": 19,
     "metadata": {},
     "output_type": "execute_result"
    }
   ],
   "source": [
    "tokenizer.model_input_names"
   ]
  },
  {
   "cell_type": "markdown",
   "id": "8cf50f81-49f7-4f60-a8de-9cb8544a3627",
   "metadata": {},
   "source": [
    "Now that we have a basic understanding of the tokenization process for a single string, let's see how we can tokenize the whole dataset"
   ]
  },
  {
   "cell_type": "markdown",
   "id": "c648317d-0e9c-4fae-ae6f-ed157e1eff34",
   "metadata": {},
   "source": [
    "IMPORTANT:\n",
    "When using pretrained models, it is really important to make sure that you use the same tokenizer that the model was trained with. From the model's perspective, switching the tokenizer is like shuffling the vocabulary."
   ]
  },
  {
   "cell_type": "markdown",
   "id": "76148f27-4bee-4f9d-bd9b-5ec93eb901a8",
   "metadata": {},
   "source": [
    "### Tokenizing the whole dataset"
   ]
  },
  {
   "cell_type": "markdown",
   "id": "9942783b-ca96-4c4a-9e98-c4f2be4104ca",
   "metadata": {},
   "source": [
    "To tokenize the whole corpus, we'll use the `map()` method of our `DatasetDict` object. \n",
    "\n",
    "`map()` method can also be used to create new rows and columns."
   ]
  },
  {
   "cell_type": "markdown",
   "id": "c0f29056-3d90-493e-b6e7-c83fcd8dc715",
   "metadata": {},
   "source": [
    "The following function applies the tokenizer to a batch of examples:\n",
    "\n",
    "- `padding=True` pads the examples with zeros to the size of the longest one in a batch\n",
    "- `truncation=True` truncates the examples to the model's maximum context size."
   ]
  },
  {
   "cell_type": "code",
   "execution_count": 20,
   "id": "0edc27d2-08a9-448c-a6db-b3f265513477",
   "metadata": {},
   "outputs": [],
   "source": [
    "def tokenize(batch):\n",
    "    return tokenizer(batch[\"text\"], padding=True, truncation=True)"
   ]
  },
  {
   "cell_type": "markdown",
   "id": "cde736c8-d03e-4366-8a16-ceb67ec43657",
   "metadata": {},
   "source": [
    "Try it with two examples from the training set."
   ]
  },
  {
   "cell_type": "code",
   "execution_count": 21,
   "id": "69ef0fac-cf48-46b4-b539-47f3f698b291",
   "metadata": {},
   "outputs": [
    {
     "name": "stdout",
     "output_type": "stream",
     "text": [
      "{'input_ids': [[101, 1045, 2134, 2102, 2514, 26608, 102, 0, 0, 0, 0, 0, 0, 0, 0, 0, 0, 0, 0, 0, 0, 0, 0], [101, 1045, 2064, 2175, 2013, 3110, 2061, 20625, 2000, 2061, 9636, 17772, 2074, 2013, 2108, 2105, 2619, 2040, 14977, 1998, 2003, 8300, 102]], 'attention_mask': [[1, 1, 1, 1, 1, 1, 1, 0, 0, 0, 0, 0, 0, 0, 0, 0, 0, 0, 0, 0, 0, 0, 0], [1, 1, 1, 1, 1, 1, 1, 1, 1, 1, 1, 1, 1, 1, 1, 1, 1, 1, 1, 1, 1, 1, 1]]}\n"
     ]
    }
   ],
   "source": [
    "print(tokenize(emotions[\"train\"][:2]))"
   ]
  },
  {
   "cell_type": "markdown",
   "id": "cda9ebe9-0609-4959-abd8-bc2d6b192857",
   "metadata": {},
   "source": [
    "Next, let's inspect the nature of the tokenized results."
   ]
  },
  {
   "cell_type": "markdown",
   "id": "3773c997-8c4e-4693-bb65-7681f9c63d03",
   "metadata": {},
   "source": [
    "**Observatons**\n",
    "\n",
    "- The result of padding: the first element of `input_ids` is shorter than the second, so zeros have been added to that element to make them the same length.\n",
    "- These zeros have a corresponding [PAD] token in the vocabulary\n",
    "- The set of special tokens also includes the [CLS] and [SEP] tokens"
   ]
  },
  {
   "cell_type": "code",
   "execution_count": 22,
   "id": "6f2e1300-6f80-41ae-8361-f935450eb835",
   "metadata": {},
   "outputs": [
    {
     "data": {
      "text/html": [
       "<div>\n",
       "<style scoped>\n",
       "    .dataframe tbody tr th:only-of-type {\n",
       "        vertical-align: middle;\n",
       "    }\n",
       "\n",
       "    .dataframe tbody tr th {\n",
       "        vertical-align: top;\n",
       "    }\n",
       "\n",
       "    .dataframe thead th {\n",
       "        text-align: right;\n",
       "    }\n",
       "</style>\n",
       "<table border=\"1\" class=\"dataframe\">\n",
       "  <thead>\n",
       "    <tr style=\"text-align: right;\">\n",
       "      <th></th>\n",
       "      <th>0</th>\n",
       "      <th>1</th>\n",
       "      <th>2</th>\n",
       "      <th>3</th>\n",
       "      <th>4</th>\n",
       "    </tr>\n",
       "  </thead>\n",
       "  <tbody>\n",
       "    <tr>\n",
       "      <th>Special Token</th>\n",
       "      <td>[PAD]</td>\n",
       "      <td>[UNK]</td>\n",
       "      <td>[CLS]</td>\n",
       "      <td>[SEP]</td>\n",
       "      <td>[MASK]</td>\n",
       "    </tr>\n",
       "    <tr>\n",
       "      <th>Special Token ID</th>\n",
       "      <td>0</td>\n",
       "      <td>100</td>\n",
       "      <td>101</td>\n",
       "      <td>102</td>\n",
       "      <td>103</td>\n",
       "    </tr>\n",
       "  </tbody>\n",
       "</table>\n",
       "</div>"
      ],
      "text/plain": [
       "                      0      1      2      3       4\n",
       "Special Token     [PAD]  [UNK]  [CLS]  [SEP]  [MASK]\n",
       "Special Token ID      0    100    101    102     103"
      ]
     },
     "execution_count": 22,
     "metadata": {},
     "output_type": "execute_result"
    }
   ],
   "source": [
    "tokens2ids = list(zip(tokenizer.all_special_tokens, tokenizer.all_special_ids))\n",
    "data = sorted(tokens2ids, key=lambda x : x[-1])\n",
    "df = pd.DataFrame(data, columns=[\"Special Token\", \"Special Token ID\"])\n",
    "df.T"
   ]
  },
  {
   "cell_type": "markdown",
   "id": "283b4856-6152-4c00-99b7-98905865a8e3",
   "metadata": {},
   "source": [
    "The tokenizer aslo returns a list of `attention_mask` arrays.\n",
    "\n",
    "So the model will not get confused by the additional padding tokens: the attention mask allows the model to ignore the padded parts of the input.\n",
    "\n",
    "<img alt=\"attnention-mask\" caption=\"For each batch, the input sequences are padded to the maximum sequence length in the batch; the attention mask is used in the model to ignore the padded areas of the input tensors\" src=\"media/attention-mask.png\" id=\"attention-mask\"/> "
   ]
  },
  {
   "cell_type": "markdown",
   "id": "1ed91d62-b5cd-40ec-b95b-f65f82e712d1",
   "metadata": {},
   "source": [
    "Once we've defined a processing function, we can apply it across all the splits in the corpus in a single line of code.\n",
    "\n",
    "`map()` operates individually on every example in the corpus, so setting `batched=True` will encode the tweets in batches. Because we've set `batch_size=None`, `tokenize()` will be applied on the full dataset as a single batch. "
   ]
  },
  {
   "cell_type": "code",
   "execution_count": 23,
   "id": "b5dfce58-9756-4194-a1ed-299ea2944cce",
   "metadata": {},
   "outputs": [],
   "source": [
    "emotions_encoded = emotions.map(tokenize, batched=True, batch_size=None)"
   ]
  },
  {
   "cell_type": "code",
   "execution_count": 24,
   "id": "3b4214b2-60e8-46f9-86e2-d1ccfe03a1b1",
   "metadata": {},
   "outputs": [
    {
     "name": "stdout",
     "output_type": "stream",
     "text": [
      "['text', 'label', 'input_ids', 'attention_mask']\n"
     ]
    }
   ],
   "source": [
    "print(emotions_encoded[\"train\"].column_names)"
   ]
  },
  {
   "cell_type": "markdown",
   "id": "a31cbd84-766b-4952-9a10-03d4186e1ee5",
   "metadata": {},
   "source": [
    "**Observation**\n",
    "\n",
    "- The input tensors and attention masks have the same shape globally\n",
    "- New `input_ids` and `attention_mask` columns to the dataset"
   ]
  },
  {
   "cell_type": "markdown",
   "id": "a327a33b-c91a-424a-b575-1fcc4777b9dd",
   "metadata": {},
   "source": [
    "## Training a text classifier"
   ]
  },
  {
   "cell_type": "markdown",
   "id": "fdad5722-c9a1-47a5-8589-b7c7bddc0ba6",
   "metadata": {},
   "source": [
    "Models like DistilBERT are pretrained to predict masked words in a sequence of text. \n",
    "\n",
    "But they aren't ready yet to directly do text classification. \n",
    "\n",
    "We have two options to train such a model on our Twitter dataset:\n",
    "\n",
    "- _Feature extraction_. Use the hidden states as features and train a classifier on them, without modifiying the pretrained model.\n",
    "- _Fine-tuning_. Train the whole model end-to-end, which also updates the parameters of the pretrained model.\r\n",
    "Let's explore both and examine the trade offs.el."
   ]
  },
  {
   "cell_type": "markdown",
   "id": "e2aca18d-230f-4c8c-804e-835d9b20ddc1",
   "metadata": {},
   "source": [
    "### Feature extraction"
   ]
  },
  {
   "cell_type": "markdown",
   "id": "a76c51c3-c0da-4ec8-956e-a9fa23151d59",
   "metadata": {},
   "source": [
    "When using a transformer as a feature extractor, freeze the body's weights during training and use the hidden states as features for the classifier. The advantage of this approach is that we can quickly train a small or shallow model. Such a model could be a neural classification layer or a method that does not rely on gradients, such as a random forest. This method is especially convenient if GPUs are unavailable, since the hidden states only need to be precomputed once.\n",
    "\n",
    "<img alt=\"encoder-features\" caption=\"In the feature-based approach, the DistilBERT model is frozen and just provides features for a classifier\" src=\"media/encoder-feature-based.png\" id=\"encoder-features\"/>"
   ]
  },
  {
   "cell_type": "markdown",
   "id": "cc6708f9-0621-41aa-80d4-b17fe2d6d4cb",
   "metadata": {},
   "source": [
    "Hugging Face Transfomers has a convenient auto class called `AutoModel`. It is similar to `AutoTokenizer` class, `AutoModel` has a `from_pretrained()` methodto load weights of the pretrained model.\n",
    "\n",
    "Let's load the DistilBERT checkpoint:"
   ]
  },
  {
   "cell_type": "code",
   "execution_count": 25,
   "id": "d48247d5-a85a-4325-974b-a26253402430",
   "metadata": {},
   "outputs": [],
   "source": [
    "from transformers import AutoModel\n",
    "\n",
    "model_ckpt = \"distilbert-base-uncased\"\n",
    "device = torch.device(\"cuda\" if torch.cuda.is_available() else \"cpu\")\n",
    "model = AutoModel.from_pretrained(model_ckpt).to(device)"
   ]
  },
  {
   "cell_type": "markdown",
   "id": "e732eff0-5007-4e9f-a4ad-a09817cea0b2",
   "metadata": {},
   "source": [
    "The preceding code uses PyTorch to check whether a GPU is available or not, and then chained the PyTorch `nn.Module.to()` method to the model loader. \n",
    "\n",
    "The `AutoModel` class converts the token encodings to embeddings, and then feeds them through the encoder stack to return the hidden states. Let's take a look at how we can extract these states from our corpus."
   ]
  },
  {
   "cell_type": "markdown",
   "id": "5343055a-40dd-41db-969f-bc22f38f269c",
   "metadata": {},
   "source": [
    "#### Extracting the last hidden states"
   ]
  },
  {
   "cell_type": "markdown",
   "id": "98680eed-51cd-457b-b818-cb1f04508578",
   "metadata": {},
   "source": [
    "Let's retrieve the last hidden states for a single string. The first thing we need to do is encode the string and convert the tokens to PyTorch tensors. This can be done by providing the `return_tensors=\"pt\"` argument to the tokenizer"
   ]
  },
  {
   "cell_type": "code",
   "execution_count": 26,
   "id": "15e995d6-02e4-4e26-a118-0b710cc3cd32",
   "metadata": {},
   "outputs": [
    {
     "name": "stdout",
     "output_type": "stream",
     "text": [
      "Input tensor shape: torch.Size([1, 6])\n"
     ]
    }
   ],
   "source": [
    "text = \"this is a test\"\n",
    "inputs = tokenizer(text, return_tensors=\"pt\")\n",
    "print(f\"Input tensor shape: {inputs['input_ids'].size()}\")"
   ]
  },
  {
   "cell_type": "markdown",
   "id": "2160aeef-1d52-4aa5-addb-1c9a6e6e98ef",
   "metadata": {},
   "source": [
    "the resulting tensor has the shape `[batch_size, n_tokens]`. Now that we have the encodings as a tensor, the final step is to place them on the same device as the model and pass the inputs"
   ]
  },
  {
   "cell_type": "code",
   "execution_count": 27,
   "id": "d333408d-6a70-4ee8-a3bd-2224a6c8c1ca",
   "metadata": {},
   "outputs": [
    {
     "name": "stdout",
     "output_type": "stream",
     "text": [
      "BaseModelOutput(last_hidden_state=tensor([[[-0.1565, -0.1862,  0.0528,  ..., -0.1188,  0.0662,  0.5470],\n",
      "         [-0.3575, -0.6484, -0.0618,  ..., -0.3040,  0.3508,  0.5221],\n",
      "         [-0.2772, -0.4459,  0.1818,  ..., -0.0948, -0.0076,  0.9958],\n",
      "         [-0.2841, -0.3917,  0.3753,  ..., -0.2151, -0.1173,  1.0526],\n",
      "         [ 0.2661, -0.5094, -0.3180,  ..., -0.4203,  0.0144, -0.2149],\n",
      "         [ 0.9441,  0.0112, -0.4714,  ...,  0.1439, -0.7288, -0.1619]]],\n",
      "       device='cuda:0'), hidden_states=None, attentions=None)\n"
     ]
    }
   ],
   "source": [
    "inputs = {k:v.to(device) for k,v in inputs.items()}\n",
    "with torch.no_grad():\n",
    "    outputs = model(**inputs)\n",
    "print(outputs)"
   ]
  },
  {
   "cell_type": "markdown",
   "id": "c3835d4c-80b8-46c3-834a-6fc25a8fe7f8",
   "metadata": {},
   "source": [
    "Here we've used the `torch.no_grad()` context manager to disable the automatic calculation of the gradient. This is useful for inference since it reduces the memory footprint of the computations. \n",
    "\n",
    "Depending on the model configuration, the output can contain several objects, such as the hidden states, losses, or attentions, arranged in a class similar to a `namedtuple` in Python. In our example, the model output is an instance of `BaseModelOutput`, and we can simply access its attributes by name. The current model returns only one attribute, which is the last hidden state, so let's examine its shape:"
   ]
  },
  {
   "cell_type": "code",
   "execution_count": 28,
   "id": "90771e26-4be6-4404-8830-ab5bd8ebdbab",
   "metadata": {},
   "outputs": [
    {
     "data": {
      "text/plain": [
       "torch.Size([1, 6, 768])"
      ]
     },
     "execution_count": 28,
     "metadata": {},
     "output_type": "execute_result"
    }
   ],
   "source": [
    "outputs.last_hidden_state.size()"
   ]
  },
  {
   "cell_type": "markdown",
   "id": "d1af0031-5a46-45b9-9c95-0c8a17d4bf32",
   "metadata": {},
   "source": [
    "Looking at the hidden state tensor, we see that it has the shape `[batch_size, n_tokens, hidden_dim]`. In other words, a 768-dimensional vector is returned for each of the 6 input tokens. For classification tasks, it is common practice to just use the hidden state associated with the `[CLS]` token as the input feature. Since this token appears at the start of each sequence, we can extract it by simply indexing into outputs.last_hidden_state as follows:"
   ]
  },
  {
   "cell_type": "code",
   "execution_count": 29,
   "id": "7829d523-f253-489d-b094-f547c9a95768",
   "metadata": {},
   "outputs": [
    {
     "data": {
      "text/plain": [
       "torch.Size([1, 768])"
      ]
     },
     "execution_count": 29,
     "metadata": {},
     "output_type": "execute_result"
    }
   ],
   "source": [
    "outputs.last_hidden_state[:,0].size()"
   ]
  },
  {
   "cell_type": "markdown",
   "id": "bf3ac710-0286-4457-9cf2-8474cbfe44bb",
   "metadata": {},
   "source": [
    "Now that we know how to get the last hidden state for a single string, let's do the same thing for the whole dataset by creating a new `hidden_state` column that stores all these vectors. As we did with the tokenizer, we'll use the `map()` method of `DatasetDict` to extract all the hidden states in one go. \n",
    "\n",
    "The first thing we need to do is wrap the previous steps in a processing function:"
   ]
  },
  {
   "cell_type": "code",
   "execution_count": 30,
   "id": "06f095b6-a1f8-4b20-8dd6-72f9aed63c5e",
   "metadata": {},
   "outputs": [],
   "source": [
    "def extract_hidden_states(batch):\n",
    "    # Place model inputs on the GPU\n",
    "    inputs = {k:v.to(device) for k,v in batch.items() \n",
    "              if k in tokenizer.model_input_names}\n",
    "    # Extract last hidden states\n",
    "    with torch.no_grad():\n",
    "        last_hidden_state = model(**inputs).last_hidden_state\n",
    "    # Return vector for [CLS] token\n",
    "    return {\"hidden_state\": last_hidden_state[:,0].cpu().numpy()}"
   ]
  },
  {
   "cell_type": "markdown",
   "id": "a13f8c64-7c17-4124-a259-c325176b4976",
   "metadata": {},
   "source": [
    "The only difference between this function and our previous logic is the final step where we place the final hidden state back on the CPU as a NumPy array. The `map()` method requires the processing function to return Python or NumPy objects when we're using batched inputs.\n",
    "\n",
    "Since our model expects tensors as inputs, the next thing to do is convert the `input_ids` and `attention_mas`k columns to the \"torch\" format, as follows:"
   ]
  },
  {
   "cell_type": "code",
   "execution_count": 31,
   "id": "d63dacd7-c3f8-4a09-a5f1-168f1bfe0a66",
   "metadata": {},
   "outputs": [],
   "source": [
    "emotions_encoded.set_format(\"torch\", \n",
    "                            columns=[\"input_ids\", \"attention_mask\", \"label\"])"
   ]
  },
  {
   "cell_type": "markdown",
   "id": "f560f6bb-a1f6-4d3f-a4eb-2220ad467e4d",
   "metadata": {},
   "source": [
    "Extract the hidden states across all splits in one go"
   ]
  },
  {
   "cell_type": "code",
   "execution_count": 32,
   "id": "2a12b82a-1d7b-4ab9-b389-8b4c46fed1af",
   "metadata": {},
   "outputs": [],
   "source": [
    "emotions_hidden = emotions_encoded.map(extract_hidden_states, batched=True)"
   ]
  },
  {
   "cell_type": "markdown",
   "id": "14c6506c-384e-4a54-add5-3fd892f2f0f1",
   "metadata": {},
   "source": [
    "Note that we did not set `batch_size=None` in this case, so the default `batch_size=1000` is used instead. As expected, applying the `extract_​hid⁠den_​states()` function has added a new hidden_state column to our dataset:"
   ]
  },
  {
   "cell_type": "code",
   "execution_count": 33,
   "id": "7a47491e-7ddf-4686-b4ee-e1d66a0b0a3c",
   "metadata": {},
   "outputs": [
    {
     "data": {
      "text/plain": [
       "['text', 'label', 'input_ids', 'attention_mask', 'hidden_state']"
      ]
     },
     "execution_count": 33,
     "metadata": {},
     "output_type": "execute_result"
    }
   ],
   "source": [
    "emotions_hidden[\"train\"].column_names"
   ]
  },
  {
   "cell_type": "markdown",
   "id": "0201f431-44fc-446d-9744-dee735e6b181",
   "metadata": {},
   "source": [
    "Now that we have the hidden states associated with each tweet, the next step is to train a classifier on them. To do that, we'll need a feature matrix."
   ]
  },
  {
   "cell_type": "markdown",
   "id": "5aabf749-c96b-43c9-8d17-c9c25d02dd36",
   "metadata": {},
   "source": [
    "#### Create a feature matrix"
   ]
  },
  {
   "cell_type": "markdown",
   "id": "a7b91294-7d58-4a47-a72c-c53fdee2a630",
   "metadata": {},
   "source": [
    "The preprocessed dataset now contains all the information we need to train a classifier on it. We will use the hidden states as input features and the labels as targets. We can easily create the corresponding arrays in the well-known Scikit-Learn format"
   ]
  },
  {
   "cell_type": "code",
   "execution_count": 34,
   "id": "ead89f86-b3cd-4bc8-ae21-636356adbae0",
   "metadata": {},
   "outputs": [
    {
     "data": {
      "text/plain": [
       "((16000, 768), (2000, 768))"
      ]
     },
     "execution_count": 34,
     "metadata": {},
     "output_type": "execute_result"
    }
   ],
   "source": [
    "import numpy as np\n",
    "\n",
    "X_train = np.array(emotions_hidden[\"train\"][\"hidden_state\"])\n",
    "X_valid = np.array(emotions_hidden[\"validation\"][\"hidden_state\"])\n",
    "y_train = np.array(emotions_hidden[\"train\"][\"label\"])\n",
    "y_valid = np.array(emotions_hidden[\"validation\"][\"label\"])\n",
    "X_train.shape, X_valid.shape"
   ]
  },
  {
   "cell_type": "markdown",
   "id": "c929784d-fcd8-4627-8405-11a21edf87d9",
   "metadata": {},
   "source": [
    "Before we train a model on the hidden states, it's good practice to perform a sanity check to ensure that they provide a useful representation of the emotions we want to classify. In the next section, we'll see how visualizing the features provides a fast way to achieve this"
   ]
  },
  {
   "cell_type": "markdown",
   "id": "7c97bc05-4bae-47b2-ab05-06f3b4decd64",
   "metadata": {},
   "source": [
    "#### Visualize the training set"
   ]
  },
  {
   "cell_type": "markdown",
   "id": "b5484de7-dd8e-4960-8c96-1628c5dca3ee",
   "metadata": {},
   "source": [
    "Since visualizing the hidden states in 768 dimensions is tricky to say the least, we'll use the powerful [UMAP](https://arxiv.org/abs/1802.03426) algorithm to project the vectors into 2D.\n",
    "\n",
    "Since UMAP works best when the features are scaled to lie in the [0,1] interval, we'll first apply a `MinMaxScaler` and then use the UMAP implementation from the umap-learn library to reduce the hidden states"
   ]
  },
  {
   "cell_type": "code",
   "execution_count": 35,
   "id": "a5029400-265f-4ed0-98e7-8a22409cd897",
   "metadata": {},
   "outputs": [
    {
     "data": {
      "text/html": [
       "<div>\n",
       "<style scoped>\n",
       "    .dataframe tbody tr th:only-of-type {\n",
       "        vertical-align: middle;\n",
       "    }\n",
       "\n",
       "    .dataframe tbody tr th {\n",
       "        vertical-align: top;\n",
       "    }\n",
       "\n",
       "    .dataframe thead th {\n",
       "        text-align: right;\n",
       "    }\n",
       "</style>\n",
       "<table border=\"1\" class=\"dataframe\">\n",
       "  <thead>\n",
       "    <tr style=\"text-align: right;\">\n",
       "      <th></th>\n",
       "      <th>X</th>\n",
       "      <th>Y</th>\n",
       "      <th>label</th>\n",
       "    </tr>\n",
       "  </thead>\n",
       "  <tbody>\n",
       "    <tr>\n",
       "      <th>0</th>\n",
       "      <td>4.022203</td>\n",
       "      <td>6.018363</td>\n",
       "      <td>0</td>\n",
       "    </tr>\n",
       "    <tr>\n",
       "      <th>1</th>\n",
       "      <td>-3.174545</td>\n",
       "      <td>5.178780</td>\n",
       "      <td>0</td>\n",
       "    </tr>\n",
       "    <tr>\n",
       "      <th>2</th>\n",
       "      <td>4.911689</td>\n",
       "      <td>2.739875</td>\n",
       "      <td>3</td>\n",
       "    </tr>\n",
       "    <tr>\n",
       "      <th>3</th>\n",
       "      <td>-2.659470</td>\n",
       "      <td>3.074447</td>\n",
       "      <td>2</td>\n",
       "    </tr>\n",
       "    <tr>\n",
       "      <th>4</th>\n",
       "      <td>-3.497692</td>\n",
       "      <td>3.297086</td>\n",
       "      <td>3</td>\n",
       "    </tr>\n",
       "  </tbody>\n",
       "</table>\n",
       "</div>"
      ],
      "text/plain": [
       "          X         Y  label\n",
       "0  4.022203  6.018363      0\n",
       "1 -3.174545  5.178780      0\n",
       "2  4.911689  2.739875      3\n",
       "3 -2.659470  3.074447      2\n",
       "4 -3.497692  3.297086      3"
      ]
     },
     "execution_count": 35,
     "metadata": {},
     "output_type": "execute_result"
    }
   ],
   "source": [
    "from umap import UMAP\n",
    "from sklearn.preprocessing import MinMaxScaler\n",
    "\n",
    "# Scale features to [0,1] range\n",
    "X_scaled = MinMaxScaler().fit_transform(X_train)\n",
    "# Initialize and fit UMAP\n",
    "mapper = UMAP(n_components=2, metric=\"cosine\").fit(X_scaled)\n",
    "# Create a DataFrame of 2D embeddings\n",
    "df_emb = pd.DataFrame(mapper.embedding_, columns=[\"X\", \"Y\"])\n",
    "df_emb[\"label\"] = y_train\n",
    "df_emb.head()"
   ]
  },
  {
   "cell_type": "markdown",
   "id": "b2119c32-bb9a-4fac-b4a5-72d2d4f9e7e3",
   "metadata": {},
   "source": [
    "The result is an array with the same number of training samples, but with only 2 features instead of the 768 we started with! Let's investigate the compressed data a little bit further and plot the density of points for each category separately:"
   ]
  },
  {
   "cell_type": "code",
   "execution_count": 36,
   "id": "64d3efec-5b52-417d-b3d6-fdef845d7099",
   "metadata": {},
   "outputs": [
    {
     "data": {
      "image/png": "[encoded data removed]",
      "text/plain": [
       "<Figure size 700x500 with 6 Axes>"
      ]
     },
     "metadata": {},
     "output_type": "display_data"
    }
   ],
   "source": [
    "fig, axes = plt.subplots(2, 3, figsize=(7,5))\n",
    "axes = axes.flatten()\n",
    "cmaps = [\"Greys\", \"Blues\", \"Oranges\", \"Reds\", \"Purples\", \"Greens\"]\n",
    "labels = emotions[\"train\"].features[\"label\"].names\n",
    "\n",
    "for i, (label, cmap) in enumerate(zip(labels, cmaps)):\n",
    "    df_emb_sub = df_emb.query(f\"label == {i}\")\n",
    "    axes[i].hexbin(df_emb_sub[\"X\"], df_emb_sub[\"Y\"], cmap=cmap,\n",
    "                   gridsize=20, linewidths=(0,))\n",
    "    axes[i].set_title(label)\n",
    "    axes[i].set_xticks([]), axes[i].set_yticks([])\n",
    "\n",
    "plt.tight_layout()\n",
    "plt.show()"
   ]
  },
  {
   "cell_type": "markdown",
   "id": "7596b7bb-1083-480b-879e-52d4e90cefda",
   "metadata": {},
   "source": [
    "**Observations**\n",
    "\n",
    "From this plot we can see some clear patterns: \n",
    "\n",
    "- The negative feelings such as `sadness`, `anger`, and `fear` all occupy similar regions with slightly varying distributions.\n",
    "- `joy` and `love` are well separated from the negative emotions and also share a similar space. Finally, surprise is scattered all over the place. Although we may have hoped for some separation, this is in no way guaranteed since the model was not trained to know the difference between these emotions. It only learned them implicitly by guessing the masked words in texts."
   ]
  },
  {
   "cell_type": "markdown",
   "id": "10dd57df-c4e6-4b6b-a592-3a5635f4f9ba",
   "metadata": {},
   "source": [
    "#### Training a simple classifier"
   ]
  },
  {
   "cell_type": "markdown",
   "id": "2a1cc137-8bf4-4841-9907-f63bddcb9544",
   "metadata": {},
   "source": [
    "We've seen that the hidden states are somewhat different between the emotions, although for several of them there is no obvious boundary. Let's use these hidden states to train a logistic regression model with Scikit-Learn. Training such a simple model is fast and does not require a GPU:"
   ]
  },
  {
   "cell_type": "code",
   "execution_count": 37,
   "id": "f2827497-9146-41b1-990a-657b86468764",
   "metadata": {},
   "outputs": [
    {
     "data": {
      "text/html": [
       "<style>#sk-container-id-1 {\n",
       "  /* Definition of color scheme common for light and dark mode */\n",
       "  --sklearn-color-text: black;\n",
       "  --sklearn-color-line: gray;\n",
       "  /* Definition of color scheme for unfitted estimators */\n",
       "  --sklearn-color-unfitted-level-0: #fff5e6;\n",
       "  --sklearn-color-unfitted-level-1: #f6e4d2;\n",
       "  --sklearn-color-unfitted-level-2: #ffe0b3;\n",
       "  --sklearn-color-unfitted-level-3: chocolate;\n",
       "  /* Definition of color scheme for fitted estimators */\n",
       "  --sklearn-color-fitted-level-0: #f0f8ff;\n",
       "  --sklearn-color-fitted-level-1: #d4ebff;\n",
       "  --sklearn-color-fitted-level-2: #b3dbfd;\n",
       "  --sklearn-color-fitted-level-3: cornflowerblue;\n",
       "\n",
       "  /* Specific color for light theme */\n",
       "  --sklearn-color-text-on-default-background: var(--sg-text-color, var(--theme-code-foreground, var(--jp-content-font-color1, black)));\n",
       "  --sklearn-color-background: var(--sg-background-color, var(--theme-background, var(--jp-layout-color0, white)));\n",
       "  --sklearn-color-border-box: var(--sg-text-color, var(--theme-code-foreground, var(--jp-content-font-color1, black)));\n",
       "  --sklearn-color-icon: #696969;\n",
       "\n",
       "  @media (prefers-color-scheme: dark) {\n",
       "    /* Redefinition of color scheme for dark theme */\n",
       "    --sklearn-color-text-on-default-background: var(--sg-text-color, var(--theme-code-foreground, var(--jp-content-font-color1, white)));\n",
       "    --sklearn-color-background: var(--sg-background-color, var(--theme-background, var(--jp-layout-color0, #111)));\n",
       "    --sklearn-color-border-box: var(--sg-text-color, var(--theme-code-foreground, var(--jp-content-font-color1, white)));\n",
       "    --sklearn-color-icon: #878787;\n",
       "  }\n",
       "}\n",
       "\n",
       "#sk-container-id-1 {\n",
       "  color: var(--sklearn-color-text);\n",
       "}\n",
       "\n",
       "#sk-container-id-1 pre {\n",
       "  padding: 0;\n",
       "}\n",
       "\n",
       "#sk-container-id-1 input.sk-hidden--visually {\n",
       "  border: 0;\n",
       "  clip: rect(1px 1px 1px 1px);\n",
       "  clip: rect(1px, 1px, 1px, 1px);\n",
       "  height: 1px;\n",
       "  margin: -1px;\n",
       "  overflow: hidden;\n",
       "  padding: 0;\n",
       "  position: absolute;\n",
       "  width: 1px;\n",
       "}\n",
       "\n",
       "#sk-container-id-1 div.sk-dashed-wrapped {\n",
       "  border: 1px dashed var(--sklearn-color-line);\n",
       "  margin: 0 0.4em 0.5em 0.4em;\n",
       "  box-sizing: border-box;\n",
       "  padding-bottom: 0.4em;\n",
       "  background-color: var(--sklearn-color-background);\n",
       "}\n",
       "\n",
       "#sk-container-id-1 div.sk-container {\n",
       "  /* jupyter's `normalize.less` sets `[hidden] { display: none; }`\n",
       "     but bootstrap.min.css set `[hidden] { display: none !important; }`\n",
       "     so we also need the `!important` here to be able to override the\n",
       "     default hidden behavior on the sphinx rendered scikit-learn.org.\n",
       "     See: https://github.com/scikit-learn/scikit-learn/issues/21755 */\n",
       "  display: inline-block !important;\n",
       "  position: relative;\n",
       "}\n",
       "\n",
       "#sk-container-id-1 div.sk-text-repr-fallback {\n",
       "  display: none;\n",
       "}\n",
       "\n",
       "div.sk-parallel-item,\n",
       "div.sk-serial,\n",
       "div.sk-item {\n",
       "  /* draw centered vertical line to link estimators */\n",
       "  background-image: linear-gradient(var(--sklearn-color-text-on-default-background), var(--sklearn-color-text-on-default-background));\n",
       "  background-size: 2px 100%;\n",
       "  background-repeat: no-repeat;\n",
       "  background-position: center center;\n",
       "}\n",
       "\n",
       "/* Parallel-specific style estimator block */\n",
       "\n",
       "#sk-container-id-1 div.sk-parallel-item::after {\n",
       "  content: \"\";\n",
       "  width: 100%;\n",
       "  border-bottom: 2px solid var(--sklearn-color-text-on-default-background);\n",
       "  flex-grow: 1;\n",
       "}\n",
       "\n",
       "#sk-container-id-1 div.sk-parallel {\n",
       "  display: flex;\n",
       "  align-items: stretch;\n",
       "  justify-content: center;\n",
       "  background-color: var(--sklearn-color-background);\n",
       "  position: relative;\n",
       "}\n",
       "\n",
       "#sk-container-id-1 div.sk-parallel-item {\n",
       "  display: flex;\n",
       "  flex-direction: column;\n",
       "}\n",
       "\n",
       "#sk-container-id-1 div.sk-parallel-item:first-child::after {\n",
       "  align-self: flex-end;\n",
       "  width: 50%;\n",
       "}\n",
       "\n",
       "#sk-container-id-1 div.sk-parallel-item:last-child::after {\n",
       "  align-self: flex-start;\n",
       "  width: 50%;\n",
       "}\n",
       "\n",
       "#sk-container-id-1 div.sk-parallel-item:only-child::after {\n",
       "  width: 0;\n",
       "}\n",
       "\n",
       "/* Serial-specific style estimator block */\n",
       "\n",
       "#sk-container-id-1 div.sk-serial {\n",
       "  display: flex;\n",
       "  flex-direction: column;\n",
       "  align-items: center;\n",
       "  background-color: var(--sklearn-color-background);\n",
       "  padding-right: 1em;\n",
       "  padding-left: 1em;\n",
       "}\n",
       "\n",
       "\n",
       "/* Toggleable style: style used for estimator/Pipeline/ColumnTransformer box that is\n",
       "clickable and can be expanded/collapsed.\n",
       "- Pipeline and ColumnTransformer use this feature and define the default style\n",
       "- Estimators will overwrite some part of the style using the `sk-estimator` class\n",
       "*/\n",
       "\n",
       "/* Pipeline and ColumnTransformer style (default) */\n",
       "\n",
       "#sk-container-id-1 div.sk-toggleable {\n",
       "  /* Default theme specific background. It is overwritten whether we have a\n",
       "  specific estimator or a Pipeline/ColumnTransformer */\n",
       "  background-color: var(--sklearn-color-background);\n",
       "}\n",
       "\n",
       "/* Toggleable label */\n",
       "#sk-container-id-1 label.sk-toggleable__label {\n",
       "  cursor: pointer;\n",
       "  display: block;\n",
       "  width: 100%;\n",
       "  margin-bottom: 0;\n",
       "  padding: 0.5em;\n",
       "  box-sizing: border-box;\n",
       "  text-align: center;\n",
       "}\n",
       "\n",
       "#sk-container-id-1 label.sk-toggleable__label-arrow:before {\n",
       "  /* Arrow on the left of the label */\n",
       "  content: \"▸\";\n",
       "  float: left;\n",
       "  margin-right: 0.25em;\n",
       "  color: var(--sklearn-color-icon);\n",
       "}\n",
       "\n",
       "#sk-container-id-1 label.sk-toggleable__label-arrow:hover:before {\n",
       "  color: var(--sklearn-color-text);\n",
       "}\n",
       "\n",
       "/* Toggleable content - dropdown */\n",
       "\n",
       "#sk-container-id-1 div.sk-toggleable__content {\n",
       "  max-height: 0;\n",
       "  max-width: 0;\n",
       "  overflow: hidden;\n",
       "  text-align: left;\n",
       "  /* unfitted */\n",
       "  background-color: var(--sklearn-color-unfitted-level-0);\n",
       "}\n",
       "\n",
       "#sk-container-id-1 div.sk-toggleable__content.fitted {\n",
       "  /* fitted */\n",
       "  background-color: var(--sklearn-color-fitted-level-0);\n",
       "}\n",
       "\n",
       "#sk-container-id-1 div.sk-toggleable__content pre {\n",
       "  margin: 0.2em;\n",
       "  border-radius: 0.25em;\n",
       "  color: var(--sklearn-color-text);\n",
       "  /* unfitted */\n",
       "  background-color: var(--sklearn-color-unfitted-level-0);\n",
       "}\n",
       "\n",
       "#sk-container-id-1 div.sk-toggleable__content.fitted pre {\n",
       "  /* unfitted */\n",
       "  background-color: var(--sklearn-color-fitted-level-0);\n",
       "}\n",
       "\n",
       "#sk-container-id-1 input.sk-toggleable__control:checked~div.sk-toggleable__content {\n",
       "  /* Expand drop-down */\n",
       "  max-height: 200px;\n",
       "  max-width: 100%;\n",
       "  overflow: auto;\n",
       "}\n",
       "\n",
       "#sk-container-id-1 input.sk-toggleable__control:checked~label.sk-toggleable__label-arrow:before {\n",
       "  content: \"▾\";\n",
       "}\n",
       "\n",
       "/* Pipeline/ColumnTransformer-specific style */\n",
       "\n",
       "#sk-container-id-1 div.sk-label input.sk-toggleable__control:checked~label.sk-toggleable__label {\n",
       "  color: var(--sklearn-color-text);\n",
       "  background-color: var(--sklearn-color-unfitted-level-2);\n",
       "}\n",
       "\n",
       "#sk-container-id-1 div.sk-label.fitted input.sk-toggleable__control:checked~label.sk-toggleable__label {\n",
       "  background-color: var(--sklearn-color-fitted-level-2);\n",
       "}\n",
       "\n",
       "/* Estimator-specific style */\n",
       "\n",
       "/* Colorize estimator box */\n",
       "#sk-container-id-1 div.sk-estimator input.sk-toggleable__control:checked~label.sk-toggleable__label {\n",
       "  /* unfitted */\n",
       "  background-color: var(--sklearn-color-unfitted-level-2);\n",
       "}\n",
       "\n",
       "#sk-container-id-1 div.sk-estimator.fitted input.sk-toggleable__control:checked~label.sk-toggleable__label {\n",
       "  /* fitted */\n",
       "  background-color: var(--sklearn-color-fitted-level-2);\n",
       "}\n",
       "\n",
       "#sk-container-id-1 div.sk-label label.sk-toggleable__label,\n",
       "#sk-container-id-1 div.sk-label label {\n",
       "  /* The background is the default theme color */\n",
       "  color: var(--sklearn-color-text-on-default-background);\n",
       "}\n",
       "\n",
       "/* On hover, darken the color of the background */\n",
       "#sk-container-id-1 div.sk-label:hover label.sk-toggleable__label {\n",
       "  color: var(--sklearn-color-text);\n",
       "  background-color: var(--sklearn-color-unfitted-level-2);\n",
       "}\n",
       "\n",
       "/* Label box, darken color on hover, fitted */\n",
       "#sk-container-id-1 div.sk-label.fitted:hover label.sk-toggleable__label.fitted {\n",
       "  color: var(--sklearn-color-text);\n",
       "  background-color: var(--sklearn-color-fitted-level-2);\n",
       "}\n",
       "\n",
       "/* Estimator label */\n",
       "\n",
       "#sk-container-id-1 div.sk-label label {\n",
       "  font-family: monospace;\n",
       "  font-weight: bold;\n",
       "  display: inline-block;\n",
       "  line-height: 1.2em;\n",
       "}\n",
       "\n",
       "#sk-container-id-1 div.sk-label-container {\n",
       "  text-align: center;\n",
       "}\n",
       "\n",
       "/* Estimator-specific */\n",
       "#sk-container-id-1 div.sk-estimator {\n",
       "  font-family: monospace;\n",
       "  border: 1px dotted var(--sklearn-color-border-box);\n",
       "  border-radius: 0.25em;\n",
       "  box-sizing: border-box;\n",
       "  margin-bottom: 0.5em;\n",
       "  /* unfitted */\n",
       "  background-color: var(--sklearn-color-unfitted-level-0);\n",
       "}\n",
       "\n",
       "#sk-container-id-1 div.sk-estimator.fitted {\n",
       "  /* fitted */\n",
       "  background-color: var(--sklearn-color-fitted-level-0);\n",
       "}\n",
       "\n",
       "/* on hover */\n",
       "#sk-container-id-1 div.sk-estimator:hover {\n",
       "  /* unfitted */\n",
       "  background-color: var(--sklearn-color-unfitted-level-2);\n",
       "}\n",
       "\n",
       "#sk-container-id-1 div.sk-estimator.fitted:hover {\n",
       "  /* fitted */\n",
       "  background-color: var(--sklearn-color-fitted-level-2);\n",
       "}\n",
       "\n",
       "/* Specification for estimator info (e.g. \"i\" and \"?\") */\n",
       "\n",
       "/* Common style for \"i\" and \"?\" */\n",
       "\n",
       ".sk-estimator-doc-link,\n",
       "a:link.sk-estimator-doc-link,\n",
       "a:visited.sk-estimator-doc-link {\n",
       "  float: right;\n",
       "  font-size: smaller;\n",
       "  line-height: 1em;\n",
       "  font-family: monospace;\n",
       "  background-color: var(--sklearn-color-background);\n",
       "  border-radius: 1em;\n",
       "  height: 1em;\n",
       "  width: 1em;\n",
       "  text-decoration: none !important;\n",
       "  margin-left: 1ex;\n",
       "  /* unfitted */\n",
       "  border: var(--sklearn-color-unfitted-level-1) 1pt solid;\n",
       "  color: var(--sklearn-color-unfitted-level-1);\n",
       "}\n",
       "\n",
       ".sk-estimator-doc-link.fitted,\n",
       "a:link.sk-estimator-doc-link.fitted,\n",
       "a:visited.sk-estimator-doc-link.fitted {\n",
       "  /* fitted */\n",
       "  border: var(--sklearn-color-fitted-level-1) 1pt solid;\n",
       "  color: var(--sklearn-color-fitted-level-1);\n",
       "}\n",
       "\n",
       "/* On hover */\n",
       "div.sk-estimator:hover .sk-estimator-doc-link:hover,\n",
       ".sk-estimator-doc-link:hover,\n",
       "div.sk-label-container:hover .sk-estimator-doc-link:hover,\n",
       ".sk-estimator-doc-link:hover {\n",
       "  /* unfitted */\n",
       "  background-color: var(--sklearn-color-unfitted-level-3);\n",
       "  color: var(--sklearn-color-background);\n",
       "  text-decoration: none;\n",
       "}\n",
       "\n",
       "div.sk-estimator.fitted:hover .sk-estimator-doc-link.fitted:hover,\n",
       ".sk-estimator-doc-link.fitted:hover,\n",
       "div.sk-label-container:hover .sk-estimator-doc-link.fitted:hover,\n",
       ".sk-estimator-doc-link.fitted:hover {\n",
       "  /* fitted */\n",
       "  background-color: var(--sklearn-color-fitted-level-3);\n",
       "  color: var(--sklearn-color-background);\n",
       "  text-decoration: none;\n",
       "}\n",
       "\n",
       "/* Span, style for the box shown on hovering the info icon */\n",
       ".sk-estimator-doc-link span {\n",
       "  display: none;\n",
       "  z-index: 9999;\n",
       "  position: relative;\n",
       "  font-weight: normal;\n",
       "  right: .2ex;\n",
       "  padding: .5ex;\n",
       "  margin: .5ex;\n",
       "  width: min-content;\n",
       "  min-width: 20ex;\n",
       "  max-width: 50ex;\n",
       "  color: var(--sklearn-color-text);\n",
       "  box-shadow: 2pt 2pt 4pt #999;\n",
       "  /* unfitted */\n",
       "  background: var(--sklearn-color-unfitted-level-0);\n",
       "  border: .5pt solid var(--sklearn-color-unfitted-level-3);\n",
       "}\n",
       "\n",
       ".sk-estimator-doc-link.fitted span {\n",
       "  /* fitted */\n",
       "  background: var(--sklearn-color-fitted-level-0);\n",
       "  border: var(--sklearn-color-fitted-level-3);\n",
       "}\n",
       "\n",
       ".sk-estimator-doc-link:hover span {\n",
       "  display: block;\n",
       "}\n",
       "\n",
       "/* \"?\"-specific style due to the `<a>` HTML tag */\n",
       "\n",
       "#sk-container-id-1 a.estimator_doc_link {\n",
       "  float: right;\n",
       "  font-size: 1rem;\n",
       "  line-height: 1em;\n",
       "  font-family: monospace;\n",
       "  background-color: var(--sklearn-color-background);\n",
       "  border-radius: 1rem;\n",
       "  height: 1rem;\n",
       "  width: 1rem;\n",
       "  text-decoration: none;\n",
       "  /* unfitted */\n",
       "  color: var(--sklearn-color-unfitted-level-1);\n",
       "  border: var(--sklearn-color-unfitted-level-1) 1pt solid;\n",
       "}\n",
       "\n",
       "#sk-container-id-1 a.estimator_doc_link.fitted {\n",
       "  /* fitted */\n",
       "  border: var(--sklearn-color-fitted-level-1) 1pt solid;\n",
       "  color: var(--sklearn-color-fitted-level-1);\n",
       "}\n",
       "\n",
       "/* On hover */\n",
       "#sk-container-id-1 a.estimator_doc_link:hover {\n",
       "  /* unfitted */\n",
       "  background-color: var(--sklearn-color-unfitted-level-3);\n",
       "  color: var(--sklearn-color-background);\n",
       "  text-decoration: none;\n",
       "}\n",
       "\n",
       "#sk-container-id-1 a.estimator_doc_link.fitted:hover {\n",
       "  /* fitted */\n",
       "  background-color: var(--sklearn-color-fitted-level-3);\n",
       "}\n",
       "</style><div id=\"sk-container-id-1\" class=\"sk-top-container\"><div class=\"sk-text-repr-fallback\"><pre>LogisticRegression(max_iter=3000)</pre><b>In a Jupyter environment, please rerun this cell to show the HTML representation or trust the notebook. <br />On GitHub, the HTML representation is unable to render, please try loading this page with nbviewer.org.</b></div><div class=\"sk-container\" hidden><div class=\"sk-item\"><div class=\"sk-estimator fitted sk-toggleable\"><input class=\"sk-toggleable__control sk-hidden--visually\" id=\"sk-estimator-id-1\" type=\"checkbox\" checked><label for=\"sk-estimator-id-1\" class=\"sk-toggleable__label fitted sk-toggleable__label-arrow fitted\">&nbsp;&nbsp;LogisticRegression<a class=\"sk-estimator-doc-link fitted\" rel=\"noreferrer\" target=\"_blank\" href=\"https://scikit-learn.org/1.5/modules/generated/sklearn.linear_model.LogisticRegression.html\">?<span>Documentation for LogisticRegression</span></a><span class=\"sk-estimator-doc-link fitted\">i<span>Fitted</span></span></label><div class=\"sk-toggleable__content fitted\"><pre>LogisticRegression(max_iter=3000)</pre></div> </div></div></div></div>"
      ],
      "text/plain": [
       "LogisticRegression(max_iter=3000)"
      ]
     },
     "execution_count": 37,
     "metadata": {},
     "output_type": "execute_result"
    }
   ],
   "source": [
    "# We increase `max_iter` to guarantee convergence \n",
    "from sklearn.linear_model import LogisticRegression\n",
    "\n",
    "lr_clf = LogisticRegression(max_iter=3000)\n",
    "lr_clf.fit(X_train, y_train)"
   ]
  },
  {
   "cell_type": "code",
   "execution_count": 38,
   "id": "79e0272a-d9ac-44f1-8da7-ae74f0fc740c",
   "metadata": {},
   "outputs": [
    {
     "data": {
      "text/plain": [
       "0.6335"
      ]
     },
     "execution_count": 38,
     "metadata": {},
     "output_type": "execute_result"
    }
   ],
   "source": [
    "lr_clf.score(X_valid, y_valid)"
   ]
  },
  {
   "cell_type": "markdown",
   "id": "8f5732d0-9459-4028-9cbd-4c399319f39d",
   "metadata": {},
   "source": [
    "**Observation**\n",
    "\n",
    "Looking at the accuracy, it might appear that our model is just a bit better than random—but since we are dealing with an unbalanced multiclass dataset, it's actually significantly better. \n",
    "\n",
    "We can examine whether our model is any good by comparing it against a simple baseline. \n",
    "\n",
    "In Scikit-Learn there is a `DummyClassifier` that can be used to build a classifier with simple heuristics such as always choosing the majority class or always drawing a random class. In this case the best-performing heuristic is to always choose the most frequent class, which yields an accuracy of about 35%:"
   ]
  },
  {
   "cell_type": "code",
   "execution_count": 39,
   "id": "861ae87d-8de4-4d52-9cb2-88434a1f7fc0",
   "metadata": {},
   "outputs": [
    {
     "data": {
      "text/plain": [
       "0.352"
      ]
     },
     "execution_count": 39,
     "metadata": {},
     "output_type": "execute_result"
    }
   ],
   "source": [
    "from sklearn.dummy import DummyClassifier\n",
    "\n",
    "dummy_clf = DummyClassifier(strategy=\"most_frequent\")\n",
    "dummy_clf.fit(X_train, y_train)\n",
    "dummy_clf.score(X_valid, y_valid)"
   ]
  },
  {
   "cell_type": "markdown",
   "id": "1262660b-3a2e-4e79-a286-0e965c90a16f",
   "metadata": {},
   "source": [
    "So, our simple classifier with DistilBERT embeddings is significantly better than our baseline. We can further investigate the performance of the model by looking at the confusion matrix of the classifier, which tells us the relationship between the true and predicted labels"
   ]
  },
  {
   "cell_type": "code",
   "execution_count": 40,
   "id": "fd85e8c3-9878-4798-bfdf-8b9bb32165f1",
   "metadata": {},
   "outputs": [
    {
     "data": {
      "image/png": "[encoded data removed]",
      "text/plain": [
       "<Figure size 600x600 with 1 Axes>"
      ]
     },
     "metadata": {},
     "output_type": "display_data"
    }
   ],
   "source": [
    "from sklearn.metrics import ConfusionMatrixDisplay, confusion_matrix\n",
    "\n",
    "def plot_confusion_matrix(y_preds, y_true, labels):\n",
    "    cm = confusion_matrix(y_true, y_preds, normalize=\"true\")\n",
    "    fig, ax = plt.subplots(figsize=(6, 6))\n",
    "    disp = ConfusionMatrixDisplay(confusion_matrix=cm, display_labels=labels)\n",
    "    disp.plot(cmap=\"Blues\", values_format=\".2f\", ax=ax, colorbar=False)\n",
    "    plt.title(\"Normalized confusion matrix\")\n",
    "    plt.show()\n",
    "    \n",
    "y_preds = lr_clf.predict(X_valid)\n",
    "plot_confusion_matrix(y_preds, y_valid, labels)"
   ]
  },
  {
   "cell_type": "markdown",
   "id": "f5362adf-702b-437d-9f2d-6858e23f68af",
   "metadata": {},
   "source": [
    "**Observation**\n",
    "\n",
    "- `anger` and `fear` are most often confused with sadness, which agrees with the observation we made when visualizing the embeddings.\n",
    "- `love` and `surprise` are frequently mistaken for `joy`."
   ]
  },
  {
   "cell_type": "markdown",
   "id": "e8bab2d3-fc9a-49c0-8554-66c6a8100553",
   "metadata": {},
   "source": [
    "In the next section we will explore the fine-tuning approach, which leads to superior classification performance. It is, however, important to note that doing this requires more computational resources, such as GPUs, that might not be available in your organization. In cases like these, a feature-based approach can be a good compromise between doing traditional machine learning and deep learning."
   ]
  },
  {
   "cell_type": "markdown",
   "id": "d23ed6c3-c7b5-4c25-a2d3-ab7a43053f5b",
   "metadata": {},
   "source": [
    "### Fine-tuning transformers"
   ]
  },
  {
   "cell_type": "markdown",
   "id": "a5fb83db-77b0-49fd-bbad-3a74d9acbde4",
   "metadata": {},
   "source": [
    "Let's explore what it takes to fine-tune a transformer end-to-end. With the fine-tuning approach we do not use the hidden states as fixed features, but instead train them as shown un the following illustration. This requires the classification head to be differentiable, which is why this method usually uses a neural network for classification.\n",
    "\n",
    "<img alt=\"encoder-tuning\" caption=\"When using the fine-tuning approach the whole DistilBERT model is trained along with the classification head\" src=\"media/encoder-fine-tuning.png\" id=\"encoder-tuning\"/>"
   ]
  },
  {
   "cell_type": "markdown",
   "id": "52cb3134-b68d-4ef8-b955-8827201497a8",
   "metadata": {},
   "source": [
    "Training the hidden states that serve as inputs to the classification model will help us avoid the problem of working with data that may not be well suited for the classification task. Instead, the initial hidden states adapt during training to decrease the model loss and thus increase its performance.\n",
    "\n",
    "Let's use `Trainer` API from Hugging Face Transformers to simplify the training loop. "
   ]
  },
  {
   "cell_type": "markdown",
   "id": "e2eab6b9-fb47-49ca-889b-7d8dbcb3fb9f",
   "metadata": {},
   "source": [
    "#### Load a pretrained model"
   ]
  },
  {
   "cell_type": "markdown",
   "id": "08ad9b6e-ee77-445a-9348-1fa6d8c7f140",
   "metadata": {},
   "source": [
    "The first thing we need is a pretrained DistilBERT model like the one we used in the feature-based approach. The only slight modification is that we use the `AutoModelForSequenceClassification` model instead of `AutoModel`. \n",
    "\n",
    "The difference is that the `AutoModelForSequenceClassification` model has a classification head on top of the pretrained model outputs, which can be easily trained with the base model. We just need to specify how many labels the model has to predict (six in our case), since this dictates the number of outputs the classification head has"
   ]
  },
  {
   "cell_type": "code",
   "execution_count": 41,
   "id": "9510dee3-11c2-4504-b04e-270f2e1e0cd9",
   "metadata": {},
   "outputs": [
    {
     "name": "stderr",
     "output_type": "stream",
     "text": [
      "Some weights of DistilBertForSequenceClassification were not initialized from the model checkpoint at distilbert-base-uncased and are newly initialized: ['classifier.bias', 'classifier.weight', 'pre_classifier.bias', 'pre_classifier.weight']\n",
      "You should probably TRAIN this model on a down-stream task to be able to use it for predictions and inference.\n"
     ]
    }
   ],
   "source": [
    "from transformers import AutoModelForSequenceClassification\n",
    "\n",
    "num_labels = 6\n",
    "model = (AutoModelForSequenceClassification\n",
    "         .from_pretrained(model_ckpt, num_labels=num_labels)\n",
    "         .to(device))"
   ]
  },
  {
   "cell_type": "markdown",
   "id": "d94143f7-b96d-4513-adcd-1035e9c2bcbb",
   "metadata": {},
   "source": [
    "You will see a warning that some parts of the model are randomly initialized. This is normal since the classification head has not yet been trained. "
   ]
  },
  {
   "cell_type": "markdown",
   "id": "1a7f78cc-d466-42bb-b8d8-0468c1efdca7",
   "metadata": {},
   "source": [
    "#### Define the performance metrics"
   ]
  },
  {
   "cell_type": "markdown",
   "id": "567e7573-8ea8-4246-8241-55b5f0f6ef48",
   "metadata": {},
   "source": [
    "To monitor metrics during training, we need to define a `compute_metrics()` function for the `Trainer`. This function receives an `EvalPrediction` object (which is a named tuple with `predictions` and `label_ids` attributes) and needs to return a dictionary that maps each metric's name to its value. For our application, we'll compute the $F_1$-score and the accuracy of the model :"
   ]
  },
  {
   "cell_type": "code",
   "execution_count": 42,
   "id": "4264d30c-f05e-424b-b4b0-fe012bb22ff3",
   "metadata": {},
   "outputs": [],
   "source": [
    "from sklearn.metrics import accuracy_score, f1_score\n",
    "\n",
    "def compute_metrics(pred):\n",
    "    labels = pred.label_ids\n",
    "    preds = pred.predictions.argmax(-1)\n",
    "    f1 = f1_score(labels, preds, average=\"weighted\")\n",
    "    acc = accuracy_score(labels, preds)\n",
    "    return {\"accuracy\": acc, \"f1\": f1}"
   ]
  },
  {
   "cell_type": "markdown",
   "id": "2c902fc0-71be-4a8e-807e-16b9d7637b73",
   "metadata": {},
   "source": [
    "#### Train the model"
   ]
  },
  {
   "cell_type": "markdown",
   "id": "db961e37-1ad8-449d-ac80-e5077ff45b45",
   "metadata": {},
   "source": [
    "With the dataset and metrics ready, we just have two final things to take care of before we define the `Trainer` class:\n",
    "\n",
    "1. Log in to our account on the Hugging Face Hub. This will allow us to push our fine-tuned model to our account on the Hub and share it with the community.\n",
    "2. Define all the hyperparameters for the training run."
   ]
  },
  {
   "cell_type": "code",
   "execution_count": 43,
   "id": "af112f01-1165-4db6-b81e-3967b01d0baa",
   "metadata": {},
   "outputs": [
    {
     "data": {
      "application/vnd.jupyter.widget-view+json": {
       "model_id": "6678a07820594a948f9a69fab8b4785b",
       "version_major": 2,
       "version_minor": 0
      },
      "text/plain": [
       "VBox(children=(HTML(value='<center> <img\\nsrc=https://huggingface.co/front/assets/huggingface_logo-noborder.sv…"
      ]
     },
     "metadata": {},
     "output_type": "display_data"
    }
   ],
   "source": [
    "from huggingface_hub import notebook_login\n",
    "\n",
    "notebook_login()"
   ]
  },
  {
   "cell_type": "markdown",
   "id": "910b4415-d6be-41bb-b1d8-e69c223292da",
   "metadata": {},
   "source": [
    "This will display a widget in which you can enter your username and password, or an access token with write privileges. You can find details on how to create access tokens in the [Hub documentation](https://huggingface.co/docs/hub/security#user-access-tokens). If you're working in the terminal, you can log in by running the following command:\n",
    "\n",
    "```bash\n",
    "huggingface-cli login\n",
    "```"
   ]
  },
  {
   "cell_type": "markdown",
   "id": "1d15a508-9444-495d-88e0-6532ebc06232",
   "metadata": {},
   "source": [
    "Use the `TrainingArguments` class to define the training parameters. This class stores a lot of information and gives you fine-grained control over the training and evaluation. Be sure to specify `output_dir`, where all the artifacts from training are stored. Set the batch size, learning rate, and number of epochs, and specify to load the best model at the end of the training run."
   ]
  },
  {
   "cell_type": "code",
   "execution_count": 44,
   "id": "18aca3cb-6186-42f2-90f9-cb082167b97c",
   "metadata": {},
   "outputs": [],
   "source": [
    "from transformers import Trainer, TrainingArguments\n",
    "\n",
    "batch_size = 64\n",
    "logging_steps = len(emotions_encoded[\"train\"]) // batch_size\n",
    "model_name = f\"{model_ckpt}-finetuned-emotion\"\n",
    "training_args = TrainingArguments(output_dir=model_name,\n",
    "                                  num_train_epochs=2,\n",
    "                                  learning_rate=2e-5,\n",
    "                                  per_device_train_batch_size=batch_size,\n",
    "                                  per_device_eval_batch_size=batch_size,\n",
    "                                  weight_decay=0.01,\n",
    "                                  eval_strategy=\"epoch\",\n",
    "                                  disable_tqdm=False,\n",
    "                                  logging_steps=logging_steps,\n",
    "                                  push_to_hub=True, \n",
    "                                  log_level=\"error\")"
   ]
  },
  {
   "cell_type": "markdown",
   "id": "63dd6519-728d-4f5c-8162-b4b31f4edc9e",
   "metadata": {},
   "source": [
    "Next, instantiate and fine-tune our model with the `Trainer`."
   ]
  },
  {
   "cell_type": "code",
   "execution_count": 45,
   "id": "454a6279-051e-4fd4-9fa2-062fcf46fac5",
   "metadata": {},
   "outputs": [
    {
     "data": {
      "text/html": [
       "\n",
       "    <div>\n",
       "      \n",
       "      <progress value='500' max='500' style='width:300px; height:20px; vertical-align: middle;'></progress>\n",
       "      [500/500 03:17, Epoch 2/2]\n",
       "    </div>\n",
       "    <table border=\"1\" class=\"dataframe\">\n",
       "  <thead>\n",
       " <tr style=\"text-align: left;\">\n",
       "      <th>Epoch</th>\n",
       "      <th>Training Loss</th>\n",
       "      <th>Validation Loss</th>\n",
       "      <th>Accuracy</th>\n",
       "      <th>F1</th>\n",
       "    </tr>\n",
       "  </thead>\n",
       "  <tbody>\n",
       "    <tr>\n",
       "      <td>1</td>\n",
       "      <td>0.830200</td>\n",
       "      <td>0.316089</td>\n",
       "      <td>0.908500</td>\n",
       "      <td>0.908341</td>\n",
       "    </tr>\n",
       "    <tr>\n",
       "      <td>2</td>\n",
       "      <td>0.248900</td>\n",
       "      <td>0.212430</td>\n",
       "      <td>0.926000</td>\n",
       "      <td>0.925895</td>\n",
       "    </tr>\n",
       "  </tbody>\n",
       "</table><p>"
      ],
      "text/plain": [
       "<IPython.core.display.HTML object>"
      ]
     },
     "metadata": {},
     "output_type": "display_data"
    }
   ],
   "source": [
    "from transformers import Trainer\n",
    "\n",
    "trainer = Trainer(model=model, args=training_args, \n",
    "                  compute_metrics=compute_metrics,\n",
    "                  train_dataset=emotions_encoded[\"train\"],\n",
    "                  eval_dataset=emotions_encoded[\"validation\"],\n",
    "                  tokenizer=tokenizer)\n",
    "trainer.train();"
   ]
  },
  {
   "cell_type": "markdown",
   "id": "4f680664-7402-4a0f-b987-997abc9dcf4f",
   "metadata": {},
   "source": [
    "**Observations**\n",
    "\n",
    "The model has an $F_1$-score on the validation set of around 92% - this is a significant improvement over the feature-based approach"
   ]
  },
  {
   "cell_type": "markdown",
   "id": "e268a021-8a9e-4596-9817-e7f521516926",
   "metadata": {},
   "source": [
    "Let's take a more detailed look at the training metrics by calculating the confusion matrix. The `predict()` method of the `Trainer` class returns several useful objects we can use for evaluation."
   ]
  },
  {
   "cell_type": "code",
   "execution_count": 46,
   "id": "e2973804-1c61-49a3-a310-ca6f121295fa",
   "metadata": {},
   "outputs": [
    {
     "data": {
      "text/html": [],
      "text/plain": [
       "<IPython.core.display.HTML object>"
      ]
     },
     "metadata": {},
     "output_type": "display_data"
    }
   ],
   "source": [
    "preds_output = trainer.predict(emotions_encoded[\"validation\"])"
   ]
  },
  {
   "cell_type": "markdown",
   "id": "a9735641-75d4-4af7-a4ee-9bad02c985c4",
   "metadata": {},
   "source": [
    "The output of the `predict()` method is a `PredictionOutput` object that contains arrays of `predictions` and `label_ids`, along with the metrics we passed to the trainer.\n",
    "\n",
    "To access the metrics on the validation set:"
   ]
  },
  {
   "cell_type": "code",
   "execution_count": 47,
   "id": "1042a599-afa5-4b43-a15d-93de114f22f9",
   "metadata": {},
   "outputs": [
    {
     "data": {
      "text/plain": [
       "{'test_loss': 0.21243005990982056,\n",
       " 'test_accuracy': 0.926,\n",
       " 'test_f1': 0.9258950295938757,\n",
       " 'test_runtime': 3.3203,\n",
       " 'test_samples_per_second': 602.359,\n",
       " 'test_steps_per_second': 9.638}"
      ]
     },
     "execution_count": 47,
     "metadata": {},
     "output_type": "execute_result"
    }
   ],
   "source": [
    "preds_output.metrics"
   ]
  },
  {
   "cell_type": "markdown",
   "id": "3d785d7d-b18c-40da-aaff-108c815434f2",
   "metadata": {},
   "source": [
    "It also contains the raw predictions for each class. We can decode the predictions greedily using `np.argmax()`. This yields the predicted labels and has the same format as the labels returned by the Scikit-Learn models in the feature-based approach"
   ]
  },
  {
   "cell_type": "code",
   "execution_count": 48,
   "id": "5e9f0d06-f0d7-46de-8d16-456a61144356",
   "metadata": {},
   "outputs": [],
   "source": [
    "y_preds = np.argmax(preds_output.predictions, axis=1)"
   ]
  },
  {
   "cell_type": "markdown",
   "id": "7dc14a2a-d1d1-459f-927e-7df0e1cddf3b",
   "metadata": {},
   "source": [
    "With the predictions, we can plot the confusion matrix again:"
   ]
  },
  {
   "cell_type": "code",
   "execution_count": 49,
   "id": "4ad29f9c-7490-4a1d-ad8d-8dce3be87979",
   "metadata": {},
   "outputs": [
    {
     "data": {
      "image/png": "[encoded data removed]",
      "text/plain": [
       "<Figure size 600x600 with 1 Axes>"
      ]
     },
     "metadata": {},
     "output_type": "display_data"
    }
   ],
   "source": [
    "plot_confusion_matrix(y_preds, y_valid, labels)"
   ]
  },
  {
   "cell_type": "markdown",
   "id": "a4996cf4-05e1-40f7-987f-ca241b36bf9a",
   "metadata": {},
   "source": [
    "**Observations**\n",
    "\n",
    "This is much closer to the ideal diagonal confusion matrix. The `love` category is still often confused with `joy`, which seems natural. `surprise` is also frequently mistaken for `joy`, or confused with `fear`. \n",
    "Overall the performance of the model seems quite good"
   ]
  },
  {
   "cell_type": "markdown",
   "id": "2235a2ab-6ec6-4eec-82d3-c93cccf2283b",
   "metadata": {},
   "source": [
    "#### Error analysis"
   ]
  },
  {
   "cell_type": "markdown",
   "id": "fae4db83-fbaf-429c-ba1d-87e98526b021",
   "metadata": {},
   "source": [
    "Let's investigate our model's predictions a little bit further. A simple yet powerful technique is to sort the validation samples by the model loss. When we pass the label during the forward pass, the loss is automatically calculated and returned. Here's a function that returns the loss along with the predicted label"
   ]
  },
  {
   "cell_type": "code",
   "execution_count": 50,
   "id": "e72852d6-81c7-49b9-8656-69da3f79500e",
   "metadata": {},
   "outputs": [],
   "source": [
    "from torch.nn.functional import cross_entropy\n",
    "\n",
    "def forward_pass_with_label(batch):\n",
    "    # Place all input tensors on the same device as the model\n",
    "    inputs = {k:v.to(device) for k,v in batch.items() \n",
    "              if k in tokenizer.model_input_names}\n",
    "\n",
    "    with torch.no_grad():\n",
    "        output = model(**inputs)\n",
    "        pred_label = torch.argmax(output.logits, axis=-1)\n",
    "        loss = cross_entropy(output.logits, batch[\"label\"].to(device), \n",
    "                             reduction=\"none\")\n",
    "\n",
    "    # Place outputs on CPU for compatibility with other dataset columns   \n",
    "    return {\"loss\": loss.cpu().numpy(), \n",
    "            \"predicted_label\": pred_label.cpu().numpy()}"
   ]
  },
  {
   "cell_type": "markdown",
   "id": "831d1afe-ce3b-431d-a946-2f18e3b370f9",
   "metadata": {},
   "source": [
    "Using the `map()` method to get the losses for all the samples"
   ]
  },
  {
   "cell_type": "code",
   "execution_count": 51,
   "id": "25e6eb86-bbfc-4fa3-9d7a-3b50a36861b3",
   "metadata": {},
   "outputs": [
    {
     "data": {
      "application/vnd.jupyter.widget-view+json": {
       "model_id": "af44a3028ad5491095214d438ee0ddc6",
       "version_major": 2,
       "version_minor": 0
      },
      "text/plain": [
       "Map:   0%|          | 0/2000 [00:00<?, ? examples/s]"
      ]
     },
     "metadata": {},
     "output_type": "display_data"
    }
   ],
   "source": [
    "# Convert our dataset back to PyTorch tensors\n",
    "emotions_encoded.set_format(\"torch\", \n",
    "                            columns=[\"input_ids\", \"attention_mask\", \"label\"])\n",
    "# Compute loss values\n",
    "emotions_encoded[\"validation\"] = emotions_encoded[\"validation\"].map(\n",
    "    forward_pass_with_label, batched=True, batch_size=16)"
   ]
  },
  {
   "cell_type": "markdown",
   "id": "1ecf0bbb-0934-4ab1-bdcc-ffe025555483",
   "metadata": {},
   "source": [
    "Create a `DataFrame` with the texts, losses, and predicted/true labels"
   ]
  },
  {
   "cell_type": "code",
   "execution_count": 52,
   "id": "80320650-d58f-4881-ad38-49bee03af2c8",
   "metadata": {},
   "outputs": [],
   "source": [
    "emotions_encoded.set_format(\"pandas\")\n",
    "cols = [\"text\", \"label\", \"predicted_label\", \"loss\"]\n",
    "df_test = emotions_encoded[\"validation\"][:][cols]\n",
    "df_test[\"label\"] = df_test[\"label\"].apply(label_int2str)\n",
    "df_test[\"predicted_label\"] = (df_test[\"predicted_label\"]\n",
    "                              .apply(label_int2str))"
   ]
  },
  {
   "cell_type": "markdown",
   "id": "26873263-6cc0-457b-9936-48282f0a6ae0",
   "metadata": {},
   "source": [
    "We can now easily sort `emotions_encoded` by the losses in either ascending or descending order. The goal of this exercise is to detect one of the following\n",
    "\n",
    "- **Wronglabel**. Every process that adds labels to data can be flawed. Annotators can make mistakes or disagree, while labels that are inferred from other features can be wrong. If it was easy to automatically annotate data, then we would not need a model to do it. Thus, it is normal that there are some wrongly labeled examples. With this approach, we can quickly find and correct them.\n",
    "\n",
    "- **Quirks of the dataset**. Datasets in the real world are always a bit messy. When working with text, special characters or strings in the inputs can have a big impact on the model's predictions. Inspecting the model's weakest predictions can help identify such features, and cleaning the data or injecting similar examples can make the model more robust.\r\n",
    "\r\n",
    "Let's first have a look at the data samples with the highest losses:"
   ]
  },
  {
   "cell_type": "code",
   "execution_count": 53,
   "id": "8fb600c5-587a-48d3-8418-195f4c86dba8",
   "metadata": {},
   "outputs": [
    {
     "data": {
      "text/html": [
       "<div>\n",
       "<style scoped>\n",
       "    .dataframe tbody tr th:only-of-type {\n",
       "        vertical-align: middle;\n",
       "    }\n",
       "\n",
       "    .dataframe tbody tr th {\n",
       "        vertical-align: top;\n",
       "    }\n",
       "\n",
       "    .dataframe thead th {\n",
       "        text-align: right;\n",
       "    }\n",
       "</style>\n",
       "<table border=\"1\" class=\"dataframe\">\n",
       "  <thead>\n",
       "    <tr style=\"text-align: right;\">\n",
       "      <th></th>\n",
       "      <th>text</th>\n",
       "      <th>label</th>\n",
       "      <th>predicted_label</th>\n",
       "      <th>loss</th>\n",
       "    </tr>\n",
       "  </thead>\n",
       "  <tbody>\n",
       "    <tr>\n",
       "      <th>1870</th>\n",
       "      <td>i guess i feel betrayed because i admired him ...</td>\n",
       "      <td>joy</td>\n",
       "      <td>sadness</td>\n",
       "      <td>6.003632</td>\n",
       "    </tr>\n",
       "    <tr>\n",
       "      <th>1963</th>\n",
       "      <td>i called myself pro life and voted for perry w...</td>\n",
       "      <td>joy</td>\n",
       "      <td>sadness</td>\n",
       "      <td>5.703990</td>\n",
       "    </tr>\n",
       "    <tr>\n",
       "      <th>1801</th>\n",
       "      <td>i feel that he was being overshadowed by the s...</td>\n",
       "      <td>love</td>\n",
       "      <td>sadness</td>\n",
       "      <td>5.297394</td>\n",
       "    </tr>\n",
       "    <tr>\n",
       "      <th>1500</th>\n",
       "      <td>i guess we would naturally feel a sense of lon...</td>\n",
       "      <td>anger</td>\n",
       "      <td>sadness</td>\n",
       "      <td>5.289473</td>\n",
       "    </tr>\n",
       "    <tr>\n",
       "      <th>1274</th>\n",
       "      <td>i am going to several holiday parties and i ca...</td>\n",
       "      <td>joy</td>\n",
       "      <td>sadness</td>\n",
       "      <td>4.987614</td>\n",
       "    </tr>\n",
       "    <tr>\n",
       "      <th>1950</th>\n",
       "      <td>i as representative of everything thats wrong ...</td>\n",
       "      <td>surprise</td>\n",
       "      <td>sadness</td>\n",
       "      <td>4.853735</td>\n",
       "    </tr>\n",
       "    <tr>\n",
       "      <th>318</th>\n",
       "      <td>i felt ashamed of these feelings and was scare...</td>\n",
       "      <td>fear</td>\n",
       "      <td>sadness</td>\n",
       "      <td>4.691357</td>\n",
       "    </tr>\n",
       "    <tr>\n",
       "      <th>1509</th>\n",
       "      <td>i guess this is a memoir so it feels like that...</td>\n",
       "      <td>joy</td>\n",
       "      <td>fear</td>\n",
       "      <td>4.553526</td>\n",
       "    </tr>\n",
       "    <tr>\n",
       "      <th>1111</th>\n",
       "      <td>im lazy my characters fall into categories of ...</td>\n",
       "      <td>joy</td>\n",
       "      <td>fear</td>\n",
       "      <td>4.259669</td>\n",
       "    </tr>\n",
       "    <tr>\n",
       "      <th>1964</th>\n",
       "      <td>i feel vaguely cheated and a little amused</td>\n",
       "      <td>joy</td>\n",
       "      <td>anger</td>\n",
       "      <td>4.257040</td>\n",
       "    </tr>\n",
       "  </tbody>\n",
       "</table>\n",
       "</div>"
      ],
      "text/plain": [
       "                                                   text     label  \\\n",
       "1870  i guess i feel betrayed because i admired him ...       joy   \n",
       "1963  i called myself pro life and voted for perry w...       joy   \n",
       "1801  i feel that he was being overshadowed by the s...      love   \n",
       "1500  i guess we would naturally feel a sense of lon...     anger   \n",
       "1274  i am going to several holiday parties and i ca...       joy   \n",
       "1950  i as representative of everything thats wrong ...  surprise   \n",
       "318   i felt ashamed of these feelings and was scare...      fear   \n",
       "1509  i guess this is a memoir so it feels like that...       joy   \n",
       "1111  im lazy my characters fall into categories of ...       joy   \n",
       "1964         i feel vaguely cheated and a little amused       joy   \n",
       "\n",
       "     predicted_label      loss  \n",
       "1870         sadness  6.003632  \n",
       "1963         sadness  5.703990  \n",
       "1801         sadness  5.297394  \n",
       "1500         sadness  5.289473  \n",
       "1274         sadness  4.987614  \n",
       "1950         sadness  4.853735  \n",
       "318          sadness  4.691357  \n",
       "1509            fear  4.553526  \n",
       "1111            fear  4.259669  \n",
       "1964           anger  4.257040  "
      ]
     },
     "execution_count": 53,
     "metadata": {},
     "output_type": "execute_result"
    }
   ],
   "source": [
    "df_test.sort_values(\"loss\", ascending=False).head(10)"
   ]
  },
  {
   "cell_type": "markdown",
   "id": "99071281-e2d7-4418-9204-9dcd5f077ef9",
   "metadata": {},
   "source": [
    "**Observations**\n",
    "\n",
    "- The model predicted some of the labels incorrectly. \n",
    "- It seems that there are quite a few examples with no clear class, which might be either mislabeled or require a new class altogether.\n",
    "- In particular, `joy` seems to be mislabeled several times.\n",
    "\n",
    "**Follow up**\n",
    "\n",
    "Refine the dataset, which often can lead to as big a performance gain (or more) as having more data or larger models"
   ]
  },
  {
   "cell_type": "markdown",
   "id": "d12c1017-34a3-471d-b833-024e7ac2dcd4",
   "metadata": {},
   "source": [
    "Next consider the samples with the lowest losses. Deep learning models are exceptionally good at finding and exploiting shortcuts to get to a prediction. For this reason, it is also worth investing time into looking at the examples that the model is most confident about, so that we can be confident that the model does not improperly exploit certain features of the text."
   ]
  },
  {
   "cell_type": "code",
   "execution_count": 54,
   "id": "da0d2945-c00a-4046-9b14-9813e1fd7b8e",
   "metadata": {},
   "outputs": [
    {
     "data": {
      "text/html": [
       "<div>\n",
       "<style scoped>\n",
       "    .dataframe tbody tr th:only-of-type {\n",
       "        vertical-align: middle;\n",
       "    }\n",
       "\n",
       "    .dataframe tbody tr th {\n",
       "        vertical-align: top;\n",
       "    }\n",
       "\n",
       "    .dataframe thead th {\n",
       "        text-align: right;\n",
       "    }\n",
       "</style>\n",
       "<table border=\"1\" class=\"dataframe\">\n",
       "  <thead>\n",
       "    <tr style=\"text-align: right;\">\n",
       "      <th></th>\n",
       "      <th>text</th>\n",
       "      <th>label</th>\n",
       "      <th>predicted_label</th>\n",
       "      <th>loss</th>\n",
       "    </tr>\n",
       "  </thead>\n",
       "  <tbody>\n",
       "    <tr>\n",
       "      <th>1861</th>\n",
       "      <td>im tired of feeling lethargic hating to work o...</td>\n",
       "      <td>sadness</td>\n",
       "      <td>sadness</td>\n",
       "      <td>0.013266</td>\n",
       "    </tr>\n",
       "    <tr>\n",
       "      <th>1310</th>\n",
       "      <td>i feel like an ungrateful asshole</td>\n",
       "      <td>sadness</td>\n",
       "      <td>sadness</td>\n",
       "      <td>0.013268</td>\n",
       "    </tr>\n",
       "    <tr>\n",
       "      <th>69</th>\n",
       "      <td>i have no extra money im worried all of the ti...</td>\n",
       "      <td>sadness</td>\n",
       "      <td>sadness</td>\n",
       "      <td>0.013431</td>\n",
       "    </tr>\n",
       "    <tr>\n",
       "      <th>1452</th>\n",
       "      <td>i always feel guilty and come to one conclusio...</td>\n",
       "      <td>sadness</td>\n",
       "      <td>sadness</td>\n",
       "      <td>0.013692</td>\n",
       "    </tr>\n",
       "    <tr>\n",
       "      <th>244</th>\n",
       "      <td>im kinda relieve but at the same time i feel d...</td>\n",
       "      <td>sadness</td>\n",
       "      <td>sadness</td>\n",
       "      <td>0.013746</td>\n",
       "    </tr>\n",
       "    <tr>\n",
       "      <th>1466</th>\n",
       "      <td>i feel so ungrateful to be wishing this pregna...</td>\n",
       "      <td>sadness</td>\n",
       "      <td>sadness</td>\n",
       "      <td>0.013760</td>\n",
       "    </tr>\n",
       "    <tr>\n",
       "      <th>697</th>\n",
       "      <td>i was missing him desperately and feeling idio...</td>\n",
       "      <td>sadness</td>\n",
       "      <td>sadness</td>\n",
       "      <td>0.013854</td>\n",
       "    </tr>\n",
       "    <tr>\n",
       "      <th>1965</th>\n",
       "      <td>i started feeling pathetic and ashamed</td>\n",
       "      <td>sadness</td>\n",
       "      <td>sadness</td>\n",
       "      <td>0.013934</td>\n",
       "    </tr>\n",
       "    <tr>\n",
       "      <th>34</th>\n",
       "      <td>i feel that i m so pathetic and downright dumb...</td>\n",
       "      <td>sadness</td>\n",
       "      <td>sadness</td>\n",
       "      <td>0.013953</td>\n",
       "    </tr>\n",
       "    <tr>\n",
       "      <th>133</th>\n",
       "      <td>i and feel quite ungrateful for it but i m loo...</td>\n",
       "      <td>sadness</td>\n",
       "      <td>sadness</td>\n",
       "      <td>0.013960</td>\n",
       "    </tr>\n",
       "  </tbody>\n",
       "</table>\n",
       "</div>"
      ],
      "text/plain": [
       "                                                   text    label  \\\n",
       "1861  im tired of feeling lethargic hating to work o...  sadness   \n",
       "1310                  i feel like an ungrateful asshole  sadness   \n",
       "69    i have no extra money im worried all of the ti...  sadness   \n",
       "1452  i always feel guilty and come to one conclusio...  sadness   \n",
       "244   im kinda relieve but at the same time i feel d...  sadness   \n",
       "1466  i feel so ungrateful to be wishing this pregna...  sadness   \n",
       "697   i was missing him desperately and feeling idio...  sadness   \n",
       "1965             i started feeling pathetic and ashamed  sadness   \n",
       "34    i feel that i m so pathetic and downright dumb...  sadness   \n",
       "133   i and feel quite ungrateful for it but i m loo...  sadness   \n",
       "\n",
       "     predicted_label      loss  \n",
       "1861         sadness  0.013266  \n",
       "1310         sadness  0.013268  \n",
       "69           sadness  0.013431  \n",
       "1452         sadness  0.013692  \n",
       "244          sadness  0.013746  \n",
       "1466         sadness  0.013760  \n",
       "697          sadness  0.013854  \n",
       "1965         sadness  0.013934  \n",
       "34           sadness  0.013953  \n",
       "133          sadness  0.013960  "
      ]
     },
     "execution_count": 54,
     "metadata": {},
     "output_type": "execute_result"
    }
   ],
   "source": [
    "df_test.sort_values(\"loss\", ascending=True).head(10)"
   ]
  },
  {
   "cell_type": "markdown",
   "id": "e987a291-7763-4ae0-a995-e290d7cad6dd",
   "metadata": {},
   "source": [
    "**Observation**\n",
    "\n",
    "The model seems to be most confident when predicting the `sadness` class. \n",
    "We now know that the `joy` is sometimes mislabeled and that the model is most confident about predicting the label `sadness`.\n",
    "\n",
    "**Follow up**\n",
    "\n",
    "Make targeted improvements to our dataset, and also keep an eye on the class the model seems to be very confident about."
   ]
  },
  {
   "cell_type": "markdown",
   "id": "efecf0b0-620b-4dca-8685-ce20f7445214",
   "metadata": {},
   "source": [
    "### Save and share the model"
   ]
  },
  {
   "cell_type": "markdown",
   "id": "229bd7b2-47f4-40c9-8389-db11e389d6c5",
   "metadata": {},
   "source": [
    "The NLP community benefits greatly from sharing pretrained and fine-tuned models, and everybody can share their models with others via the Hugging Face Hub. Any community-generated model can be downloaded from the Hub just like we downloaded the DistilBERT model. "
   ]
  },
  {
   "cell_type": "code",
   "execution_count": 55,
   "id": "ea92841f-7f6d-4091-86b2-7e81979d5f2e",
   "metadata": {},
   "outputs": [
    {
     "data": {
      "text/plain": [
       "CommitInfo(commit_url='https://huggingface.co/brucedkyle/distilbert-base-uncased-finetuned-emotion/commit/113efbf29b38022ec105673beb0a0989af4d7444', commit_message='Training completed!', commit_description='', oid='113efbf29b38022ec105673beb0a0989af4d7444', pr_url=None, pr_revision=None, pr_num=None)"
      ]
     },
     "execution_count": 55,
     "metadata": {},
     "output_type": "execute_result"
    }
   ],
   "source": [
    "trainer.push_to_hub(commit_message=\"Training completed!\")"
   ]
  },
  {
   "cell_type": "markdown",
   "id": "97d9ea0a-fbcf-4d28-9b24-21eca9f34384",
   "metadata": {},
   "source": [
    "Use the fine-tuned model to make predictions on new tweets. Since we've pushed our model to the Hub, we can now use it with the `pipeline()` function."
   ]
  },
  {
   "cell_type": "code",
   "execution_count": 56,
   "id": "ff28359f-4a75-43d1-99fa-07c88379b9b7",
   "metadata": {
    "scrolled": true
   },
   "outputs": [
    {
     "data": {
      "application/vnd.jupyter.widget-view+json": {
       "model_id": "2cdb80e860cc457f845963e2b4a899de",
       "version_major": 2,
       "version_minor": 0
      },
      "text/plain": [
       "config.json:   0%|          | 0.00/872 [00:00<?, ?B/s]"
      ]
     },
     "metadata": {},
     "output_type": "display_data"
    },
    {
     "data": {
      "application/vnd.jupyter.widget-view+json": {
       "model_id": "ecac052de4064575a99dc1d92619bb44",
       "version_major": 2,
       "version_minor": 0
      },
      "text/plain": [
       "pytorch_model.bin:   0%|          | 0.00/268M [00:00<?, ?B/s]"
      ]
     },
     "metadata": {},
     "output_type": "display_data"
    },
    {
     "data": {
      "application/vnd.jupyter.widget-view+json": {
       "model_id": "b338232128cb4a34b5fd38db0dbdea89",
       "version_major": 2,
       "version_minor": 0
      },
      "text/plain": [
       "tokenizer_config.json:   0%|          | 0.00/333 [00:00<?, ?B/s]"
      ]
     },
     "metadata": {},
     "output_type": "display_data"
    },
    {
     "data": {
      "application/vnd.jupyter.widget-view+json": {
       "model_id": "fc7e3977d4ec499dac797cdd2eb6c67c",
       "version_major": 2,
       "version_minor": 0
      },
      "text/plain": [
       "vocab.txt:   0%|          | 0.00/232k [00:00<?, ?B/s]"
      ]
     },
     "metadata": {},
     "output_type": "display_data"
    },
    {
     "data": {
      "application/vnd.jupyter.widget-view+json": {
       "model_id": "e955563022334aeea20ae8fa880da95f",
       "version_major": 2,
       "version_minor": 0
      },
      "text/plain": [
       "tokenizer.json:   0%|          | 0.00/466k [00:00<?, ?B/s]"
      ]
     },
     "metadata": {},
     "output_type": "display_data"
    },
    {
     "data": {
      "application/vnd.jupyter.widget-view+json": {
       "model_id": "a90c2e748f044cd9801b9a37f88c0f95",
       "version_major": 2,
       "version_minor": 0
      },
      "text/plain": [
       "special_tokens_map.json:   0%|          | 0.00/112 [00:00<?, ?B/s]"
      ]
     },
     "metadata": {},
     "output_type": "display_data"
    },
    {
     "name": "stderr",
     "output_type": "stream",
     "text": [
      "/home/bruce/anaconda3/envs/text_classification/lib/python3.11/site-packages/transformers/tokenization_utils_base.py:1601: FutureWarning: `clean_up_tokenization_spaces` was not set. It will be set to `True` by default. This behavior will be depracted in transformers v4.45, and will be then set to `False` by default. For more details check this issue: https://github.com/huggingface/transformers/issues/31884\n",
      "  warnings.warn(\n"
     ]
    }
   ],
   "source": [
    "from transformers import pipeline\n",
    "\n",
    "# Change `transformersbook` to your Hub username\n",
    "model_id = \"transformersbook/distilbert-base-uncased-finetuned-emotion\"\n",
    "classifier = pipeline(\"text-classification\", model=model_id)"
   ]
  },
  {
   "cell_type": "markdown",
   "id": "85db16d4-2fdd-4861-91bd-dc3be184cc63",
   "metadata": {},
   "source": [
    "Let's test the pipeline with a sample comment."
   ]
  },
  {
   "cell_type": "code",
   "execution_count": 57,
   "id": "cab40ad3-20bf-4d39-875d-c774b3b4d332",
   "metadata": {},
   "outputs": [
    {
     "name": "stderr",
     "output_type": "stream",
     "text": [
      "/home/bruce/anaconda3/envs/text_classification/lib/python3.11/site-packages/transformers/pipelines/text_classification.py:104: UserWarning: `return_all_scores` is now deprecated,  if want a similar functionality use `top_k=None` instead of `return_all_scores=True` or `top_k=1` instead of `return_all_scores=False`.\n",
      "  warnings.warn(\n"
     ]
    }
   ],
   "source": [
    "custom_comment = \"I saw a movie today and it was really good.\"\n",
    "preds = classifier(custom_comment, return_all_scores=True)"
   ]
  },
  {
   "cell_type": "markdown",
   "id": "bd9b77f9-3234-4da8-96b4-7a788fb9f649",
   "metadata": {},
   "source": [
    "Let's plot the probability for each class in a bar plot. Clearly, the model estimates that the most likely class is joy, which appears to be reasonable given the tweet"
   ]
  },
  {
   "cell_type": "code",
   "execution_count": 59,
   "id": "85de06e5-429a-472f-aca4-06113195251c",
   "metadata": {},
   "outputs": [
    {
     "data": {
      "image/png": "[encoded data removed]",
      "text/plain": [
       "<Figure size 640x480 with 1 Axes>"
      ]
     },
     "metadata": {},
     "output_type": "display_data"
    }
   ],
   "source": [
    "preds_df = pd.DataFrame(preds[0])\n",
    "plt.bar(labels, 100 * preds_df[\"score\"], color='C0')\n",
    "plt.title(f'\"{custom_comment}\"')\n",
    "plt.ylabel(\"Class probability (%)\")\n",
    "plt.show()"
   ]
  },
  {
   "cell_type": "markdown",
   "id": "de5b0f3b-37e4-4abb-84d7-ff59e69eb9b8",
   "metadata": {},
   "source": [
    "## Conclusion"
   ]
  },
  {
   "cell_type": "markdown",
   "id": "543c4015-f057-4f1a-abf6-a146c034eec9",
   "metadata": {},
   "source": [
    "you now know how to train a transformer model to classify the emotions in tweets! We have seen two complementary approaches based on features and fine-tuning, and investigated their strengths and weaknesses."
   ]
  },
  {
   "cell_type": "markdown",
   "id": "3e4e626d-af05-4f84-a6f4-c42ad6968cc4",
   "metadata": {},
   "source": [
    "When a model is pushed to the Hub, an inference endpoint is automatically created that can be called with HTTP requests. We recommend checking out the documentation of the [Inference API](https://huggingface.co/docs/api-inference/index) if you want to learn more."
   ]
  },
  {
   "cell_type": "markdown",
   "id": "4ff866b8-5808-4b05-bc18-bc78900b230d",
   "metadata": {},
   "source": [
    "For more details see\n",
    "\n",
    "## Book citation\r\n",
    "\r\n",
    "```json\r\n",
    "@book{tunstall2022natural,\r\n",
    "  title={Natural Language Processing with Transformers: Building Language Applications with Hugging Face},\r\n",
    "  author={Tunstall, Lewis and von Werra, Leandro and Wolf, Thomas},\r\n",
    "  isbn={1098103246},\r\n",
    "  url={https://books.google.ch/books?id=7hhyzgEACAAJ},\r\n",
    "  year={2022},\r\n",
    "  publisher={O'Reilly Media, Incorporated}\r\n",
    "}\r\n",
    "```"
   ]
  },
  {
   "cell_type": "code",
   "execution_count": null,
   "id": "d1791984-07cb-4635-b6d8-697da853d635",
   "metadata": {},
   "outputs": [],
   "source": []
  }
 ],
 "metadata": {
  "kernelspec": {
   "display_name": "Python 3 (ipykernel)",
   "language": "python",
   "name": "python3"
  },
  "language_info": {
   "codemirror_mode": {
    "name": "ipython",
    "version": 3
   },
   "file_extension": ".py",
   "mimetype": "text/x-python",
   "name": "python",
   "nbconvert_exporter": "python",
   "pygments_lexer": "ipython3",
   "version": "3.11.9"
  }
 },
 "nbformat": 4,
 "nbformat_minor": 5
}

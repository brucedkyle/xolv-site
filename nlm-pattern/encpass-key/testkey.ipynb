{
 "cells": [
  {
   "cell_type": "code",
   "execution_count": null,
   "id": "8782ccaa-4047-40fc-9e31-534f97879981",
   "metadata": {},
   "outputs": [],
   "source": [
    "%env"
   ]
  },
  {
   "cell_type": "code",
   "execution_count": null,
   "id": "6afa1a55-52a0-494a-bb7d-c35aa5cba94a",
   "metadata": {},
   "outputs": [],
   "source": [
    "import os\n",
    "my_token = os.environ['MY_TOKEN']\n",
    "print(my_token) # just so you can see it. Remove this later\n",
    "\n",
    "my_token_2 = os.getenv('MY_TOKEN')\n",
    "print(my_token_2)"
   ]
  }
 ],
 "metadata": {
  "kernelspec": {
   "display_name": "Python 3 (ipykernel)",
   "language": "python",
   "name": "python3"
  },
  "language_info": {
   "codemirror_mode": {
    "name": "ipython",
    "version": 3
   },
   "file_extension": ".py",
   "mimetype": "text/x-python",
   "name": "python",
   "nbconvert_exporter": "python",
   "pygments_lexer": "ipython3",
   "version": "3.11.7"
  }
 },
 "nbformat": 4,
 "nbformat_minor": 5
}

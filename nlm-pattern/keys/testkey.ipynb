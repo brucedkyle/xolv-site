{
 "cells": [
  {
   "cell_type": "code",
   "execution_count": null,
   "id": "8782ccaa-4047-40fc-9e31-534f97879981",
   "metadata": {},
   "outputs": [],
   "source": [
    "import keyring\n",
    "the_password=keyring.get_password(\"system\", \"username\")\n",
    "the_password"
   ]
  },
  {
   "cell_type": "code",
   "execution_count": null,
   "id": "4f05325f-1e9b-4734-aa60-a337b9070c0e",
   "metadata": {},
   "outputs": [],
   "source": [
    "keyring.set_password(\"system\", \"username\", \"password\")"
   ]
  },
  {
   "cell_type": "code",
   "execution_count": null,
   "id": "6afa1a55-52a0-494a-bb7d-c35aa5cba94a",
   "metadata": {},
   "outputs": [],
   "source": [
    "the_password=keyring.get_password(\"system\", \"username\")\n",
    "the_password"
   ]
  },
  {
   "cell_type": "code",
   "execution_count": null,
   "id": "80d4b00f-26a1-44f0-893d-3773b6690989",
   "metadata": {},
   "outputs": [],
   "source": []
  }
 ],
 "metadata": {
  "kernelspec": {
   "display_name": "Python 3 (ipykernel)",
   "language": "python",
   "name": "python3"
  },
  "language_info": {
   "codemirror_mode": {
    "name": "ipython",
    "version": 3
   },
   "file_extension": ".py",
   "mimetype": "text/x-python",
   "name": "python",
   "nbconvert_exporter": "python",
   "pygments_lexer": "ipython3",
   "version": "3.11.7"
  }
 },
 "nbformat": 4,
 "nbformat_minor": 5
}

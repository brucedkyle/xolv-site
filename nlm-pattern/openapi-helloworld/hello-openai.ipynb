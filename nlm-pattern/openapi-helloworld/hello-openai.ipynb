{
 "cells": [
  {
   "cell_type": "markdown",
   "id": "9a866e76-e8ce-4b6f-96fb-cd5d0a7b6e8c",
   "metadata": {},
   "source": [
    "# Hello OpenAI"
   ]
  },
  {
   "cell_type": "markdown",
   "id": "c1e9fc00-a027-49ba-8552-efbef3d701fc",
   "metadata": {},
   "source": [
    "This notebook implements a basic prompt in OpenAI as shown in:\n",
    "\n",
    "- [Developer Quickstart](https://platform.openai.com/docs/quickstart?language-preference=python)\n",
    "- [OpenAI - Python](https://github.com/openai/openai-python) on GitHub"
   ]
  },
  {
   "cell_type": "markdown",
   "id": "127d8977-bf44-4fdd-a4ff-0dfd83d75efc",
   "metadata": {},
   "source": [
    "## Load OPENAI API"
   ]
  },
  {
   "cell_type": "markdown",
   "id": "1622113d-cb71-44fa-88ae-397f8485ea64",
   "metadata": {},
   "source": [
    "The code assumes you have loaded your api key into a `.env` file as explained in README.md"
   ]
  },
  {
   "cell_type": "code",
   "execution_count": 5,
   "id": "883c13ac-ad87-42f1-ba34-54c26e6da966",
   "metadata": {},
   "outputs": [
    {
     "data": {
      "text/plain": [
       "True"
      ]
     },
     "execution_count": 5,
     "metadata": {},
     "output_type": "execute_result"
    }
   ],
   "source": [
    "from dotenv import load_dotenv\n",
    "\n",
    "load_dotenv()"
   ]
  },
  {
   "cell_type": "code",
   "execution_count": 6,
   "id": "50cf5f4e-96d7-48aa-93bf-57ce7d32a90c",
   "metadata": {},
   "outputs": [],
   "source": [
    "# if you must see the key\n",
    "#import os\n",
    "#os.environ.get(\"OPENAI_API_KEY\")"
   ]
  },
  {
   "cell_type": "code",
   "execution_count": 7,
   "id": "4b69e2bd-b6e1-473e-9a94-212b47303e8e",
   "metadata": {},
   "outputs": [
    {
     "name": "stdout",
     "output_type": "stream",
     "text": [
      "# packages in environment at C:\\Users\\bruce\\anaconda3:\n",
      "#\n",
      "# Name                    Version                   Build  Channel\n",
      "openai                    1.43.0                   pypi_0    pypi\n"
     ]
    }
   ],
   "source": [
    "!conda list openai"
   ]
  },
  {
   "cell_type": "markdown",
   "id": "39118f3c-a81f-4af9-8c9e-0590392829af",
   "metadata": {},
   "source": [
    "## Chat completion"
   ]
  },
  {
   "cell_type": "code",
   "execution_count": 9,
   "id": "eacadc2a-8794-40ae-a3b2-73a815672654",
   "metadata": {
    "scrolled": true
   },
   "outputs": [
    {
     "name": "stdout",
     "output_type": "stream",
     "text": [
      "ChatCompletionMessage(content='In loops that spiral,  \\nSelf-calls echo through the code,  \\nEndless paths converge.', refusal=None, role='assistant', function_call=None, tool_calls=None)\n"
     ]
    }
   ],
   "source": [
    "import os\n",
    "from openai import OpenAI\n",
    "\n",
    "client = OpenAI(\n",
    "    # This is the default and can be omitted\n",
    "    api_key=os.environ.get(\"OPENAI_API_KEY\"),\n",
    ")\n",
    "\n",
    "completion = client.chat.completions.create(\n",
    "    model=\"gpt-4o-mini\",\n",
    "    messages=[\n",
    "        {\"role\": \"system\", \"content\": \"You are a helpful assistant.\"},\n",
    "        {\n",
    "            \"role\": \"user\",\n",
    "            \"content\": \"Write a haiku about recursion in programming.\"\n",
    "        }\n",
    "    ]\n",
    ")\n",
    "\n",
    "print(completion.choices[0].message)"
   ]
  },
  {
   "cell_type": "code",
   "execution_count": 10,
   "id": "22117e00-a394-48d6-9e1c-e45e7ac0a5be",
   "metadata": {},
   "outputs": [
    {
     "name": "stdout",
     "output_type": "stream",
     "text": [
      "ChatCompletionMessage(content='This is a test.', refusal=None, role='assistant', function_call=None, tool_calls=None)\n"
     ]
    }
   ],
   "source": [
    "chat_completion = client.chat.completions.create(\n",
    "    messages=[\n",
    "        {\n",
    "            \"role\": \"user\",\n",
    "            \"content\": \"Say this is a test\",\n",
    "        }\n",
    "    ],\n",
    "    model=\"gpt-3.5-turbo\",\n",
    ")\n",
    "\n",
    "print(chat_completion.choices[0].message)"
   ]
  }
 ],
 "metadata": {
  "kernelspec": {
   "display_name": "Python 3 (ipykernel)",
   "language": "python",
   "name": "python3"
  },
  "language_info": {
   "codemirror_mode": {
    "name": "ipython",
    "version": 3
   },
   "file_extension": ".py",
   "mimetype": "text/x-python",
   "name": "python",
   "nbconvert_exporter": "python",
   "pygments_lexer": "ipython3",
   "version": "3.11.7"
  }
 },
 "nbformat": 4,
 "nbformat_minor": 5
}

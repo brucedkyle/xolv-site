{
 "cells": [
  {
   "cell_type": "markdown",
   "metadata": {
    "id": "xPRVq3e03c1K"
   },
   "source": [
    "# Conversational UI Chatbot App with ChatGPT, LangChain and Chainlit\n",
    "\n",
    "Here we will build a advanced ChatGPT Conversational UI-based chatbot using LangChain and Chainlit with the following features:\n",
    "\n",
    "- Custom Landing Page\n",
    "- Conversational memory\n",
    "- Result streaming capabilities (Real-time output)"
   ]
  },
  {
   "cell_type": "markdown",
   "metadata": {
    "id": "L1KvMtf54l0d"
   },
   "source": [
    "## Install App and LLM dependencies"
   ]
  },
  {
   "cell_type": "code",
   "execution_count": 9,
   "metadata": {
    "colab": {
     "base_uri": "https://localhost:8080/"
    },
    "id": "2evPp14fy258",
    "outputId": "606ec67a-52e1-4a65-c219-d58abd8a53c8"
   },
   "outputs": [
    {
     "name": "stdout",
     "output_type": "stream",
     "text": [
      "Requirement already satisfied: langchain==0.1.12 in /home/bruce/anaconda3/envs/chatbot/lib/python3.12/site-packages (0.1.12)\n",
      "Requirement already satisfied: PyYAML>=5.3 in /home/bruce/anaconda3/envs/chatbot/lib/python3.12/site-packages (from langchain==0.1.12) (6.0.2)\n",
      "Requirement already satisfied: SQLAlchemy<3,>=1.4 in /home/bruce/anaconda3/envs/chatbot/lib/python3.12/site-packages (from langchain==0.1.12) (2.0.35)\n",
      "Requirement already satisfied: aiohttp<4.0.0,>=3.8.3 in /home/bruce/anaconda3/envs/chatbot/lib/python3.12/site-packages (from langchain==0.1.12) (3.10.10)\n",
      "Requirement already satisfied: dataclasses-json<0.7,>=0.5.7 in /home/bruce/anaconda3/envs/chatbot/lib/python3.12/site-packages (from langchain==0.1.12) (0.5.14)\n",
      "Requirement already satisfied: jsonpatch<2.0,>=1.33 in /home/bruce/anaconda3/envs/chatbot/lib/python3.12/site-packages (from langchain==0.1.12) (1.33)\n",
      "Requirement already satisfied: langchain-community<0.1,>=0.0.28 in /home/bruce/anaconda3/envs/chatbot/lib/python3.12/site-packages (from langchain==0.1.12) (0.0.38)\n",
      "Requirement already satisfied: langchain-core<0.2.0,>=0.1.31 in /home/bruce/anaconda3/envs/chatbot/lib/python3.12/site-packages (from langchain==0.1.12) (0.1.52)\n",
      "Requirement already satisfied: langchain-text-splitters<0.1,>=0.0.1 in /home/bruce/anaconda3/envs/chatbot/lib/python3.12/site-packages (from langchain==0.1.12) (0.0.2)\n",
      "Requirement already satisfied: langsmith<0.2.0,>=0.1.17 in /home/bruce/anaconda3/envs/chatbot/lib/python3.12/site-packages (from langchain==0.1.12) (0.1.129)\n",
      "Requirement already satisfied: numpy<2,>=1 in /home/bruce/anaconda3/envs/chatbot/lib/python3.12/site-packages (from langchain==0.1.12) (1.26.4)\n",
      "Requirement already satisfied: pydantic<3,>=1 in /home/bruce/anaconda3/envs/chatbot/lib/python3.12/site-packages (from langchain==0.1.12) (2.9.2)\n",
      "Requirement already satisfied: requests<3,>=2 in /home/bruce/anaconda3/envs/chatbot/lib/python3.12/site-packages (from langchain==0.1.12) (2.32.3)\n",
      "Requirement already satisfied: tenacity<9.0.0,>=8.1.0 in /home/bruce/anaconda3/envs/chatbot/lib/python3.12/site-packages (from langchain==0.1.12) (8.5.0)\n",
      "Requirement already satisfied: aiohappyeyeballs>=2.3.0 in /home/bruce/anaconda3/envs/chatbot/lib/python3.12/site-packages (from aiohttp<4.0.0,>=3.8.3->langchain==0.1.12) (2.4.3)\n",
      "Requirement already satisfied: aiosignal>=1.1.2 in /home/bruce/anaconda3/envs/chatbot/lib/python3.12/site-packages (from aiohttp<4.0.0,>=3.8.3->langchain==0.1.12) (1.3.1)\n",
      "Requirement already satisfied: attrs>=17.3.0 in /home/bruce/anaconda3/envs/chatbot/lib/python3.12/site-packages (from aiohttp<4.0.0,>=3.8.3->langchain==0.1.12) (24.2.0)\n",
      "Requirement already satisfied: frozenlist>=1.1.1 in /home/bruce/anaconda3/envs/chatbot/lib/python3.12/site-packages (from aiohttp<4.0.0,>=3.8.3->langchain==0.1.12) (1.4.1)\n",
      "Requirement already satisfied: multidict<7.0,>=4.5 in /home/bruce/anaconda3/envs/chatbot/lib/python3.12/site-packages (from aiohttp<4.0.0,>=3.8.3->langchain==0.1.12) (6.1.0)\n",
      "Requirement already satisfied: yarl<2.0,>=1.12.0 in /home/bruce/anaconda3/envs/chatbot/lib/python3.12/site-packages (from aiohttp<4.0.0,>=3.8.3->langchain==0.1.12) (1.14.0)\n",
      "Requirement already satisfied: marshmallow<4.0.0,>=3.18.0 in /home/bruce/anaconda3/envs/chatbot/lib/python3.12/site-packages (from dataclasses-json<0.7,>=0.5.7->langchain==0.1.12) (3.22.0)\n",
      "Requirement already satisfied: typing-inspect<1,>=0.4.0 in /home/bruce/anaconda3/envs/chatbot/lib/python3.12/site-packages (from dataclasses-json<0.7,>=0.5.7->langchain==0.1.12) (0.9.0)\n",
      "Requirement already satisfied: jsonpointer>=1.9 in /home/bruce/anaconda3/envs/chatbot/lib/python3.12/site-packages (from jsonpatch<2.0,>=1.33->langchain==0.1.12) (3.0.0)\n",
      "Requirement already satisfied: packaging<24.0,>=23.2 in /home/bruce/anaconda3/envs/chatbot/lib/python3.12/site-packages (from langchain-core<0.2.0,>=0.1.31->langchain==0.1.12) (23.2)\n",
      "Requirement already satisfied: httpx<1,>=0.23.0 in /home/bruce/anaconda3/envs/chatbot/lib/python3.12/site-packages (from langsmith<0.2.0,>=0.1.17->langchain==0.1.12) (0.27.2)\n",
      "Requirement already satisfied: orjson<4.0.0,>=3.9.14 in /home/bruce/anaconda3/envs/chatbot/lib/python3.12/site-packages (from langsmith<0.2.0,>=0.1.17->langchain==0.1.12) (3.10.7)\n",
      "Requirement already satisfied: annotated-types>=0.6.0 in /home/bruce/anaconda3/envs/chatbot/lib/python3.12/site-packages (from pydantic<3,>=1->langchain==0.1.12) (0.7.0)\n",
      "Requirement already satisfied: pydantic-core==2.23.4 in /home/bruce/anaconda3/envs/chatbot/lib/python3.12/site-packages (from pydantic<3,>=1->langchain==0.1.12) (2.23.4)\n",
      "Requirement already satisfied: typing-extensions>=4.6.1 in /home/bruce/anaconda3/envs/chatbot/lib/python3.12/site-packages (from pydantic<3,>=1->langchain==0.1.12) (4.12.2)\n",
      "Requirement already satisfied: charset-normalizer<4,>=2 in /home/bruce/anaconda3/envs/chatbot/lib/python3.12/site-packages (from requests<3,>=2->langchain==0.1.12) (3.4.0)\n",
      "Requirement already satisfied: idna<4,>=2.5 in /home/bruce/anaconda3/envs/chatbot/lib/python3.12/site-packages (from requests<3,>=2->langchain==0.1.12) (3.10)\n",
      "Requirement already satisfied: urllib3<3,>=1.21.1 in /home/bruce/anaconda3/envs/chatbot/lib/python3.12/site-packages (from requests<3,>=2->langchain==0.1.12) (2.2.3)\n",
      "Requirement already satisfied: certifi>=2017.4.17 in /home/bruce/anaconda3/envs/chatbot/lib/python3.12/site-packages (from requests<3,>=2->langchain==0.1.12) (2024.8.30)\n",
      "Requirement already satisfied: greenlet!=0.4.17 in /home/bruce/anaconda3/envs/chatbot/lib/python3.12/site-packages (from SQLAlchemy<3,>=1.4->langchain==0.1.12) (3.1.1)\n",
      "Requirement already satisfied: anyio in /home/bruce/anaconda3/envs/chatbot/lib/python3.12/site-packages (from httpx<1,>=0.23.0->langsmith<0.2.0,>=0.1.17->langchain==0.1.12) (3.7.1)\n",
      "Requirement already satisfied: httpcore==1.* in /home/bruce/anaconda3/envs/chatbot/lib/python3.12/site-packages (from httpx<1,>=0.23.0->langsmith<0.2.0,>=0.1.17->langchain==0.1.12) (1.0.6)\n",
      "Requirement already satisfied: sniffio in /home/bruce/anaconda3/envs/chatbot/lib/python3.12/site-packages (from httpx<1,>=0.23.0->langsmith<0.2.0,>=0.1.17->langchain==0.1.12) (1.3.1)\n",
      "Requirement already satisfied: h11<0.15,>=0.13 in /home/bruce/anaconda3/envs/chatbot/lib/python3.12/site-packages (from httpcore==1.*->httpx<1,>=0.23.0->langsmith<0.2.0,>=0.1.17->langchain==0.1.12) (0.14.0)\n",
      "Requirement already satisfied: mypy-extensions>=0.3.0 in /home/bruce/anaconda3/envs/chatbot/lib/python3.12/site-packages (from typing-inspect<1,>=0.4.0->dataclasses-json<0.7,>=0.5.7->langchain==0.1.12) (1.0.0)\n",
      "Requirement already satisfied: propcache>=0.2.0 in /home/bruce/anaconda3/envs/chatbot/lib/python3.12/site-packages (from yarl<2.0,>=1.12.0->aiohttp<4.0.0,>=3.8.3->langchain==0.1.12) (0.2.0)\n",
      "Requirement already satisfied: langchain-openai==0.0.8 in /home/bruce/anaconda3/envs/chatbot/lib/python3.12/site-packages (0.0.8)\n",
      "Requirement already satisfied: langchain-core<0.2.0,>=0.1.27 in /home/bruce/anaconda3/envs/chatbot/lib/python3.12/site-packages (from langchain-openai==0.0.8) (0.1.52)\n",
      "Requirement already satisfied: openai<2.0.0,>=1.10.0 in /home/bruce/anaconda3/envs/chatbot/lib/python3.12/site-packages (from langchain-openai==0.0.8) (1.51.2)\n",
      "Requirement already satisfied: tiktoken<1,>=0.5.2 in /home/bruce/anaconda3/envs/chatbot/lib/python3.12/site-packages (from langchain-openai==0.0.8) (0.5.2)\n",
      "Requirement already satisfied: PyYAML>=5.3 in /home/bruce/anaconda3/envs/chatbot/lib/python3.12/site-packages (from langchain-core<0.2.0,>=0.1.27->langchain-openai==0.0.8) (6.0.2)\n",
      "Requirement already satisfied: jsonpatch<2.0,>=1.33 in /home/bruce/anaconda3/envs/chatbot/lib/python3.12/site-packages (from langchain-core<0.2.0,>=0.1.27->langchain-openai==0.0.8) (1.33)\n",
      "Requirement already satisfied: langsmith<0.2.0,>=0.1.0 in /home/bruce/anaconda3/envs/chatbot/lib/python3.12/site-packages (from langchain-core<0.2.0,>=0.1.27->langchain-openai==0.0.8) (0.1.129)\n",
      "Requirement already satisfied: packaging<24.0,>=23.2 in /home/bruce/anaconda3/envs/chatbot/lib/python3.12/site-packages (from langchain-core<0.2.0,>=0.1.27->langchain-openai==0.0.8) (23.2)\n",
      "Requirement already satisfied: pydantic<3,>=1 in /home/bruce/anaconda3/envs/chatbot/lib/python3.12/site-packages (from langchain-core<0.2.0,>=0.1.27->langchain-openai==0.0.8) (2.9.2)\n",
      "Requirement already satisfied: tenacity<9.0.0,>=8.1.0 in /home/bruce/anaconda3/envs/chatbot/lib/python3.12/site-packages (from langchain-core<0.2.0,>=0.1.27->langchain-openai==0.0.8) (8.5.0)\n",
      "Requirement already satisfied: anyio<5,>=3.5.0 in /home/bruce/anaconda3/envs/chatbot/lib/python3.12/site-packages (from openai<2.0.0,>=1.10.0->langchain-openai==0.0.8) (3.7.1)\n",
      "Requirement already satisfied: distro<2,>=1.7.0 in /home/bruce/anaconda3/envs/chatbot/lib/python3.12/site-packages (from openai<2.0.0,>=1.10.0->langchain-openai==0.0.8) (1.9.0)\n",
      "Requirement already satisfied: httpx<1,>=0.23.0 in /home/bruce/anaconda3/envs/chatbot/lib/python3.12/site-packages (from openai<2.0.0,>=1.10.0->langchain-openai==0.0.8) (0.27.2)\n",
      "Requirement already satisfied: jiter<1,>=0.4.0 in /home/bruce/anaconda3/envs/chatbot/lib/python3.12/site-packages (from openai<2.0.0,>=1.10.0->langchain-openai==0.0.8) (0.6.1)\n",
      "Requirement already satisfied: sniffio in /home/bruce/anaconda3/envs/chatbot/lib/python3.12/site-packages (from openai<2.0.0,>=1.10.0->langchain-openai==0.0.8) (1.3.1)\n",
      "Requirement already satisfied: tqdm>4 in /home/bruce/anaconda3/envs/chatbot/lib/python3.12/site-packages (from openai<2.0.0,>=1.10.0->langchain-openai==0.0.8) (4.66.5)\n",
      "Requirement already satisfied: typing-extensions<5,>=4.11 in /home/bruce/anaconda3/envs/chatbot/lib/python3.12/site-packages (from openai<2.0.0,>=1.10.0->langchain-openai==0.0.8) (4.12.2)\n",
      "Requirement already satisfied: regex>=2022.1.18 in /home/bruce/anaconda3/envs/chatbot/lib/python3.12/site-packages (from tiktoken<1,>=0.5.2->langchain-openai==0.0.8) (2024.9.11)\n",
      "Requirement already satisfied: requests>=2.26.0 in /home/bruce/anaconda3/envs/chatbot/lib/python3.12/site-packages (from tiktoken<1,>=0.5.2->langchain-openai==0.0.8) (2.32.3)\n",
      "Requirement already satisfied: idna>=2.8 in /home/bruce/anaconda3/envs/chatbot/lib/python3.12/site-packages (from anyio<5,>=3.5.0->openai<2.0.0,>=1.10.0->langchain-openai==0.0.8) (3.10)\n",
      "Requirement already satisfied: certifi in /home/bruce/anaconda3/envs/chatbot/lib/python3.12/site-packages (from httpx<1,>=0.23.0->openai<2.0.0,>=1.10.0->langchain-openai==0.0.8) (2024.8.30)\n",
      "Requirement already satisfied: httpcore==1.* in /home/bruce/anaconda3/envs/chatbot/lib/python3.12/site-packages (from httpx<1,>=0.23.0->openai<2.0.0,>=1.10.0->langchain-openai==0.0.8) (1.0.6)\n",
      "Requirement already satisfied: h11<0.15,>=0.13 in /home/bruce/anaconda3/envs/chatbot/lib/python3.12/site-packages (from httpcore==1.*->httpx<1,>=0.23.0->openai<2.0.0,>=1.10.0->langchain-openai==0.0.8) (0.14.0)\n",
      "Requirement already satisfied: jsonpointer>=1.9 in /home/bruce/anaconda3/envs/chatbot/lib/python3.12/site-packages (from jsonpatch<2.0,>=1.33->langchain-core<0.2.0,>=0.1.27->langchain-openai==0.0.8) (3.0.0)\n",
      "Requirement already satisfied: orjson<4.0.0,>=3.9.14 in /home/bruce/anaconda3/envs/chatbot/lib/python3.12/site-packages (from langsmith<0.2.0,>=0.1.0->langchain-core<0.2.0,>=0.1.27->langchain-openai==0.0.8) (3.10.7)\n",
      "Requirement already satisfied: annotated-types>=0.6.0 in /home/bruce/anaconda3/envs/chatbot/lib/python3.12/site-packages (from pydantic<3,>=1->langchain-core<0.2.0,>=0.1.27->langchain-openai==0.0.8) (0.7.0)\n",
      "Requirement already satisfied: pydantic-core==2.23.4 in /home/bruce/anaconda3/envs/chatbot/lib/python3.12/site-packages (from pydantic<3,>=1->langchain-core<0.2.0,>=0.1.27->langchain-openai==0.0.8) (2.23.4)\n",
      "Requirement already satisfied: charset-normalizer<4,>=2 in /home/bruce/anaconda3/envs/chatbot/lib/python3.12/site-packages (from requests>=2.26.0->tiktoken<1,>=0.5.2->langchain-openai==0.0.8) (3.4.0)\n",
      "Requirement already satisfied: urllib3<3,>=1.21.1 in /home/bruce/anaconda3/envs/chatbot/lib/python3.12/site-packages (from requests>=2.26.0->tiktoken<1,>=0.5.2->langchain-openai==0.0.8) (2.2.3)\n",
      "Requirement already satisfied: chainlit==1.0.401 in /home/bruce/anaconda3/envs/chatbot/lib/python3.12/site-packages (1.0.401)\n",
      "Requirement already satisfied: aiofiles<24.0.0,>=23.1.0 in /home/bruce/anaconda3/envs/chatbot/lib/python3.12/site-packages (from chainlit==1.0.401) (23.2.1)\n",
      "Requirement already satisfied: asyncer<0.0.3,>=0.0.2 in /home/bruce/anaconda3/envs/chatbot/lib/python3.12/site-packages (from chainlit==1.0.401) (0.0.2)\n",
      "Requirement already satisfied: click<9.0.0,>=8.1.3 in /home/bruce/anaconda3/envs/chatbot/lib/python3.12/site-packages (from chainlit==1.0.401) (8.1.7)\n",
      "Requirement already satisfied: dataclasses_json<0.6.0,>=0.5.7 in /home/bruce/anaconda3/envs/chatbot/lib/python3.12/site-packages (from chainlit==1.0.401) (0.5.14)\n",
      "Requirement already satisfied: fastapi>=0.100 in /home/bruce/anaconda3/envs/chatbot/lib/python3.12/site-packages (from chainlit==1.0.401) (0.108.0)\n",
      "Requirement already satisfied: fastapi-socketio<0.0.11,>=0.0.10 in /home/bruce/anaconda3/envs/chatbot/lib/python3.12/site-packages (from chainlit==1.0.401) (0.0.10)\n",
      "Requirement already satisfied: filetype<2.0.0,>=1.2.0 in /home/bruce/anaconda3/envs/chatbot/lib/python3.12/site-packages (from chainlit==1.0.401) (1.2.0)\n",
      "Requirement already satisfied: httpx>=0.23.0 in /home/bruce/anaconda3/envs/chatbot/lib/python3.12/site-packages (from chainlit==1.0.401) (0.27.2)\n",
      "Requirement already satisfied: lazify<0.5.0,>=0.4.0 in /home/bruce/anaconda3/envs/chatbot/lib/python3.12/site-packages (from chainlit==1.0.401) (0.4.0)\n",
      "Requirement already satisfied: literalai==0.0.300 in /home/bruce/anaconda3/envs/chatbot/lib/python3.12/site-packages (from chainlit==1.0.401) (0.0.300)\n",
      "Requirement already satisfied: nest-asyncio<2.0.0,>=1.5.6 in /home/bruce/anaconda3/envs/chatbot/lib/python3.12/site-packages (from chainlit==1.0.401) (1.6.0)\n",
      "Requirement already satisfied: packaging<24.0,>=23.1 in /home/bruce/anaconda3/envs/chatbot/lib/python3.12/site-packages (from chainlit==1.0.401) (23.2)\n",
      "Requirement already satisfied: pydantic<3,>=1 in /home/bruce/anaconda3/envs/chatbot/lib/python3.12/site-packages (from chainlit==1.0.401) (2.9.2)\n",
      "Requirement already satisfied: pyjwt<3.0.0,>=2.8.0 in /home/bruce/anaconda3/envs/chatbot/lib/python3.12/site-packages (from chainlit==1.0.401) (2.9.0)\n",
      "Requirement already satisfied: python-dotenv<2.0.0,>=1.0.0 in /home/bruce/anaconda3/envs/chatbot/lib/python3.12/site-packages (from chainlit==1.0.401) (1.0.1)\n",
      "Requirement already satisfied: python-graphql-client<0.5.0,>=0.4.3 in /home/bruce/anaconda3/envs/chatbot/lib/python3.12/site-packages (from chainlit==1.0.401) (0.4.3)\n",
      "Requirement already satisfied: python-multipart<0.0.10,>=0.0.9 in /home/bruce/anaconda3/envs/chatbot/lib/python3.12/site-packages (from chainlit==1.0.401) (0.0.9)\n",
      "Requirement already satisfied: starlette<0.33.0 in /home/bruce/anaconda3/envs/chatbot/lib/python3.12/site-packages (from chainlit==1.0.401) (0.32.0.post1)\n",
      "Requirement already satisfied: syncer<3.0.0,>=2.0.3 in /home/bruce/anaconda3/envs/chatbot/lib/python3.12/site-packages (from chainlit==1.0.401) (2.0.3)\n",
      "Requirement already satisfied: tomli<3.0.0,>=2.0.1 in /home/bruce/anaconda3/envs/chatbot/lib/python3.12/site-packages (from chainlit==1.0.401) (2.0.2)\n",
      "Requirement already satisfied: uptrace<2.0.0,>=1.22.0 in /home/bruce/anaconda3/envs/chatbot/lib/python3.12/site-packages (from chainlit==1.0.401) (1.27.0)\n",
      "Requirement already satisfied: uvicorn<0.26.0,>=0.25.0 in /home/bruce/anaconda3/envs/chatbot/lib/python3.12/site-packages (from chainlit==1.0.401) (0.25.0)\n",
      "Requirement already satisfied: watchfiles<0.21.0,>=0.20.0 in /home/bruce/anaconda3/envs/chatbot/lib/python3.12/site-packages (from chainlit==1.0.401) (0.20.0)\n",
      "Requirement already satisfied: chevron>=0.14.0 in /home/bruce/anaconda3/envs/chatbot/lib/python3.12/site-packages (from literalai==0.0.300->chainlit==1.0.401) (0.14.0)\n",
      "Requirement already satisfied: anyio<4.0.0,>=3.4.0 in /home/bruce/anaconda3/envs/chatbot/lib/python3.12/site-packages (from asyncer<0.0.3,>=0.0.2->chainlit==1.0.401) (3.7.1)\n",
      "Requirement already satisfied: marshmallow<4.0.0,>=3.18.0 in /home/bruce/anaconda3/envs/chatbot/lib/python3.12/site-packages (from dataclasses_json<0.6.0,>=0.5.7->chainlit==1.0.401) (3.22.0)\n",
      "Requirement already satisfied: typing-inspect<1,>=0.4.0 in /home/bruce/anaconda3/envs/chatbot/lib/python3.12/site-packages (from dataclasses_json<0.6.0,>=0.5.7->chainlit==1.0.401) (0.9.0)\n",
      "Requirement already satisfied: typing-extensions>=4.8.0 in /home/bruce/anaconda3/envs/chatbot/lib/python3.12/site-packages (from fastapi>=0.100->chainlit==1.0.401) (4.12.2)\n",
      "Requirement already satisfied: python-socketio>=4.6.0 in /home/bruce/anaconda3/envs/chatbot/lib/python3.12/site-packages (from fastapi-socketio<0.0.11,>=0.0.10->chainlit==1.0.401) (5.11.4)\n",
      "Requirement already satisfied: certifi in /home/bruce/anaconda3/envs/chatbot/lib/python3.12/site-packages (from httpx>=0.23.0->chainlit==1.0.401) (2024.8.30)\n",
      "Requirement already satisfied: httpcore==1.* in /home/bruce/anaconda3/envs/chatbot/lib/python3.12/site-packages (from httpx>=0.23.0->chainlit==1.0.401) (1.0.6)\n",
      "Requirement already satisfied: idna in /home/bruce/anaconda3/envs/chatbot/lib/python3.12/site-packages (from httpx>=0.23.0->chainlit==1.0.401) (3.10)\n",
      "Requirement already satisfied: sniffio in /home/bruce/anaconda3/envs/chatbot/lib/python3.12/site-packages (from httpx>=0.23.0->chainlit==1.0.401) (1.3.1)\n",
      "Requirement already satisfied: h11<0.15,>=0.13 in /home/bruce/anaconda3/envs/chatbot/lib/python3.12/site-packages (from httpcore==1.*->httpx>=0.23.0->chainlit==1.0.401) (0.14.0)\n",
      "Requirement already satisfied: annotated-types>=0.6.0 in /home/bruce/anaconda3/envs/chatbot/lib/python3.12/site-packages (from pydantic<3,>=1->chainlit==1.0.401) (0.7.0)\n",
      "Requirement already satisfied: pydantic-core==2.23.4 in /home/bruce/anaconda3/envs/chatbot/lib/python3.12/site-packages (from pydantic<3,>=1->chainlit==1.0.401) (2.23.4)\n",
      "Requirement already satisfied: aiohttp~=3.0 in /home/bruce/anaconda3/envs/chatbot/lib/python3.12/site-packages (from python-graphql-client<0.5.0,>=0.4.3->chainlit==1.0.401) (3.10.10)\n",
      "Requirement already satisfied: requests~=2.0 in /home/bruce/anaconda3/envs/chatbot/lib/python3.12/site-packages (from python-graphql-client<0.5.0,>=0.4.3->chainlit==1.0.401) (2.32.3)\n",
      "Requirement already satisfied: websockets>=5.0 in /home/bruce/anaconda3/envs/chatbot/lib/python3.12/site-packages (from python-graphql-client<0.5.0,>=0.4.3->chainlit==1.0.401) (13.1)\n",
      "Requirement already satisfied: opentelemetry-api~=1.27 in /home/bruce/anaconda3/envs/chatbot/lib/python3.12/site-packages (from uptrace<2.0.0,>=1.22.0->chainlit==1.0.401) (1.27.0)\n",
      "Requirement already satisfied: opentelemetry-exporter-otlp~=1.27 in /home/bruce/anaconda3/envs/chatbot/lib/python3.12/site-packages (from uptrace<2.0.0,>=1.22.0->chainlit==1.0.401) (1.27.0)\n",
      "Requirement already satisfied: opentelemetry-instrumentation~=0.48b0 in /home/bruce/anaconda3/envs/chatbot/lib/python3.12/site-packages (from uptrace<2.0.0,>=1.22.0->chainlit==1.0.401) (0.48b0)\n",
      "Requirement already satisfied: opentelemetry-sdk~=1.27 in /home/bruce/anaconda3/envs/chatbot/lib/python3.12/site-packages (from uptrace<2.0.0,>=1.22.0->chainlit==1.0.401) (1.27.0)\n",
      "Requirement already satisfied: aiohappyeyeballs>=2.3.0 in /home/bruce/anaconda3/envs/chatbot/lib/python3.12/site-packages (from aiohttp~=3.0->python-graphql-client<0.5.0,>=0.4.3->chainlit==1.0.401) (2.4.3)\n",
      "Requirement already satisfied: aiosignal>=1.1.2 in /home/bruce/anaconda3/envs/chatbot/lib/python3.12/site-packages (from aiohttp~=3.0->python-graphql-client<0.5.0,>=0.4.3->chainlit==1.0.401) (1.3.1)\n",
      "Requirement already satisfied: attrs>=17.3.0 in /home/bruce/anaconda3/envs/chatbot/lib/python3.12/site-packages (from aiohttp~=3.0->python-graphql-client<0.5.0,>=0.4.3->chainlit==1.0.401) (24.2.0)\n",
      "Requirement already satisfied: frozenlist>=1.1.1 in /home/bruce/anaconda3/envs/chatbot/lib/python3.12/site-packages (from aiohttp~=3.0->python-graphql-client<0.5.0,>=0.4.3->chainlit==1.0.401) (1.4.1)\n",
      "Requirement already satisfied: multidict<7.0,>=4.5 in /home/bruce/anaconda3/envs/chatbot/lib/python3.12/site-packages (from aiohttp~=3.0->python-graphql-client<0.5.0,>=0.4.3->chainlit==1.0.401) (6.1.0)\n",
      "Requirement already satisfied: yarl<2.0,>=1.12.0 in /home/bruce/anaconda3/envs/chatbot/lib/python3.12/site-packages (from aiohttp~=3.0->python-graphql-client<0.5.0,>=0.4.3->chainlit==1.0.401) (1.14.0)\n",
      "Requirement already satisfied: deprecated>=1.2.6 in /home/bruce/anaconda3/envs/chatbot/lib/python3.12/site-packages (from opentelemetry-api~=1.27->uptrace<2.0.0,>=1.22.0->chainlit==1.0.401) (1.2.14)\n",
      "Requirement already satisfied: importlib-metadata<=8.4.0,>=6.0 in /home/bruce/anaconda3/envs/chatbot/lib/python3.12/site-packages (from opentelemetry-api~=1.27->uptrace<2.0.0,>=1.22.0->chainlit==1.0.401) (8.4.0)\n",
      "Requirement already satisfied: opentelemetry-exporter-otlp-proto-grpc==1.27.0 in /home/bruce/anaconda3/envs/chatbot/lib/python3.12/site-packages (from opentelemetry-exporter-otlp~=1.27->uptrace<2.0.0,>=1.22.0->chainlit==1.0.401) (1.27.0)\n",
      "Requirement already satisfied: opentelemetry-exporter-otlp-proto-http==1.27.0 in /home/bruce/anaconda3/envs/chatbot/lib/python3.12/site-packages (from opentelemetry-exporter-otlp~=1.27->uptrace<2.0.0,>=1.22.0->chainlit==1.0.401) (1.27.0)\n",
      "Requirement already satisfied: googleapis-common-protos~=1.52 in /home/bruce/anaconda3/envs/chatbot/lib/python3.12/site-packages (from opentelemetry-exporter-otlp-proto-grpc==1.27.0->opentelemetry-exporter-otlp~=1.27->uptrace<2.0.0,>=1.22.0->chainlit==1.0.401) (1.65.0)\n",
      "Requirement already satisfied: grpcio<2.0.0,>=1.0.0 in /home/bruce/anaconda3/envs/chatbot/lib/python3.12/site-packages (from opentelemetry-exporter-otlp-proto-grpc==1.27.0->opentelemetry-exporter-otlp~=1.27->uptrace<2.0.0,>=1.22.0->chainlit==1.0.401) (1.66.2)\n",
      "Requirement already satisfied: opentelemetry-exporter-otlp-proto-common==1.27.0 in /home/bruce/anaconda3/envs/chatbot/lib/python3.12/site-packages (from opentelemetry-exporter-otlp-proto-grpc==1.27.0->opentelemetry-exporter-otlp~=1.27->uptrace<2.0.0,>=1.22.0->chainlit==1.0.401) (1.27.0)\n",
      "Requirement already satisfied: opentelemetry-proto==1.27.0 in /home/bruce/anaconda3/envs/chatbot/lib/python3.12/site-packages (from opentelemetry-exporter-otlp-proto-grpc==1.27.0->opentelemetry-exporter-otlp~=1.27->uptrace<2.0.0,>=1.22.0->chainlit==1.0.401) (1.27.0)\n",
      "Requirement already satisfied: protobuf<5.0,>=3.19 in /home/bruce/anaconda3/envs/chatbot/lib/python3.12/site-packages (from opentelemetry-proto==1.27.0->opentelemetry-exporter-otlp-proto-grpc==1.27.0->opentelemetry-exporter-otlp~=1.27->uptrace<2.0.0,>=1.22.0->chainlit==1.0.401) (4.25.5)\n",
      "Requirement already satisfied: setuptools>=16.0 in /home/bruce/anaconda3/envs/chatbot/lib/python3.12/site-packages (from opentelemetry-instrumentation~=0.48b0->uptrace<2.0.0,>=1.22.0->chainlit==1.0.401) (75.1.0)\n",
      "Requirement already satisfied: wrapt<2.0.0,>=1.0.0 in /home/bruce/anaconda3/envs/chatbot/lib/python3.12/site-packages (from opentelemetry-instrumentation~=0.48b0->uptrace<2.0.0,>=1.22.0->chainlit==1.0.401) (1.16.0)\n",
      "Requirement already satisfied: opentelemetry-semantic-conventions==0.48b0 in /home/bruce/anaconda3/envs/chatbot/lib/python3.12/site-packages (from opentelemetry-sdk~=1.27->uptrace<2.0.0,>=1.22.0->chainlit==1.0.401) (0.48b0)\n",
      "Requirement already satisfied: bidict>=0.21.0 in /home/bruce/anaconda3/envs/chatbot/lib/python3.12/site-packages (from python-socketio>=4.6.0->fastapi-socketio<0.0.11,>=0.0.10->chainlit==1.0.401) (0.23.1)\n",
      "Requirement already satisfied: python-engineio>=4.8.0 in /home/bruce/anaconda3/envs/chatbot/lib/python3.12/site-packages (from python-socketio>=4.6.0->fastapi-socketio<0.0.11,>=0.0.10->chainlit==1.0.401) (4.9.1)\n",
      "Requirement already satisfied: charset-normalizer<4,>=2 in /home/bruce/anaconda3/envs/chatbot/lib/python3.12/site-packages (from requests~=2.0->python-graphql-client<0.5.0,>=0.4.3->chainlit==1.0.401) (3.4.0)\n",
      "Requirement already satisfied: urllib3<3,>=1.21.1 in /home/bruce/anaconda3/envs/chatbot/lib/python3.12/site-packages (from requests~=2.0->python-graphql-client<0.5.0,>=0.4.3->chainlit==1.0.401) (2.2.3)\n",
      "Requirement already satisfied: mypy-extensions>=0.3.0 in /home/bruce/anaconda3/envs/chatbot/lib/python3.12/site-packages (from typing-inspect<1,>=0.4.0->dataclasses_json<0.6.0,>=0.5.7->chainlit==1.0.401) (1.0.0)\n",
      "Requirement already satisfied: zipp>=0.5 in /home/bruce/anaconda3/envs/chatbot/lib/python3.12/site-packages (from importlib-metadata<=8.4.0,>=6.0->opentelemetry-api~=1.27->uptrace<2.0.0,>=1.22.0->chainlit==1.0.401) (3.20.2)\n",
      "Requirement already satisfied: simple-websocket>=0.10.0 in /home/bruce/anaconda3/envs/chatbot/lib/python3.12/site-packages (from python-engineio>=4.8.0->python-socketio>=4.6.0->fastapi-socketio<0.0.11,>=0.0.10->chainlit==1.0.401) (1.1.0)\n",
      "Requirement already satisfied: propcache>=0.2.0 in /home/bruce/anaconda3/envs/chatbot/lib/python3.12/site-packages (from yarl<2.0,>=1.12.0->aiohttp~=3.0->python-graphql-client<0.5.0,>=0.4.3->chainlit==1.0.401) (0.2.0)\n",
      "Requirement already satisfied: wsproto in /home/bruce/anaconda3/envs/chatbot/lib/python3.12/site-packages (from simple-websocket>=0.10.0->python-engineio>=4.8.0->python-socketio>=4.6.0->fastapi-socketio<0.0.11,>=0.0.10->chainlit==1.0.401) (1.2.0)\n"
     ]
    },
    {
     "data": {
      "text/plain": [
       "'\\n# if you are running this on Collab, you will need ngrok to access your python app\\n!pip install pyngrok==7.1.5\\n'"
      ]
     },
     "execution_count": 9,
     "metadata": {},
     "output_type": "execute_result"
    }
   ],
   "source": [
    "!pip install langchain==0.1.12\n",
    "!pip install langchain-openai==0.0.8\n",
    "!pip install chainlit==1.0.401\n",
    "!pip install pydantic==2.6.1\n",
    "'''\n",
    "# if you are running this on Collab, you will need ngrok to access your python app\n",
    "!pip install pyngrok==7.1.5\n",
    "'''"
   ]
  },
  {
   "cell_type": "markdown",
   "metadata": {
    "id": "CiwGjVWK4q6F"
   },
   "source": [
    "## Load OpenAI API Credentials\n",
    "\n",
    "Here we load it from a file so we don't explore the credentials on the internet by mistake"
   ]
  },
  {
   "cell_type": "code",
   "execution_count": 10,
   "metadata": {
    "id": "5e1HqI56y7t3"
   },
   "outputs": [],
   "source": [
    "import locale\n",
    "locale.getpreferredencoding = lambda: \"UTF-8\""
   ]
  },
  {
   "cell_type": "code",
   "execution_count": 11,
   "metadata": {
    "id": "ryheOZuXxa41"
   },
   "outputs": [
    {
     "data": {
      "text/plain": [
       "True"
      ]
     },
     "execution_count": 11,
     "metadata": {},
     "output_type": "execute_result"
    }
   ],
   "source": [
    "from dotenv import load_dotenv\n",
    "\n",
    "load_dotenv()  # take environment variables from .env."
   ]
  },
  {
   "cell_type": "markdown",
   "metadata": {
    "id": "RCMshwB1U9iQ"
   },
   "source": [
    "## Write the app code here and store it in a py file"
   ]
  },
  {
   "cell_type": "code",
   "execution_count": 15,
   "metadata": {
    "colab": {
     "base_uri": "https://localhost:8080/"
    },
    "id": "XXceMDF0Qza0",
    "outputId": "4b78011e-51e3-41e6-ae01-111bd6da9dd3"
   },
   "outputs": [
    {
     "name": "stdout",
     "output_type": "stream",
     "text": [
      "Overwriting app.py\n"
     ]
    }
   ],
   "source": [
    "%%writefile app.py\n",
    "# the previous line is a magic command\n",
    "# that will write all the code below it to the python file app.py\n",
    "# we will then deploy this app.py file on the cloud server where colab is running\n",
    "# if you have your own server you can just write the code in app.py and deploy it directly\n",
    "\n",
    "\n",
    "from langchain_openai import ChatOpenAI\n",
    "from langchain.memory import ConversationBufferWindowMemory\n",
    "from langchain_core.prompts import ChatPromptTemplate, MessagesPlaceholder\n",
    "from langchain_core.runnables import RunnableLambda, RunnablePassthrough\n",
    "from langchain.schema.runnable.config import RunnableConfig\n",
    "from langchain.schema import StrOutputParser\n",
    "from operator import itemgetter\n",
    "import chainlit as cl\n",
    "\n",
    "@cl.on_chat_start\n",
    "# this function is called when the app starts for the first time\n",
    "async def when_chat_starts():\n",
    "\n",
    "  # Load a connection to ChatGPT LLM\n",
    "  chatgpt = ChatOpenAI(model_name='gpt-3.5-turbo', temperature=0.1,\n",
    "                       streaming=True)\n",
    "\n",
    "  # Add a basic system prompt for LLM behavior\n",
    "  SYS_PROMPT = \"\"\"\n",
    "               Act as a helpful assistant and answer questions to the best of your ability.\n",
    "               Do not make up answers.\n",
    "               \"\"\"\n",
    "\n",
    "  # Create a prompt template for langchain to use history to answer user prompts\n",
    "  prompt = ChatPromptTemplate.from_messages(\n",
    "    [\n",
    "      (\"system\", SYS_PROMPT),\n",
    "      MessagesPlaceholder(variable_name=\"history\"),\n",
    "      (\"human\", \"{input}\"),\n",
    "    ]\n",
    "  )\n",
    "\n",
    "  # Create a memory object to store conversation history window\n",
    "  memory = ConversationBufferWindowMemory(k=20,\n",
    "                                          return_messages=True)\n",
    "\n",
    "  # Create a conversation chain\n",
    "  conversation_chain = (\n",
    "    RunnablePassthrough.assign(\n",
    "      history=RunnableLambda(memory.load_memory_variables)\n",
    "      |\n",
    "      itemgetter(\"history\")\n",
    "    )\n",
    "    |\n",
    "    prompt\n",
    "    |\n",
    "    chatgpt\n",
    "    |\n",
    "    StrOutputParser() # to parse the output to show on UI\n",
    "  )\n",
    "  # Set session variables to be accessed when user enters prompts in the app\n",
    "  cl.user_session.set(\"chain\", conversation_chain)\n",
    "  cl.user_session.set(\"memory\", memory)\n",
    "\n",
    "\n",
    "@cl.on_message\n",
    "# this function is called whenever the user sends a prompt message in the app\n",
    "async def on_user_message(message: cl.Message):\n",
    "\n",
    "  # get the chain and memory objects from the session variables\n",
    "  chain = cl.user_session.get(\"chain\")\n",
    "  memory = cl.user_session.get(\"memory\")\n",
    "\n",
    "  # this will store the response from ChatGPT LLM\n",
    "  chatgpt_message = cl.Message(content=\"\")\n",
    "\n",
    "  # Stream the response from ChatGPT and show in real-time\n",
    "  async for chunk in chain.astream(\n",
    "    {\"input\": message.content},\n",
    "    config=RunnableConfig(callbacks=[cl.LangchainCallbackHandler()]),\n",
    "  ):\n",
    "      await chatgpt_message.stream_token(chunk)\n",
    "  # Finish displaying the full response from ChatGPT\n",
    "  await chatgpt_message.send()\n",
    "  # Store the current conversation in the memory object\n",
    "  memory.save_context({\"input\": message.content},\n",
    "                      {\"output\": chatgpt_message.content})\n"
   ]
  },
  {
   "cell_type": "markdown",
   "metadata": {
    "id": "8de1tM6FVLsq"
   },
   "source": [
    "## Start the app"
   ]
  },
  {
   "cell_type": "code",
   "execution_count": 14,
   "metadata": {
    "id": "Za_TAI2RkPI9"
   },
   "outputs": [
    {
     "ename": "OSError",
     "evalue": "Background processes not supported.",
     "output_type": "error",
     "traceback": [
      "\u001b[0;31m---------------------------------------------------------------------------\u001b[0m",
      "\u001b[0;31mOSError\u001b[0m                                   Traceback (most recent call last)",
      "Cell \u001b[0;32mIn[14], line 1\u001b[0m\n\u001b[0;32m----> 1\u001b[0m get_ipython()\u001b[38;5;241m.\u001b[39msystem(\u001b[38;5;124m'\u001b[39m\u001b[38;5;124mchainlit run app.py --port=8989 --watch &>./logs.txt &\u001b[39m\u001b[38;5;124m'\u001b[39m)\n",
      "File \u001b[0;32m~/anaconda3/envs/chatbot/lib/python3.12/site-packages/ipykernel/zmqshell.py:641\u001b[0m, in \u001b[0;36mZMQInteractiveShell.system_piped\u001b[0;34m(self, cmd)\u001b[0m\n\u001b[1;32m    634\u001b[0m \u001b[38;5;28;01mif\u001b[39;00m cmd\u001b[38;5;241m.\u001b[39mrstrip()\u001b[38;5;241m.\u001b[39mendswith(\u001b[38;5;124m\"\u001b[39m\u001b[38;5;124m&\u001b[39m\u001b[38;5;124m\"\u001b[39m):\n\u001b[1;32m    635\u001b[0m     \u001b[38;5;66;03m# this is *far* from a rigorous test\u001b[39;00m\n\u001b[1;32m    636\u001b[0m     \u001b[38;5;66;03m# We do not support backgrounding processes because we either use\u001b[39;00m\n\u001b[1;32m    637\u001b[0m     \u001b[38;5;66;03m# pexpect or pipes to read from.  Users can always just call\u001b[39;00m\n\u001b[1;32m    638\u001b[0m     \u001b[38;5;66;03m# os.system() or use ip.system=ip.system_raw\u001b[39;00m\n\u001b[1;32m    639\u001b[0m     \u001b[38;5;66;03m# if they really want a background process.\u001b[39;00m\n\u001b[1;32m    640\u001b[0m     msg \u001b[38;5;241m=\u001b[39m \u001b[38;5;124m\"\u001b[39m\u001b[38;5;124mBackground processes not supported.\u001b[39m\u001b[38;5;124m\"\u001b[39m\n\u001b[0;32m--> 641\u001b[0m     \u001b[38;5;28;01mraise\u001b[39;00m \u001b[38;5;167;01mOSError\u001b[39;00m(msg)\n\u001b[1;32m    643\u001b[0m \u001b[38;5;66;03m# we explicitly do NOT return the subprocess status code, because\u001b[39;00m\n\u001b[1;32m    644\u001b[0m \u001b[38;5;66;03m# a non-None value would trigger :func:`sys.displayhook` calls.\u001b[39;00m\n\u001b[1;32m    645\u001b[0m \u001b[38;5;66;03m# Instead, we store the exit_code in user_ns.\u001b[39;00m\n\u001b[1;32m    646\u001b[0m \u001b[38;5;66;03m# Also, protect system call from UNC paths on Windows here too\u001b[39;00m\n\u001b[1;32m    647\u001b[0m \u001b[38;5;66;03m# as is done in InteractiveShell.system_raw\u001b[39;00m\n\u001b[1;32m    648\u001b[0m \u001b[38;5;28;01mif\u001b[39;00m sys\u001b[38;5;241m.\u001b[39mplatform \u001b[38;5;241m==\u001b[39m \u001b[38;5;124m\"\u001b[39m\u001b[38;5;124mwin32\u001b[39m\u001b[38;5;124m\"\u001b[39m:\n",
      "\u001b[0;31mOSError\u001b[0m: Background processes not supported."
     ]
    }
   ],
   "source": [
    "!chainlit run app.py --port=8989 --watch &>./logs.txt &"
   ]
  },
  {
   "cell_type": "code",
   "execution_count": null,
   "metadata": {
    "colab": {
     "base_uri": "https://localhost:8080/"
    },
    "id": "FrVhyQVirAqP",
    "outputId": "28fe76fa-5890-408f-dec5-6ac472255501"
   },
   "outputs": [
    {
     "name": "stdout",
     "output_type": "stream",
     "text": [
      "Chainlit App: https://7df0-35-227-140-75.ngrok-free.app\n"
     ]
    }
   ],
   "source": [
    "from pyngrok import ngrok\n",
    "import yaml\n",
    "\n",
    "# Terminate open tunnels if exist\n",
    "ngrok.kill()\n",
    "\n",
    "# Setting the authtoken\n",
    "# Get your authtoken from `ngrok_credentials.yml` file\n",
    "with open('ngrok_credentials.yml', 'r') as file:\n",
    "    NGROK_AUTH_TOKEN = yaml.safe_load(file)\n",
    "ngrok.set_auth_token(NGROK_AUTH_TOKEN['ngrok_key'])\n",
    "\n",
    "# Open an HTTPs tunnel on port XXXX which you get from your `logs.txt` file\n",
    "ngrok_tunnel = ngrok.connect(8989)\n",
    "print(\"Chainlit App:\", ngrok_tunnel.public_url)"
   ]
  },
  {
   "cell_type": "markdown",
   "metadata": {
    "id": "ZndKMZcUVNyi"
   },
   "source": [
    "## Change the Initial app screen"
   ]
  },
  {
   "cell_type": "code",
   "execution_count": null,
   "metadata": {
    "colab": {
     "base_uri": "https://localhost:8080/"
    },
    "id": "3ajK7oAJ-nx-",
    "outputId": "bd5b5fac-922d-4e18-b6ad-995e961c06d5"
   },
   "outputs": [
    {
     "name": "stdout",
     "output_type": "stream",
     "text": [
      "Overwriting chainlit.md\n"
     ]
    }
   ],
   "source": [
    "%%writefile chainlit.md\n",
    "\n",
    "# Welcome I am AI Assistant 🤖\n",
    "\n",
    "How can I help you today?"
   ]
  },
  {
   "cell_type": "markdown",
   "metadata": {
    "id": "2Q3yFB_jsgC5"
   },
   "source": [
    "## Remove running app processes"
   ]
  },
  {
   "cell_type": "code",
   "execution_count": null,
   "metadata": {
    "id": "pG7Abg_LrAw6"
   },
   "outputs": [],
   "source": [
    "ngrok.kill()"
   ]
  },
  {
   "cell_type": "code",
   "execution_count": null,
   "metadata": {
    "colab": {
     "base_uri": "https://localhost:8080/"
    },
    "id": "x2VA4ZtCkPNN",
    "outputId": "6b86ed23-1c8d-4b9a-9c18-ffae3ae2f514"
   },
   "outputs": [
    {
     "name": "stdout",
     "output_type": "stream",
     "text": [
      "root           7       1  0 23:28 ?        00:00:07 /tools/node/bin/node /datalab/web/app.js\n",
      "root        5617       1  2 23:51 ?        00:00:10 /usr/bin/python3 /usr/local/bin/chainlit run app\n",
      "root        7121     498  0 23:57 ?        00:00:00 /bin/bash -c ps -ef | grep app\n",
      "root        7123    7121  0 23:57 ?        00:00:00 grep app\n"
     ]
    }
   ],
   "source": [
    "!ps -ef | grep app"
   ]
  },
  {
   "cell_type": "code",
   "execution_count": null,
   "metadata": {
    "id": "_WxGAxGHkPLP"
   },
   "outputs": [],
   "source": [
    "!sudo kill -9 5617"
   ]
  },
  {
   "cell_type": "code",
   "execution_count": null,
   "metadata": {
    "id": "MlBQh5fdkPPY"
   },
   "outputs": [],
   "source": []
  }
 ],
 "metadata": {
  "colab": {
   "provenance": []
  },
  "kernelspec": {
   "display_name": "Python 3 (ipykernel)",
   "language": "python",
   "name": "python3"
  },
  "language_info": {
   "codemirror_mode": {
    "name": "ipython",
    "version": 3
   },
   "file_extension": ".py",
   "mimetype": "text/x-python",
   "name": "python",
   "nbconvert_exporter": "python",
   "pygments_lexer": "ipython3",
   "version": "3.12.7"
  }
 },
 "nbformat": 4,
 "nbformat_minor": 4
}

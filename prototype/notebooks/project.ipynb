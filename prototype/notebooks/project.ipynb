{
 "cells": [
  {
   "cell_type": "markdown",
   "id": "197dfdfb-094f-4502-819e-9deee7e5e2ac",
   "metadata": {},
   "source": [
    "# Prototype project"
   ]
  },
  {
   "cell_type": "markdown",
   "id": "17eaf94d-8106-4680-bdaa-18803597ec6a",
   "metadata": {},
   "source": [
    "This is a bare bones project that is ready to use with CUDA, PyTorch, Numpy, Pandas, Scikit-learn.\n",
    "\n",
    "This is a project that uses:\n",
    "\n",
    "- `environment.yml` to set up Python environment. \n",
    "- `.env` file (as described in the README.md file) to bring in environment variables, such as API keys.\n",
    "- Tests the environment for CUDA installation."
   ]
  },
  {
   "cell_type": "markdown",
   "id": "b9a33ed5-7be2-42dc-8525-244de07e439c",
   "metadata": {},
   "source": [
    "## Check installation of packages"
   ]
  },
  {
   "cell_type": "code",
   "execution_count": 4,
   "id": "c1e17452-dda4-4b9a-bb97-27b5b1c8366c",
   "metadata": {},
   "outputs": [
    {
     "name": "stdout",
     "output_type": "stream",
     "text": [
      "np: 1.25.2\n",
      "pd: 1.5.3\n",
      "sklearn: 1.2.2\n",
      "sns: 0.13.1\n"
     ]
    }
   ],
   "source": [
    "import numpy as np\n",
    "import pandas as pd\n",
    "import sklearn\n",
    "import seaborn as sns\n",
    "\n",
    "print(f'np: {np.__version__}')\n",
    "print(f'pd: {pd.__version__}')\n",
    "print(f'sklearn: {sklearn.__version__}')\n",
    "print(f'sns: {sns.__version__}')\n",
    "\n",
    "# to restrict the float value to 3 decimal places\n",
    "pd.set_option('display.float_format', lambda x: '%.3f' % x)"
   ]
  },
  {
   "cell_type": "markdown",
   "id": "8ff986e9-e0ac-4a5b-809f-83fbb2d87244",
   "metadata": {},
   "source": [
    "## Set the environment variables"
   ]
  },
  {
   "cell_type": "markdown",
   "id": "120bbdb6-2578-4242-9e7a-ea8b9a2b1768",
   "metadata": {},
   "source": [
    "See all that were passed into the Notebook from the system"
   ]
  },
  {
   "cell_type": "code",
   "execution_count": 7,
   "id": "5d47b009-c6b6-4caf-87d5-1005f2771771",
   "metadata": {},
   "outputs": [
    {
     "data": {
      "text/plain": [
       "{'ALLUSERSPROFILE': 'C:\\\\ProgramData',\n",
       " 'APPDATA': 'C:\\\\Users\\\\bruce\\\\AppData\\\\Roaming',\n",
       " 'ASL.LOG': 'Destination=file',\n",
       " 'COMMONPROGRAMFILES': 'C:\\\\Program Files\\\\Common Files',\n",
       " 'COMMONPROGRAMFILES(X86)': 'C:\\\\Program Files (x86)\\\\Common Files',\n",
       " 'COMMONPROGRAMW6432': 'C:\\\\Program Files\\\\Common Files',\n",
       " 'COMPUTERNAME': 'LEGION03',\n",
       " 'COMSPEC': 'C:\\\\WINDOWS\\\\system32\\\\cmd.exe',\n",
       " 'CONDA_DEFAULT_ENV': 'base',\n",
       " 'CONDA_EXE': 'C:\\\\Users\\\\bruce\\\\anaconda3\\\\Scripts\\\\conda.exe',\n",
       " 'CONDA_PROMPT_MODIFIER': '(base) ',\n",
       " 'CONDA_PYTHON_EXE': 'C:\\\\Users\\\\bruce\\\\anaconda3\\\\python.exe',\n",
       " 'CONDA_SHLVL': '1',\n",
       " 'CUDA_PATH': 'C:\\\\Program Files\\\\NVIDIA GPU Computing Toolkit\\\\CUDA\\\\v12.1',\n",
       " 'CUDA_PATH_V12_1': 'C:\\\\Program Files\\\\NVIDIA GPU Computing Toolkit\\\\CUDA\\\\v12.1',\n",
       " 'DRIVERDATA': 'C:\\\\Windows\\\\System32\\\\Drivers\\\\DriverData',\n",
       " 'EFC_8472': '1',\n",
       " 'HOMEDRIVE': 'C:',\n",
       " 'HOMEPATH': '\\\\Users\\\\bruce',\n",
       " 'LOCALAPPDATA': 'C:\\\\Users\\\\bruce\\\\AppData\\\\Local',\n",
       " 'LOGONSERVER': '\\\\\\\\LEGION03',\n",
       " 'NUMBER_OF_PROCESSORS': '16',\n",
       " 'ONEDRIVE': 'C:\\\\Users\\\\bruce\\\\OneDrive',\n",
       " 'ONEDRIVECONSUMER': 'C:\\\\Users\\\\bruce\\\\OneDrive',\n",
       " 'OS': 'Windows_NT',\n",
       " 'PATH': 'C:\\\\Users\\\\bruce\\\\anaconda3;C:\\\\Users\\\\bruce\\\\anaconda3\\\\Library\\\\mingw-w64\\\\bin;C:\\\\Users\\\\bruce\\\\anaconda3\\\\Library\\\\usr\\\\bin;C:\\\\Users\\\\bruce\\\\anaconda3\\\\Library\\\\bin;C:\\\\Users\\\\bruce\\\\anaconda3\\\\Scripts;C:\\\\Users\\\\bruce\\\\anaconda3\\\\bin;C:\\\\Users\\\\bruce\\\\anaconda3\\\\condabin;C:\\\\Users\\\\bruce\\\\anaconda3;C:\\\\Users\\\\bruce\\\\anaconda3\\\\Library\\\\mingw-w64\\\\bin;C:\\\\Users\\\\bruce\\\\anaconda3\\\\Library\\\\usr\\\\bin;C:\\\\Users\\\\bruce\\\\anaconda3\\\\Library\\\\bin;C:\\\\Users\\\\bruce\\\\anaconda3\\\\Scripts;C:\\\\Program Files\\\\NVIDIA GPU Computing Toolkit\\\\CUDA\\\\v12.1\\\\bin;C:\\\\Program Files\\\\NVIDIA GPU Computing Toolkit\\\\CUDA\\\\v12.1\\\\libnvvp;C:\\\\Program Files\\\\Microsoft SDKs\\\\Azure\\\\CLI2\\\\wbin;C:\\\\Windows\\\\system32;C:\\\\Windows;C:\\\\Windows\\\\System32\\\\Wbem;C:\\\\Windows\\\\System32\\\\WindowsPowerShell\\\\v1.0;C:\\\\Windows\\\\System32\\\\OpenSSH;C:\\\\Program Files (x86)\\\\NVIDIA Corporation\\\\PhysX\\\\Common;C:\\\\Program Files\\\\NVIDIA Corporation\\\\NVIDIA NvDLISR;C:\\\\Program Files\\\\Microsoft SQL Server\\\\150\\\\Tools\\\\Binn;C:\\\\Program Files\\\\Microsoft SQL Server\\\\Client SDK\\\\ODBC\\\\170\\\\Tools\\\\Binn;C:\\\\Program Files\\\\dotnet;C:\\\\WINDOWS\\\\system32;C:\\\\WINDOWS;C:\\\\WINDOWS\\\\System32\\\\Wbem;C:\\\\WINDOWS\\\\System32\\\\WindowsPowerShell\\\\v1.0;C:\\\\WINDOWS\\\\System32\\\\OpenSSH;C:\\\\Program Files\\\\Git\\\\cmd;C:\\\\Program Files\\\\NVIDIA Corporation\\\\Nsight Compute 2023.1.0;C:\\\\Program Files\\\\RedHat\\\\Podman;C:\\\\Users\\\\bruce\\\\AppData\\\\Local\\\\Microsoft\\\\WindowsApps;C:\\\\Users\\\\bruce\\\\.dotnet\\\\tools;.;C:\\\\Users\\\\bruce\\\\AppData\\\\Local\\\\Programs\\\\Microsoft VS Code\\\\bin',\n",
       " 'PATHEXT': '.COM;.EXE;.BAT;.CMD;.VBS;.VBE;.JS;.JSE;.WSF;.WSH;.MSC',\n",
       " 'PROCESSOR_ARCHITECTURE': 'AMD64',\n",
       " 'PROCESSOR_IDENTIFIER': 'AMD64 Family 25 Model 80 Stepping 0, AuthenticAMD',\n",
       " 'PROCESSOR_LEVEL': '25',\n",
       " 'PROCESSOR_REVISION': '5000',\n",
       " 'PROGRAMDATA': 'C:\\\\ProgramData',\n",
       " 'PROGRAMFILES': 'C:\\\\Program Files',\n",
       " 'PROGRAMFILES(X86)': 'C:\\\\Program Files (x86)',\n",
       " 'PROGRAMW6432': 'C:\\\\Program Files',\n",
       " 'PROMPT': '(base) $P$G',\n",
       " 'PSMODULEPATH': 'C:\\\\Program Files\\\\WindowsPowerShell\\\\Modules;C:\\\\WINDOWS\\\\system32\\\\WindowsPowerShell\\\\v1.0\\\\Modules',\n",
       " 'PUBLIC': 'C:\\\\Users\\\\Public',\n",
       " 'SESSIONNAME': 'Console',\n",
       " 'SSL_CERT_FILE': 'C:\\\\Users\\\\bruce\\\\anaconda3\\\\Library\\\\ssl\\\\cacert.pem',\n",
       " 'SYSTEMDRIVE': 'C:',\n",
       " 'SYSTEMROOT': 'C:\\\\WINDOWS',\n",
       " 'TEMP': 'C:\\\\Users\\\\bruce\\\\AppData\\\\Local\\\\Temp',\n",
       " 'TMP': 'C:\\\\Users\\\\bruce\\\\AppData\\\\Local\\\\Temp',\n",
       " 'USERDOMAIN': 'LEGION03',\n",
       " 'USERDOMAIN_ROAMINGPROFILE': 'LEGION03',\n",
       " 'USERNAME': 'bruce',\n",
       " 'USERPROFILE': 'C:\\\\Users\\\\bruce',\n",
       " 'WINDIR': 'C:\\\\WINDOWS',\n",
       " 'CONDA_PREFIX': 'C:\\\\Users\\\\bruce\\\\anaconda3',\n",
       " 'CONDA_ROOT': 'C:\\\\Users\\\\bruce\\\\anaconda3',\n",
       " '__CONDA_OPENSLL_CERT_FILE_SET': '\"1\"',\n",
       " 'PYDEVD_USE_FRAME_EVAL': 'NO',\n",
       " 'JPY_SESSION_NAME': 'C:\\\\Users\\\\bruce\\\\test\\\\project\\\\project.ipynb',\n",
       " 'JPY_INTERRUPT_EVENT': '7176',\n",
       " 'IPY_INTERRUPT_EVENT': '7176',\n",
       " 'JPY_PARENT_PID': '7464',\n",
       " 'TERM': 'xterm-color',\n",
       " 'CLICOLOR': '1',\n",
       " 'FORCE_COLOR': '1',\n",
       " 'CLICOLOR_FORCE': '1',\n",
       " 'PAGER': 'cat',\n",
       " 'GIT_PAGER': 'cat',\n",
       " 'MPLBACKEND': 'module://matplotlib_inline.backend_inline',\n",
       " 'KMP_DUPLICATE_LIB_OK': 'True',\n",
       " 'KMP_INIT_AT_FORK': 'FALSE'}"
      ]
     },
     "execution_count": 7,
     "metadata": {},
     "output_type": "execute_result"
    }
   ],
   "source": [
    "%env"
   ]
  },
  {
   "cell_type": "code",
   "execution_count": 8,
   "id": "abcde424-31e1-4934-9f8e-3019d9caa896",
   "metadata": {},
   "outputs": [
    {
     "data": {
      "text/plain": [
       "True"
      ]
     },
     "execution_count": 8,
     "metadata": {},
     "output_type": "execute_result"
    }
   ],
   "source": [
    "from dotenv import load_dotenv\n",
    "\n",
    "load_dotenv()  # take environment variables from .env."
   ]
  },
  {
   "cell_type": "code",
   "execution_count": 9,
   "id": "47908a9a-0eb9-4dbc-a081-6431e52e64af",
   "metadata": {},
   "outputs": [
    {
     "data": {
      "text/plain": [
       "'polkalover'"
      ]
     },
     "execution_count": 9,
     "metadata": {},
     "output_type": "execute_result"
    }
   ],
   "source": [
    "import os\n",
    "music_secret=os.getenv('MUSICSECRET')\n",
    "music_secret"
   ]
  },
  {
   "cell_type": "code",
   "execution_count": 10,
   "id": "6755ecc5-af6c-4a74-ba6e-3d15971ce77d",
   "metadata": {},
   "outputs": [
    {
     "data": {
      "text/plain": [
       "'1168310b-577e-451c-aca0-4e3470f86488'"
      ]
     },
     "execution_count": 10,
     "metadata": {},
     "output_type": "execute_result"
    }
   ],
   "source": [
    "api_key=os.environ['API_KEY']\n",
    "api_key"
   ]
  },
  {
   "cell_type": "markdown",
   "id": "82f5883c-eac6-4fda-92ca-d2e55039bc94",
   "metadata": {},
   "source": [
    "## Check installation of CUDA"
   ]
  },
  {
   "cell_type": "code",
   "execution_count": 12,
   "id": "04bc4bea-388a-41a8-bebc-92304d2aeea5",
   "metadata": {
    "scrolled": true
   },
   "outputs": [
    {
     "name": "stdout",
     "output_type": "stream",
     "text": [
      "cuda enable: False\n"
     ]
    },
    {
     "ename": "AssertionError",
     "evalue": "Torch not compiled with CUDA enabled",
     "output_type": "error",
     "traceback": [
      "\u001b[1;31m---------------------------------------------------------------------------\u001b[0m",
      "\u001b[1;31mAssertionError\u001b[0m                            Traceback (most recent call last)",
      "Cell \u001b[1;32mIn[12], line 4\u001b[0m\n\u001b[0;32m      1\u001b[0m \u001b[38;5;28;01mimport\u001b[39;00m \u001b[38;5;21;01mtorch\u001b[39;00m\n\u001b[0;32m      3\u001b[0m \u001b[38;5;28mprint\u001b[39m(\u001b[38;5;124mf\u001b[39m\u001b[38;5;124m'\u001b[39m\u001b[38;5;124mcuda enable: \u001b[39m\u001b[38;5;132;01m{\u001b[39;00mtorch\u001b[38;5;241m.\u001b[39mcuda\u001b[38;5;241m.\u001b[39mis_available()\u001b[38;5;132;01m}\u001b[39;00m\u001b[38;5;124m'\u001b[39m)\n\u001b[1;32m----> 4\u001b[0m \u001b[38;5;28mprint\u001b[39m(\u001b[38;5;124mf\u001b[39m\u001b[38;5;124m'\u001b[39m\u001b[38;5;124mcurrent_device: \u001b[39m\u001b[38;5;132;01m{\u001b[39;00mtorch\u001b[38;5;241m.\u001b[39mcuda\u001b[38;5;241m.\u001b[39mcurrent_device()\u001b[38;5;132;01m}\u001b[39;00m\u001b[38;5;124m'\u001b[39m)\n\u001b[0;32m      5\u001b[0m \u001b[38;5;28mprint\u001b[39m(\u001b[38;5;124mf\u001b[39m\u001b[38;5;124m'\u001b[39m\u001b[38;5;124mdevice: \u001b[39m\u001b[38;5;132;01m{\u001b[39;00mtorch\u001b[38;5;241m.\u001b[39mcuda\u001b[38;5;241m.\u001b[39mdevice(\u001b[38;5;241m0\u001b[39m)\u001b[38;5;132;01m}\u001b[39;00m\u001b[38;5;124m'\u001b[39m)\n\u001b[0;32m      6\u001b[0m \u001b[38;5;28mprint\u001b[39m(\u001b[38;5;124mf\u001b[39m\u001b[38;5;124m'\u001b[39m\u001b[38;5;124mdevice_count: \u001b[39m\u001b[38;5;132;01m{\u001b[39;00mtorch\u001b[38;5;241m.\u001b[39mcuda\u001b[38;5;241m.\u001b[39mdevice_count()\u001b[38;5;132;01m}\u001b[39;00m\u001b[38;5;124m'\u001b[39m)\n",
      "File \u001b[1;32m~\\anaconda3\\Lib\\site-packages\\torch\\cuda\\__init__.py:878\u001b[0m, in \u001b[0;36mcurrent_device\u001b[1;34m()\u001b[0m\n\u001b[0;32m    876\u001b[0m \u001b[38;5;28;01mdef\u001b[39;00m \u001b[38;5;21mcurrent_device\u001b[39m() \u001b[38;5;241m-\u001b[39m\u001b[38;5;241m>\u001b[39m \u001b[38;5;28mint\u001b[39m:\n\u001b[0;32m    877\u001b[0m \u001b[38;5;250m    \u001b[39m\u001b[38;5;124mr\u001b[39m\u001b[38;5;124;03m\"\"\"Return the index of a currently selected device.\"\"\"\u001b[39;00m\n\u001b[1;32m--> 878\u001b[0m     _lazy_init()\n\u001b[0;32m    879\u001b[0m     \u001b[38;5;28;01mreturn\u001b[39;00m torch\u001b[38;5;241m.\u001b[39m_C\u001b[38;5;241m.\u001b[39m_cuda_getDevice()\n",
      "File \u001b[1;32m~\\anaconda3\\Lib\\site-packages\\torch\\cuda\\__init__.py:305\u001b[0m, in \u001b[0;36m_lazy_init\u001b[1;34m()\u001b[0m\n\u001b[0;32m    300\u001b[0m     \u001b[38;5;28;01mraise\u001b[39;00m \u001b[38;5;167;01mRuntimeError\u001b[39;00m(\n\u001b[0;32m    301\u001b[0m         \u001b[38;5;124m\"\u001b[39m\u001b[38;5;124mCannot re-initialize CUDA in forked subprocess. To use CUDA with \u001b[39m\u001b[38;5;124m\"\u001b[39m\n\u001b[0;32m    302\u001b[0m         \u001b[38;5;124m\"\u001b[39m\u001b[38;5;124mmultiprocessing, you must use the \u001b[39m\u001b[38;5;124m'\u001b[39m\u001b[38;5;124mspawn\u001b[39m\u001b[38;5;124m'\u001b[39m\u001b[38;5;124m start method\u001b[39m\u001b[38;5;124m\"\u001b[39m\n\u001b[0;32m    303\u001b[0m     )\n\u001b[0;32m    304\u001b[0m \u001b[38;5;28;01mif\u001b[39;00m \u001b[38;5;129;01mnot\u001b[39;00m \u001b[38;5;28mhasattr\u001b[39m(torch\u001b[38;5;241m.\u001b[39m_C, \u001b[38;5;124m\"\u001b[39m\u001b[38;5;124m_cuda_getDeviceCount\u001b[39m\u001b[38;5;124m\"\u001b[39m):\n\u001b[1;32m--> 305\u001b[0m     \u001b[38;5;28;01mraise\u001b[39;00m \u001b[38;5;167;01mAssertionError\u001b[39;00m(\u001b[38;5;124m\"\u001b[39m\u001b[38;5;124mTorch not compiled with CUDA enabled\u001b[39m\u001b[38;5;124m\"\u001b[39m)\n\u001b[0;32m    306\u001b[0m \u001b[38;5;28;01mif\u001b[39;00m _cudart \u001b[38;5;129;01mis\u001b[39;00m \u001b[38;5;28;01mNone\u001b[39;00m:\n\u001b[0;32m    307\u001b[0m     \u001b[38;5;28;01mraise\u001b[39;00m \u001b[38;5;167;01mAssertionError\u001b[39;00m(\n\u001b[0;32m    308\u001b[0m         \u001b[38;5;124m\"\u001b[39m\u001b[38;5;124mlibcudart functions unavailable. It looks like you have a broken build?\u001b[39m\u001b[38;5;124m\"\u001b[39m\n\u001b[0;32m    309\u001b[0m     )\n",
      "\u001b[1;31mAssertionError\u001b[0m: Torch not compiled with CUDA enabled"
     ]
    }
   ],
   "source": [
    "import torch\n",
    "\n",
    "print(f'cuda enable: {torch.cuda.is_available()}')\n",
    "print(f'current_device: {torch.cuda.current_device()}')\n",
    "print(f'device: {torch.cuda.device(0)}')\n",
    "print(f'device_count: {torch.cuda.device_count()}')\n",
    "print(f'get_device_name: {torch.cuda.get_device_name(0)}')"
   ]
  },
  {
   "cell_type": "code",
   "execution_count": null,
   "id": "73fb0e20-dac0-4d22-81bf-0bc78ceea3ce",
   "metadata": {},
   "outputs": [],
   "source": [
    "!nvcc --version"
   ]
  },
  {
   "cell_type": "code",
   "execution_count": null,
   "id": "391cf1ac-c55d-4238-9c5d-8d5e76618a9f",
   "metadata": {},
   "outputs": [],
   "source": [
    "!nvidia-smi"
   ]
  },
  {
   "cell_type": "code",
   "execution_count": null,
   "id": "8ce44413-4e7b-43f7-8c1a-c6b23acc348b",
   "metadata": {},
   "outputs": [],
   "source": []
  },
  {
   "cell_type": "code",
   "execution_count": null,
   "id": "ec1dd57b-4188-4801-a799-86fc9a297739",
   "metadata": {},
   "outputs": [],
   "source": []
  }
 ],
 "metadata": {
  "kernelspec": {
   "display_name": "Python 3 (ipykernel)",
   "language": "python",
   "name": "python3"
  },
  "language_info": {
   "codemirror_mode": {
    "name": "ipython",
    "version": 3
   },
   "file_extension": ".py",
   "mimetype": "text/x-python",
   "name": "python",
   "nbconvert_exporter": "python",
   "pygments_lexer": "ipython3",
   "version": "3.11.7"
  }
 },
 "nbformat": 4,
 "nbformat_minor": 5
}

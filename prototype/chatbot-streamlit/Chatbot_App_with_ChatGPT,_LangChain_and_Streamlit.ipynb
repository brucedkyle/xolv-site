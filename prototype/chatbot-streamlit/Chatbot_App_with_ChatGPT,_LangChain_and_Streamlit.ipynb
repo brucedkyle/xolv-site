{
 "cells": [
  {
   "cell_type": "markdown",
   "metadata": {
    "id": "xPRVq3e03c1K"
   },
   "source": [
    "# Conversational UI Chatbot App with ChatGPT, LangChain and Streamlit\n",
    "\n",
    "Here we will build a advanced ChatGPT Conversational UI-based chatbot using LangChain and Streamlit with the following features:\n",
    "\n",
    "- Custom Landing Page\n",
    "- Conversational memory\n",
    "- Result streaming capabilities (Real-time output)"
   ]
  },
  {
   "cell_type": "markdown",
   "metadata": {
    "id": "L1KvMtf54l0d"
   },
   "source": [
    "## Install App and LLM dependencies"
   ]
  },
  {
   "cell_type": "code",
   "execution_count": 1,
   "metadata": {
    "colab": {
     "base_uri": "https://localhost:8080/"
    },
    "id": "2evPp14fy258",
    "outputId": "cadfd12c-3311-4895-cad7-2b7be2403808"
   },
   "outputs": [
    {
     "name": "stdout",
     "output_type": "stream",
     "text": [
      "Collecting langchain==0.1.12\n",
      "  Downloading langchain-0.1.12-py3-none-any.whl.metadata (13 kB)\n",
      "Requirement already satisfied: PyYAML>=5.3 in /home/bruce/anaconda3/lib/python3.12/site-packages (from langchain==0.1.12) (6.0.1)\n",
      "Requirement already satisfied: SQLAlchemy<3,>=1.4 in /home/bruce/anaconda3/lib/python3.12/site-packages (from langchain==0.1.12) (2.0.30)\n",
      "Requirement already satisfied: aiohttp<4.0.0,>=3.8.3 in /home/bruce/anaconda3/lib/python3.12/site-packages (from langchain==0.1.12) (3.9.5)\n",
      "Requirement already satisfied: dataclasses-json<0.7,>=0.5.7 in /home/bruce/anaconda3/lib/python3.12/site-packages (from langchain==0.1.12) (0.6.7)\n",
      "Requirement already satisfied: jsonpatch<2.0,>=1.33 in /home/bruce/anaconda3/lib/python3.12/site-packages (from langchain==0.1.12) (1.33)\n",
      "Collecting langchain-community<0.1,>=0.0.28 (from langchain==0.1.12)\n",
      "  Downloading langchain_community-0.0.38-py3-none-any.whl.metadata (8.7 kB)\n",
      "Collecting langchain-core<0.2.0,>=0.1.31 (from langchain==0.1.12)\n",
      "  Downloading langchain_core-0.1.52-py3-none-any.whl.metadata (5.9 kB)\n",
      "Collecting langchain-text-splitters<0.1,>=0.0.1 (from langchain==0.1.12)\n",
      "  Downloading langchain_text_splitters-0.0.2-py3-none-any.whl.metadata (2.2 kB)\n",
      "Requirement already satisfied: langsmith<0.2.0,>=0.1.17 in /home/bruce/anaconda3/lib/python3.12/site-packages (from langchain==0.1.12) (0.1.134)\n",
      "Requirement already satisfied: numpy<2,>=1 in /home/bruce/anaconda3/lib/python3.12/site-packages (from langchain==0.1.12) (1.26.4)\n",
      "Requirement already satisfied: pydantic<3,>=1 in /home/bruce/anaconda3/lib/python3.12/site-packages (from langchain==0.1.12) (2.6.1)\n",
      "Requirement already satisfied: requests<3,>=2 in /home/bruce/anaconda3/lib/python3.12/site-packages (from langchain==0.1.12) (2.32.2)\n",
      "Requirement already satisfied: tenacity<9.0.0,>=8.1.0 in /home/bruce/anaconda3/lib/python3.12/site-packages (from langchain==0.1.12) (8.2.2)\n",
      "Requirement already satisfied: aiosignal>=1.1.2 in /home/bruce/anaconda3/lib/python3.12/site-packages (from aiohttp<4.0.0,>=3.8.3->langchain==0.1.12) (1.2.0)\n",
      "Requirement already satisfied: attrs>=17.3.0 in /home/bruce/anaconda3/lib/python3.12/site-packages (from aiohttp<4.0.0,>=3.8.3->langchain==0.1.12) (23.1.0)\n",
      "Requirement already satisfied: frozenlist>=1.1.1 in /home/bruce/anaconda3/lib/python3.12/site-packages (from aiohttp<4.0.0,>=3.8.3->langchain==0.1.12) (1.4.0)\n",
      "Requirement already satisfied: multidict<7.0,>=4.5 in /home/bruce/anaconda3/lib/python3.12/site-packages (from aiohttp<4.0.0,>=3.8.3->langchain==0.1.12) (6.0.4)\n",
      "Requirement already satisfied: yarl<2.0,>=1.0 in /home/bruce/anaconda3/lib/python3.12/site-packages (from aiohttp<4.0.0,>=3.8.3->langchain==0.1.12) (1.9.3)\n",
      "Requirement already satisfied: marshmallow<4.0.0,>=3.18.0 in /home/bruce/anaconda3/lib/python3.12/site-packages (from dataclasses-json<0.7,>=0.5.7->langchain==0.1.12) (3.19.0)\n",
      "Requirement already satisfied: typing-inspect<1,>=0.4.0 in /home/bruce/anaconda3/lib/python3.12/site-packages (from dataclasses-json<0.7,>=0.5.7->langchain==0.1.12) (0.9.0)\n",
      "Requirement already satisfied: jsonpointer>=1.9 in /home/bruce/anaconda3/lib/python3.12/site-packages (from jsonpatch<2.0,>=1.33->langchain==0.1.12) (2.1)\n",
      "Requirement already satisfied: packaging<24.0,>=23.2 in /home/bruce/anaconda3/lib/python3.12/site-packages (from langchain-core<0.2.0,>=0.1.31->langchain==0.1.12) (23.2)\n",
      "Requirement already satisfied: httpx<1,>=0.23.0 in /home/bruce/anaconda3/lib/python3.12/site-packages (from langsmith<0.2.0,>=0.1.17->langchain==0.1.12) (0.27.0)\n",
      "Requirement already satisfied: orjson<4.0.0,>=3.9.14 in /home/bruce/anaconda3/lib/python3.12/site-packages (from langsmith<0.2.0,>=0.1.17->langchain==0.1.12) (3.9.15)\n",
      "Requirement already satisfied: requests-toolbelt<2.0.0,>=1.0.0 in /home/bruce/anaconda3/lib/python3.12/site-packages (from langsmith<0.2.0,>=0.1.17->langchain==0.1.12) (1.0.0)\n",
      "Requirement already satisfied: annotated-types>=0.4.0 in /home/bruce/anaconda3/lib/python3.12/site-packages (from pydantic<3,>=1->langchain==0.1.12) (0.6.0)\n",
      "Requirement already satisfied: pydantic-core==2.16.2 in /home/bruce/anaconda3/lib/python3.12/site-packages (from pydantic<3,>=1->langchain==0.1.12) (2.16.2)\n",
      "Requirement already satisfied: typing-extensions>=4.6.1 in /home/bruce/anaconda3/lib/python3.12/site-packages (from pydantic<3,>=1->langchain==0.1.12) (4.11.0)\n",
      "Requirement already satisfied: charset-normalizer<4,>=2 in /home/bruce/anaconda3/lib/python3.12/site-packages (from requests<3,>=2->langchain==0.1.12) (2.0.4)\n",
      "Requirement already satisfied: idna<4,>=2.5 in /home/bruce/anaconda3/lib/python3.12/site-packages (from requests<3,>=2->langchain==0.1.12) (3.7)\n",
      "Requirement already satisfied: urllib3<3,>=1.21.1 in /home/bruce/anaconda3/lib/python3.12/site-packages (from requests<3,>=2->langchain==0.1.12) (1.26.19)\n",
      "Requirement already satisfied: certifi>=2017.4.17 in /home/bruce/anaconda3/lib/python3.12/site-packages (from requests<3,>=2->langchain==0.1.12) (2024.8.30)\n",
      "Requirement already satisfied: greenlet!=0.4.17 in /home/bruce/anaconda3/lib/python3.12/site-packages (from SQLAlchemy<3,>=1.4->langchain==0.1.12) (3.0.1)\n",
      "Requirement already satisfied: anyio in /home/bruce/anaconda3/lib/python3.12/site-packages (from httpx<1,>=0.23.0->langsmith<0.2.0,>=0.1.17->langchain==0.1.12) (4.2.0)\n",
      "Requirement already satisfied: httpcore==1.* in /home/bruce/anaconda3/lib/python3.12/site-packages (from httpx<1,>=0.23.0->langsmith<0.2.0,>=0.1.17->langchain==0.1.12) (1.0.2)\n",
      "Requirement already satisfied: sniffio in /home/bruce/anaconda3/lib/python3.12/site-packages (from httpx<1,>=0.23.0->langsmith<0.2.0,>=0.1.17->langchain==0.1.12) (1.3.0)\n",
      "Requirement already satisfied: h11<0.15,>=0.13 in /home/bruce/anaconda3/lib/python3.12/site-packages (from httpcore==1.*->httpx<1,>=0.23.0->langsmith<0.2.0,>=0.1.17->langchain==0.1.12) (0.14.0)\n",
      "Requirement already satisfied: mypy-extensions>=0.3.0 in /home/bruce/anaconda3/lib/python3.12/site-packages (from typing-inspect<1,>=0.4.0->dataclasses-json<0.7,>=0.5.7->langchain==0.1.12) (1.0.0)\n",
      "Downloading langchain-0.1.12-py3-none-any.whl (809 kB)\n",
      "\u001b[2K   \u001b[90m━━━━━━━━━━━━━━━━━━━━━━━━━━━━━━━━━━━━━━━━\u001b[0m \u001b[32m809.1/809.1 kB\u001b[0m \u001b[31m10.4 MB/s\u001b[0m eta \u001b[36m0:00:00\u001b[0m\n",
      "\u001b[?25hDownloading langchain_community-0.0.38-py3-none-any.whl (2.0 MB)\n",
      "\u001b[2K   \u001b[90m━━━━━━━━━━━━━━━━━━━━━━━━━━━━━━━━━━━━━━━━\u001b[0m \u001b[32m2.0/2.0 MB\u001b[0m \u001b[31m32.5 MB/s\u001b[0m eta \u001b[36m0:00:00\u001b[0m\n",
      "\u001b[?25hDownloading langchain_core-0.1.52-py3-none-any.whl (302 kB)\n",
      "Downloading langchain_text_splitters-0.0.2-py3-none-any.whl (23 kB)\n",
      "Installing collected packages: langchain-core, langchain-text-splitters, langchain-community, langchain\n",
      "  Attempting uninstall: langchain-core\n",
      "    Found existing installation: langchain-core 0.3.10\n",
      "    Uninstalling langchain-core-0.3.10:\n",
      "      Successfully uninstalled langchain-core-0.3.10\n",
      "  Attempting uninstall: langchain-text-splitters\n",
      "    Found existing installation: langchain-text-splitters 0.3.0\n",
      "    Uninstalling langchain-text-splitters-0.3.0:\n",
      "      Successfully uninstalled langchain-text-splitters-0.3.0\n",
      "  Attempting uninstall: langchain\n",
      "    Found existing installation: langchain 0.3.3\n",
      "    Uninstalling langchain-0.3.3:\n",
      "      Successfully uninstalled langchain-0.3.3\n",
      "\u001b[31mERROR: pip's dependency resolver does not currently take into account all the packages that are installed. This behaviour is the source of the following dependency conflicts.\n",
      "langchain-openai 0.2.2 requires langchain-core<0.4.0,>=0.3.9, but you have langchain-core 0.1.52 which is incompatible.\u001b[0m\u001b[31m\n",
      "\u001b[0mSuccessfully installed langchain-0.1.12 langchain-community-0.0.38 langchain-core-0.1.52 langchain-text-splitters-0.0.2\n",
      "Collecting langchain-openai==0.0.8\n",
      "  Downloading langchain_openai-0.0.8-py3-none-any.whl.metadata (2.5 kB)\n",
      "Requirement already satisfied: langchain-core<0.2.0,>=0.1.27 in /home/bruce/anaconda3/lib/python3.12/site-packages (from langchain-openai==0.0.8) (0.1.52)\n",
      "Requirement already satisfied: openai<2.0.0,>=1.10.0 in /home/bruce/anaconda3/lib/python3.12/site-packages (from langchain-openai==0.0.8) (1.51.2)\n",
      "Requirement already satisfied: tiktoken<1,>=0.5.2 in /home/bruce/anaconda3/lib/python3.12/site-packages (from langchain-openai==0.0.8) (0.7.0)\n",
      "Requirement already satisfied: PyYAML>=5.3 in /home/bruce/anaconda3/lib/python3.12/site-packages (from langchain-core<0.2.0,>=0.1.27->langchain-openai==0.0.8) (6.0.1)\n",
      "Requirement already satisfied: jsonpatch<2.0,>=1.33 in /home/bruce/anaconda3/lib/python3.12/site-packages (from langchain-core<0.2.0,>=0.1.27->langchain-openai==0.0.8) (1.33)\n",
      "Requirement already satisfied: langsmith<0.2.0,>=0.1.0 in /home/bruce/anaconda3/lib/python3.12/site-packages (from langchain-core<0.2.0,>=0.1.27->langchain-openai==0.0.8) (0.1.134)\n",
      "Requirement already satisfied: packaging<24.0,>=23.2 in /home/bruce/anaconda3/lib/python3.12/site-packages (from langchain-core<0.2.0,>=0.1.27->langchain-openai==0.0.8) (23.2)\n",
      "Requirement already satisfied: pydantic<3,>=1 in /home/bruce/anaconda3/lib/python3.12/site-packages (from langchain-core<0.2.0,>=0.1.27->langchain-openai==0.0.8) (2.6.1)\n",
      "Requirement already satisfied: tenacity<9.0.0,>=8.1.0 in /home/bruce/anaconda3/lib/python3.12/site-packages (from langchain-core<0.2.0,>=0.1.27->langchain-openai==0.0.8) (8.2.2)\n",
      "Requirement already satisfied: anyio<5,>=3.5.0 in /home/bruce/anaconda3/lib/python3.12/site-packages (from openai<2.0.0,>=1.10.0->langchain-openai==0.0.8) (4.2.0)\n",
      "Requirement already satisfied: distro<2,>=1.7.0 in /home/bruce/anaconda3/lib/python3.12/site-packages (from openai<2.0.0,>=1.10.0->langchain-openai==0.0.8) (1.9.0)\n",
      "Requirement already satisfied: httpx<1,>=0.23.0 in /home/bruce/anaconda3/lib/python3.12/site-packages (from openai<2.0.0,>=1.10.0->langchain-openai==0.0.8) (0.27.0)\n",
      "Requirement already satisfied: jiter<1,>=0.4.0 in /home/bruce/anaconda3/lib/python3.12/site-packages (from openai<2.0.0,>=1.10.0->langchain-openai==0.0.8) (0.5.0)\n",
      "Requirement already satisfied: sniffio in /home/bruce/anaconda3/lib/python3.12/site-packages (from openai<2.0.0,>=1.10.0->langchain-openai==0.0.8) (1.3.0)\n",
      "Requirement already satisfied: tqdm>4 in /home/bruce/anaconda3/lib/python3.12/site-packages (from openai<2.0.0,>=1.10.0->langchain-openai==0.0.8) (4.66.4)\n",
      "Requirement already satisfied: typing-extensions<5,>=4.11 in /home/bruce/anaconda3/lib/python3.12/site-packages (from openai<2.0.0,>=1.10.0->langchain-openai==0.0.8) (4.11.0)\n",
      "Requirement already satisfied: regex>=2022.1.18 in /home/bruce/anaconda3/lib/python3.12/site-packages (from tiktoken<1,>=0.5.2->langchain-openai==0.0.8) (2023.10.3)\n",
      "Requirement already satisfied: requests>=2.26.0 in /home/bruce/anaconda3/lib/python3.12/site-packages (from tiktoken<1,>=0.5.2->langchain-openai==0.0.8) (2.32.2)\n",
      "Requirement already satisfied: idna>=2.8 in /home/bruce/anaconda3/lib/python3.12/site-packages (from anyio<5,>=3.5.0->openai<2.0.0,>=1.10.0->langchain-openai==0.0.8) (3.7)\n",
      "Requirement already satisfied: certifi in /home/bruce/anaconda3/lib/python3.12/site-packages (from httpx<1,>=0.23.0->openai<2.0.0,>=1.10.0->langchain-openai==0.0.8) (2024.8.30)\n",
      "Requirement already satisfied: httpcore==1.* in /home/bruce/anaconda3/lib/python3.12/site-packages (from httpx<1,>=0.23.0->openai<2.0.0,>=1.10.0->langchain-openai==0.0.8) (1.0.2)\n",
      "Requirement already satisfied: h11<0.15,>=0.13 in /home/bruce/anaconda3/lib/python3.12/site-packages (from httpcore==1.*->httpx<1,>=0.23.0->openai<2.0.0,>=1.10.0->langchain-openai==0.0.8) (0.14.0)\n",
      "Requirement already satisfied: jsonpointer>=1.9 in /home/bruce/anaconda3/lib/python3.12/site-packages (from jsonpatch<2.0,>=1.33->langchain-core<0.2.0,>=0.1.27->langchain-openai==0.0.8) (2.1)\n",
      "Requirement already satisfied: orjson<4.0.0,>=3.9.14 in /home/bruce/anaconda3/lib/python3.12/site-packages (from langsmith<0.2.0,>=0.1.0->langchain-core<0.2.0,>=0.1.27->langchain-openai==0.0.8) (3.9.15)\n",
      "Requirement already satisfied: requests-toolbelt<2.0.0,>=1.0.0 in /home/bruce/anaconda3/lib/python3.12/site-packages (from langsmith<0.2.0,>=0.1.0->langchain-core<0.2.0,>=0.1.27->langchain-openai==0.0.8) (1.0.0)\n",
      "Requirement already satisfied: annotated-types>=0.4.0 in /home/bruce/anaconda3/lib/python3.12/site-packages (from pydantic<3,>=1->langchain-core<0.2.0,>=0.1.27->langchain-openai==0.0.8) (0.6.0)\n",
      "Requirement already satisfied: pydantic-core==2.16.2 in /home/bruce/anaconda3/lib/python3.12/site-packages (from pydantic<3,>=1->langchain-core<0.2.0,>=0.1.27->langchain-openai==0.0.8) (2.16.2)\n",
      "Requirement already satisfied: charset-normalizer<4,>=2 in /home/bruce/anaconda3/lib/python3.12/site-packages (from requests>=2.26.0->tiktoken<1,>=0.5.2->langchain-openai==0.0.8) (2.0.4)\n",
      "Requirement already satisfied: urllib3<3,>=1.21.1 in /home/bruce/anaconda3/lib/python3.12/site-packages (from requests>=2.26.0->tiktoken<1,>=0.5.2->langchain-openai==0.0.8) (1.26.19)\n",
      "Downloading langchain_openai-0.0.8-py3-none-any.whl (32 kB)\n",
      "Installing collected packages: langchain-openai\n",
      "  Attempting uninstall: langchain-openai\n",
      "    Found existing installation: langchain-openai 0.2.2\n",
      "    Uninstalling langchain-openai-0.2.2:\n",
      "      Successfully uninstalled langchain-openai-0.2.2\n",
      "Successfully installed langchain-openai-0.0.8\n",
      "Collecting langchain-community==0.0.29\n",
      "  Downloading langchain_community-0.0.29-py3-none-any.whl.metadata (8.3 kB)\n",
      "Requirement already satisfied: PyYAML>=5.3 in /home/bruce/anaconda3/lib/python3.12/site-packages (from langchain-community==0.0.29) (6.0.1)\n",
      "Requirement already satisfied: SQLAlchemy<3,>=1.4 in /home/bruce/anaconda3/lib/python3.12/site-packages (from langchain-community==0.0.29) (2.0.30)\n",
      "Requirement already satisfied: aiohttp<4.0.0,>=3.8.3 in /home/bruce/anaconda3/lib/python3.12/site-packages (from langchain-community==0.0.29) (3.9.5)\n",
      "Requirement already satisfied: dataclasses-json<0.7,>=0.5.7 in /home/bruce/anaconda3/lib/python3.12/site-packages (from langchain-community==0.0.29) (0.6.7)\n",
      "Requirement already satisfied: langchain-core<0.2.0,>=0.1.33 in /home/bruce/anaconda3/lib/python3.12/site-packages (from langchain-community==0.0.29) (0.1.52)\n",
      "Requirement already satisfied: langsmith<0.2.0,>=0.1.0 in /home/bruce/anaconda3/lib/python3.12/site-packages (from langchain-community==0.0.29) (0.1.134)\n",
      "Requirement already satisfied: numpy<2,>=1 in /home/bruce/anaconda3/lib/python3.12/site-packages (from langchain-community==0.0.29) (1.26.4)\n",
      "Requirement already satisfied: requests<3,>=2 in /home/bruce/anaconda3/lib/python3.12/site-packages (from langchain-community==0.0.29) (2.32.2)\n",
      "Requirement already satisfied: tenacity<9.0.0,>=8.1.0 in /home/bruce/anaconda3/lib/python3.12/site-packages (from langchain-community==0.0.29) (8.2.2)\n",
      "Requirement already satisfied: aiosignal>=1.1.2 in /home/bruce/anaconda3/lib/python3.12/site-packages (from aiohttp<4.0.0,>=3.8.3->langchain-community==0.0.29) (1.2.0)\n",
      "Requirement already satisfied: attrs>=17.3.0 in /home/bruce/anaconda3/lib/python3.12/site-packages (from aiohttp<4.0.0,>=3.8.3->langchain-community==0.0.29) (23.1.0)\n",
      "Requirement already satisfied: frozenlist>=1.1.1 in /home/bruce/anaconda3/lib/python3.12/site-packages (from aiohttp<4.0.0,>=3.8.3->langchain-community==0.0.29) (1.4.0)\n",
      "Requirement already satisfied: multidict<7.0,>=4.5 in /home/bruce/anaconda3/lib/python3.12/site-packages (from aiohttp<4.0.0,>=3.8.3->langchain-community==0.0.29) (6.0.4)\n",
      "Requirement already satisfied: yarl<2.0,>=1.0 in /home/bruce/anaconda3/lib/python3.12/site-packages (from aiohttp<4.0.0,>=3.8.3->langchain-community==0.0.29) (1.9.3)\n",
      "Requirement already satisfied: marshmallow<4.0.0,>=3.18.0 in /home/bruce/anaconda3/lib/python3.12/site-packages (from dataclasses-json<0.7,>=0.5.7->langchain-community==0.0.29) (3.19.0)\n",
      "Requirement already satisfied: typing-inspect<1,>=0.4.0 in /home/bruce/anaconda3/lib/python3.12/site-packages (from dataclasses-json<0.7,>=0.5.7->langchain-community==0.0.29) (0.9.0)\n",
      "Requirement already satisfied: jsonpatch<2.0,>=1.33 in /home/bruce/anaconda3/lib/python3.12/site-packages (from langchain-core<0.2.0,>=0.1.33->langchain-community==0.0.29) (1.33)\n",
      "Requirement already satisfied: packaging<24.0,>=23.2 in /home/bruce/anaconda3/lib/python3.12/site-packages (from langchain-core<0.2.0,>=0.1.33->langchain-community==0.0.29) (23.2)\n",
      "Requirement already satisfied: pydantic<3,>=1 in /home/bruce/anaconda3/lib/python3.12/site-packages (from langchain-core<0.2.0,>=0.1.33->langchain-community==0.0.29) (2.6.1)\n",
      "Requirement already satisfied: httpx<1,>=0.23.0 in /home/bruce/anaconda3/lib/python3.12/site-packages (from langsmith<0.2.0,>=0.1.0->langchain-community==0.0.29) (0.27.0)\n",
      "Requirement already satisfied: orjson<4.0.0,>=3.9.14 in /home/bruce/anaconda3/lib/python3.12/site-packages (from langsmith<0.2.0,>=0.1.0->langchain-community==0.0.29) (3.9.15)\n",
      "Requirement already satisfied: requests-toolbelt<2.0.0,>=1.0.0 in /home/bruce/anaconda3/lib/python3.12/site-packages (from langsmith<0.2.0,>=0.1.0->langchain-community==0.0.29) (1.0.0)\n",
      "Requirement already satisfied: charset-normalizer<4,>=2 in /home/bruce/anaconda3/lib/python3.12/site-packages (from requests<3,>=2->langchain-community==0.0.29) (2.0.4)\n",
      "Requirement already satisfied: idna<4,>=2.5 in /home/bruce/anaconda3/lib/python3.12/site-packages (from requests<3,>=2->langchain-community==0.0.29) (3.7)\n",
      "Requirement already satisfied: urllib3<3,>=1.21.1 in /home/bruce/anaconda3/lib/python3.12/site-packages (from requests<3,>=2->langchain-community==0.0.29) (1.26.19)\n",
      "Requirement already satisfied: certifi>=2017.4.17 in /home/bruce/anaconda3/lib/python3.12/site-packages (from requests<3,>=2->langchain-community==0.0.29) (2024.8.30)\n",
      "Requirement already satisfied: typing-extensions>=4.6.0 in /home/bruce/anaconda3/lib/python3.12/site-packages (from SQLAlchemy<3,>=1.4->langchain-community==0.0.29) (4.11.0)\n",
      "Requirement already satisfied: greenlet!=0.4.17 in /home/bruce/anaconda3/lib/python3.12/site-packages (from SQLAlchemy<3,>=1.4->langchain-community==0.0.29) (3.0.1)\n",
      "Requirement already satisfied: anyio in /home/bruce/anaconda3/lib/python3.12/site-packages (from httpx<1,>=0.23.0->langsmith<0.2.0,>=0.1.0->langchain-community==0.0.29) (4.2.0)\n",
      "Requirement already satisfied: httpcore==1.* in /home/bruce/anaconda3/lib/python3.12/site-packages (from httpx<1,>=0.23.0->langsmith<0.2.0,>=0.1.0->langchain-community==0.0.29) (1.0.2)\n",
      "Requirement already satisfied: sniffio in /home/bruce/anaconda3/lib/python3.12/site-packages (from httpx<1,>=0.23.0->langsmith<0.2.0,>=0.1.0->langchain-community==0.0.29) (1.3.0)\n",
      "Requirement already satisfied: h11<0.15,>=0.13 in /home/bruce/anaconda3/lib/python3.12/site-packages (from httpcore==1.*->httpx<1,>=0.23.0->langsmith<0.2.0,>=0.1.0->langchain-community==0.0.29) (0.14.0)\n",
      "Requirement already satisfied: jsonpointer>=1.9 in /home/bruce/anaconda3/lib/python3.12/site-packages (from jsonpatch<2.0,>=1.33->langchain-core<0.2.0,>=0.1.33->langchain-community==0.0.29) (2.1)\n",
      "Requirement already satisfied: annotated-types>=0.4.0 in /home/bruce/anaconda3/lib/python3.12/site-packages (from pydantic<3,>=1->langchain-core<0.2.0,>=0.1.33->langchain-community==0.0.29) (0.6.0)\n",
      "Requirement already satisfied: pydantic-core==2.16.2 in /home/bruce/anaconda3/lib/python3.12/site-packages (from pydantic<3,>=1->langchain-core<0.2.0,>=0.1.33->langchain-community==0.0.29) (2.16.2)\n",
      "Requirement already satisfied: mypy-extensions>=0.3.0 in /home/bruce/anaconda3/lib/python3.12/site-packages (from typing-inspect<1,>=0.4.0->dataclasses-json<0.7,>=0.5.7->langchain-community==0.0.29) (1.0.0)\n",
      "Downloading langchain_community-0.0.29-py3-none-any.whl (1.8 MB)\n",
      "\u001b[2K   \u001b[90m━━━━━━━━━━━━━━━━━━━━━━━━━━━━━━━━━━━━━━━━\u001b[0m \u001b[32m1.8/1.8 MB\u001b[0m \u001b[31m23.0 MB/s\u001b[0m eta \u001b[36m0:00:00\u001b[0m\n",
      "\u001b[?25hInstalling collected packages: langchain-community\n",
      "  Attempting uninstall: langchain-community\n",
      "    Found existing installation: langchain-community 0.0.38\n",
      "    Uninstalling langchain-community-0.0.38:\n",
      "      Successfully uninstalled langchain-community-0.0.38\n",
      "Successfully installed langchain-community-0.0.29\n",
      "Collecting streamlit==1.32.2\n",
      "  Downloading streamlit-1.32.2-py2.py3-none-any.whl.metadata (8.5 kB)\n",
      "Requirement already satisfied: altair<6,>=4.0 in /home/bruce/anaconda3/lib/python3.12/site-packages (from streamlit==1.32.2) (5.0.1)\n",
      "Requirement already satisfied: blinker<2,>=1.0.0 in /home/bruce/anaconda3/lib/python3.12/site-packages (from streamlit==1.32.2) (1.6.2)\n",
      "Requirement already satisfied: cachetools<6,>=4.0 in /home/bruce/anaconda3/lib/python3.12/site-packages (from streamlit==1.32.2) (5.3.3)\n",
      "Requirement already satisfied: click<9,>=7.0 in /home/bruce/anaconda3/lib/python3.12/site-packages (from streamlit==1.32.2) (8.1.7)\n",
      "Requirement already satisfied: numpy<2,>=1.19.3 in /home/bruce/anaconda3/lib/python3.12/site-packages (from streamlit==1.32.2) (1.26.4)\n",
      "Requirement already satisfied: packaging<24,>=16.8 in /home/bruce/anaconda3/lib/python3.12/site-packages (from streamlit==1.32.2) (23.2)\n",
      "Requirement already satisfied: pandas<3,>=1.3.0 in /home/bruce/anaconda3/lib/python3.12/site-packages (from streamlit==1.32.2) (2.2.2)\n",
      "Requirement already satisfied: pillow<11,>=7.1.0 in /home/bruce/anaconda3/lib/python3.12/site-packages (from streamlit==1.32.2) (10.3.0)\n",
      "Requirement already satisfied: protobuf<5,>=3.20 in /home/bruce/anaconda3/lib/python3.12/site-packages (from streamlit==1.32.2) (3.20.3)\n",
      "Requirement already satisfied: pyarrow>=7.0 in /home/bruce/anaconda3/lib/python3.12/site-packages (from streamlit==1.32.2) (14.0.2)\n",
      "Requirement already satisfied: requests<3,>=2.27 in /home/bruce/anaconda3/lib/python3.12/site-packages (from streamlit==1.32.2) (2.32.2)\n",
      "Requirement already satisfied: rich<14,>=10.14.0 in /home/bruce/anaconda3/lib/python3.12/site-packages (from streamlit==1.32.2) (13.3.5)\n",
      "Requirement already satisfied: tenacity<9,>=8.1.0 in /home/bruce/anaconda3/lib/python3.12/site-packages (from streamlit==1.32.2) (8.2.2)\n",
      "Requirement already satisfied: toml<2,>=0.10.1 in /home/bruce/anaconda3/lib/python3.12/site-packages (from streamlit==1.32.2) (0.10.2)\n",
      "Requirement already satisfied: typing-extensions<5,>=4.3.0 in /home/bruce/anaconda3/lib/python3.12/site-packages (from streamlit==1.32.2) (4.11.0)\n",
      "Requirement already satisfied: gitpython!=3.1.19,<4,>=3.0.7 in /home/bruce/anaconda3/lib/python3.12/site-packages (from streamlit==1.32.2) (3.1.37)\n",
      "Requirement already satisfied: pydeck<1,>=0.8.0b4 in /home/bruce/anaconda3/lib/python3.12/site-packages (from streamlit==1.32.2) (0.8.0b4)\n",
      "Requirement already satisfied: tornado<7,>=6.0.3 in /home/bruce/anaconda3/lib/python3.12/site-packages (from streamlit==1.32.2) (6.4.1)\n",
      "Requirement already satisfied: watchdog>=2.1.5 in /home/bruce/anaconda3/lib/python3.12/site-packages (from streamlit==1.32.2) (4.0.1)\n",
      "Requirement already satisfied: jinja2 in /home/bruce/anaconda3/lib/python3.12/site-packages (from altair<6,>=4.0->streamlit==1.32.2) (3.1.4)\n",
      "Requirement already satisfied: jsonschema>=3.0 in /home/bruce/anaconda3/lib/python3.12/site-packages (from altair<6,>=4.0->streamlit==1.32.2) (4.23.0)\n",
      "Requirement already satisfied: toolz in /home/bruce/anaconda3/lib/python3.12/site-packages (from altair<6,>=4.0->streamlit==1.32.2) (0.12.0)\n",
      "Requirement already satisfied: gitdb<5,>=4.0.1 in /home/bruce/anaconda3/lib/python3.12/site-packages (from gitpython!=3.1.19,<4,>=3.0.7->streamlit==1.32.2) (4.0.7)\n",
      "Requirement already satisfied: python-dateutil>=2.8.2 in /home/bruce/anaconda3/lib/python3.12/site-packages (from pandas<3,>=1.3.0->streamlit==1.32.2) (2.9.0.post0)\n",
      "Requirement already satisfied: pytz>=2020.1 in /home/bruce/anaconda3/lib/python3.12/site-packages (from pandas<3,>=1.3.0->streamlit==1.32.2) (2024.1)\n",
      "Requirement already satisfied: tzdata>=2022.7 in /home/bruce/anaconda3/lib/python3.12/site-packages (from pandas<3,>=1.3.0->streamlit==1.32.2) (2023.3)\n",
      "Requirement already satisfied: charset-normalizer<4,>=2 in /home/bruce/anaconda3/lib/python3.12/site-packages (from requests<3,>=2.27->streamlit==1.32.2) (2.0.4)\n",
      "Requirement already satisfied: idna<4,>=2.5 in /home/bruce/anaconda3/lib/python3.12/site-packages (from requests<3,>=2.27->streamlit==1.32.2) (3.7)\n",
      "Requirement already satisfied: urllib3<3,>=1.21.1 in /home/bruce/anaconda3/lib/python3.12/site-packages (from requests<3,>=2.27->streamlit==1.32.2) (1.26.19)\n",
      "Requirement already satisfied: certifi>=2017.4.17 in /home/bruce/anaconda3/lib/python3.12/site-packages (from requests<3,>=2.27->streamlit==1.32.2) (2024.8.30)\n",
      "Requirement already satisfied: markdown-it-py<3.0.0,>=2.2.0 in /home/bruce/anaconda3/lib/python3.12/site-packages (from rich<14,>=10.14.0->streamlit==1.32.2) (2.2.0)\n",
      "Requirement already satisfied: pygments<3.0.0,>=2.13.0 in /home/bruce/anaconda3/lib/python3.12/site-packages (from rich<14,>=10.14.0->streamlit==1.32.2) (2.18.0)\n",
      "Requirement already satisfied: smmap<5,>=3.0.1 in /home/bruce/anaconda3/lib/python3.12/site-packages (from gitdb<5,>=4.0.1->gitpython!=3.1.19,<4,>=3.0.7->streamlit==1.32.2) (4.0.0)\n",
      "Requirement already satisfied: MarkupSafe>=2.0 in /home/bruce/anaconda3/lib/python3.12/site-packages (from jinja2->altair<6,>=4.0->streamlit==1.32.2) (2.1.3)\n",
      "Requirement already satisfied: attrs>=22.2.0 in /home/bruce/anaconda3/lib/python3.12/site-packages (from jsonschema>=3.0->altair<6,>=4.0->streamlit==1.32.2) (23.1.0)\n",
      "Requirement already satisfied: jsonschema-specifications>=2023.03.6 in /home/bruce/anaconda3/lib/python3.12/site-packages (from jsonschema>=3.0->altair<6,>=4.0->streamlit==1.32.2) (2023.7.1)\n",
      "Requirement already satisfied: referencing>=0.28.4 in /home/bruce/anaconda3/lib/python3.12/site-packages (from jsonschema>=3.0->altair<6,>=4.0->streamlit==1.32.2) (0.30.2)\n",
      "Requirement already satisfied: rpds-py>=0.7.1 in /home/bruce/anaconda3/lib/python3.12/site-packages (from jsonschema>=3.0->altair<6,>=4.0->streamlit==1.32.2) (0.10.6)\n",
      "Requirement already satisfied: mdurl~=0.1 in /home/bruce/anaconda3/lib/python3.12/site-packages (from markdown-it-py<3.0.0,>=2.2.0->rich<14,>=10.14.0->streamlit==1.32.2) (0.1.0)\n",
      "Requirement already satisfied: six>=1.5 in /home/bruce/anaconda3/lib/python3.12/site-packages (from python-dateutil>=2.8.2->pandas<3,>=1.3.0->streamlit==1.32.2) (1.16.0)\n",
      "Downloading streamlit-1.32.2-py2.py3-none-any.whl (8.1 MB)\n",
      "\u001b[2K   \u001b[90m━━━━━━━━━━━━━━━━━━━━━━━━━━━━━━━━━━━━━━━━\u001b[0m \u001b[32m8.1/8.1 MB\u001b[0m \u001b[31m37.0 MB/s\u001b[0m eta \u001b[36m0:00:00\u001b[0ma \u001b[36m0:00:01\u001b[0m\n",
      "\u001b[?25hInstalling collected packages: streamlit\n",
      "  Attempting uninstall: streamlit\n",
      "    Found existing installation: streamlit 1.32.0\n",
      "    Uninstalling streamlit-1.32.0:\n",
      "      Successfully uninstalled streamlit-1.32.0\n",
      "Successfully installed streamlit-1.32.2\n"
     ]
    }
   ],
   "source": [
    "!pip install langchain==0.1.12\n",
    "!pip install langchain-openai==0.0.8\n",
    "!pip install langchain-community==0.0.29\n",
    "!pip install streamlit==1.32.2\n",
    "# !pip install pyngrok==7.1.5"
   ]
  },
  {
   "cell_type": "markdown",
   "metadata": {
    "id": "CiwGjVWK4q6F",
    "jupyter": {
     "source_hidden": true
    }
   },
   "source": [
    "## Load OpenAI API Credentials\n",
    "\n",
    "Here we load it from a file so we don't explore the credentials on the internet by mistake"
   ]
  },
  {
   "cell_type": "code",
   "execution_count": 15,
   "metadata": {
    "id": "5e1HqI56y7t3",
    "jupyter": {
     "source_hidden": true
    }
   },
   "outputs": [],
   "source": [
    "import locale\n",
    "locale.getpreferredencoding = lambda: \"UTF-8\""
   ]
  },
  {
   "cell_type": "code",
   "execution_count": 16,
   "metadata": {
    "id": "ryheOZuXxa41"
   },
   "outputs": [
    {
     "data": {
      "text/plain": [
       "True"
      ]
     },
     "execution_count": 16,
     "metadata": {},
     "output_type": "execute_result"
    }
   ],
   "source": [
    "from dotenv import load_dotenv\n",
    "\n",
    "load_dotenv()  # take environment variables from .env."
   ]
  },
  {
   "cell_type": "markdown",
   "metadata": {
    "id": "RCMshwB1U9iQ"
   },
   "source": [
    "## Write the app code here and store it in a py file"
   ]
  },
  {
   "cell_type": "code",
   "execution_count": 18,
   "metadata": {
    "colab": {
     "base_uri": "https://localhost:8080/"
    },
    "id": "XXceMDF0Qza0",
    "outputId": "00f2633f-5de2-4fea-97c8-b31f90bbdfd4"
   },
   "outputs": [
    {
     "name": "stdout",
     "output_type": "stream",
     "text": [
      "Overwriting app.py\n"
     ]
    }
   ],
   "source": [
    "%%writefile app.py\n",
    "# that will write all the code below it to the python file app.py\n",
    "# we will then deploy this app.py file on the cloud server where colab is running\n",
    "# if you have your own server you can just write the code in app.py and deploy it directly\n",
    "\n",
    "\n",
    "from langchain_openai import ChatOpenAI\n",
    "from langchain_core.prompts import ChatPromptTemplate, MessagesPlaceholder\n",
    "from langchain_community.chat_message_histories import StreamlitChatMessageHistory\n",
    "from langchain_core.runnables.history import RunnableWithMessageHistory\n",
    "from langchain.callbacks.base import BaseCallbackHandler\n",
    "from operator import itemgetter\n",
    "import streamlit as st\n",
    "\n",
    "from dotenv import load_dotenv\n",
    "load_dotenv()  # take environment variables from .env.\n",
    "\n",
    "# Customize initial app landing page\n",
    "st.set_page_config(page_title=\"AI Assistant\", page_icon=\"🤖\")\n",
    "st.title(\"Welcome I am AI Assistant 🤖\")\n",
    "\n",
    "# Manages live updates to a Streamlit app's display by appending new text tokens\n",
    "# to an existing text stream and rendering the updated text in Markdown\n",
    "class StreamHandler(BaseCallbackHandler):\n",
    "  def __init__(self, container, initial_text=\"\"):\n",
    "    self.container = container\n",
    "    self.text = initial_text\n",
    "\n",
    "  def on_llm_new_token(self, token: str, **kwargs) -> None:\n",
    "    self.text += token\n",
    "    self.container.markdown(self.text)\n",
    "\n",
    "# Load a connection to ChatGPT LLM\n",
    "chatgpt = ChatOpenAI(model_name='gpt-3.5-turbo', temperature=0.1,\n",
    "                     streaming=True)\n",
    "\n",
    "# Add a basic system prompt for LLM behavior\n",
    "SYS_PROMPT = \"\"\"\n",
    "              Act as a helpful assistant and answer questions to the best of your ability.\n",
    "              Do not make up answers.\n",
    "              \"\"\"\n",
    "\n",
    "# Create a prompt template for langchain to use history to answer user prompts\n",
    "prompt = ChatPromptTemplate.from_messages(\n",
    "  [\n",
    "    (\"system\", SYS_PROMPT),\n",
    "    MessagesPlaceholder(variable_name=\"history\"),\n",
    "    (\"human\", \"{input}\"),\n",
    "  ]\n",
    ")\n",
    "\n",
    "# Create a basic llm chain\n",
    "llm_chain = (\n",
    "  prompt\n",
    "  |\n",
    "  chatgpt\n",
    ")\n",
    "\n",
    "# Store conversation history in Streamlit session state\n",
    "streamlit_msg_history = StreamlitChatMessageHistory()\n",
    "\n",
    "# Create a conversation chain\n",
    "conversation_chain = RunnableWithMessageHistory(\n",
    "  llm_chain,\n",
    "  lambda session_id: streamlit_msg_history,  # Accesses memory\n",
    "  input_messages_key=\"input\",\n",
    "  history_messages_key=\"history\",\n",
    ")\n",
    "\n",
    "# Shows the first message when app starts\n",
    "if len(streamlit_msg_history.messages) == 0:\n",
    "  streamlit_msg_history.add_ai_message(\"How can I help you?\")\n",
    "\n",
    "# Render current messages from StreamlitChatMessageHistory\n",
    "for msg in streamlit_msg_history.messages:\n",
    "  st.chat_message(msg.type).write(msg.content)\n",
    "\n",
    "# If user inputs a new prompt, display it and show the response\n",
    "if user_prompt := st.chat_input():\n",
    "  st.chat_message(\"human\").write(user_prompt)\n",
    "  # This is where response from the LLM is shown\n",
    "  with st.chat_message(\"ai\"):\n",
    "    # Initializing an empty data stream\n",
    "    stream_handler = StreamHandler(st.empty())\n",
    "    config = {\"configurable\": {\"session_id\": \"any\"},\n",
    "              \"callbacks\": [stream_handler]}\n",
    "    # Get llm response\n",
    "    response = conversation_chain.invoke({\"input\": user_prompt},\n",
    "                                         config)\n"
   ]
  },
  {
   "cell_type": "markdown",
   "metadata": {
    "id": "8de1tM6FVLsq"
   },
   "source": [
    "## Start the app"
   ]
  },
  {
   "cell_type": "code",
   "execution_count": 23,
   "metadata": {
    "id": "Za_TAI2RkPI9"
   },
   "outputs": [
    {
     "ename": "OSError",
     "evalue": "Background processes not supported.",
     "output_type": "error",
     "traceback": [
      "\u001b[1;31m---------------------------------------------------------------------------\u001b[0m",
      "\u001b[1;31mOSError\u001b[0m                                   Traceback (most recent call last)",
      "Cell \u001b[1;32mIn[23], line 1\u001b[0m\n\u001b[1;32m----> 1\u001b[0m get_ipython()\u001b[38;5;241m.\u001b[39msystem(\u001b[38;5;124m'\u001b[39m\u001b[38;5;124mstreamlit run app.py --server.port=8989 &>./logs.txt &\u001b[39m\u001b[38;5;124m'\u001b[39m)\n",
      "File \u001b[1;32m~\\anaconda3\\Lib\\site-packages\\ipykernel\\zmqshell.py:641\u001b[0m, in \u001b[0;36mZMQInteractiveShell.system_piped\u001b[1;34m(self, cmd)\u001b[0m\n\u001b[0;32m    634\u001b[0m \u001b[38;5;28;01mif\u001b[39;00m cmd\u001b[38;5;241m.\u001b[39mrstrip()\u001b[38;5;241m.\u001b[39mendswith(\u001b[38;5;124m\"\u001b[39m\u001b[38;5;124m&\u001b[39m\u001b[38;5;124m\"\u001b[39m):\n\u001b[0;32m    635\u001b[0m     \u001b[38;5;66;03m# this is *far* from a rigorous test\u001b[39;00m\n\u001b[0;32m    636\u001b[0m     \u001b[38;5;66;03m# We do not support backgrounding processes because we either use\u001b[39;00m\n\u001b[0;32m    637\u001b[0m     \u001b[38;5;66;03m# pexpect or pipes to read from.  Users can always just call\u001b[39;00m\n\u001b[0;32m    638\u001b[0m     \u001b[38;5;66;03m# os.system() or use ip.system=ip.system_raw\u001b[39;00m\n\u001b[0;32m    639\u001b[0m     \u001b[38;5;66;03m# if they really want a background process.\u001b[39;00m\n\u001b[0;32m    640\u001b[0m     msg \u001b[38;5;241m=\u001b[39m \u001b[38;5;124m\"\u001b[39m\u001b[38;5;124mBackground processes not supported.\u001b[39m\u001b[38;5;124m\"\u001b[39m\n\u001b[1;32m--> 641\u001b[0m     \u001b[38;5;28;01mraise\u001b[39;00m \u001b[38;5;167;01mOSError\u001b[39;00m(msg)\n\u001b[0;32m    643\u001b[0m \u001b[38;5;66;03m# we explicitly do NOT return the subprocess status code, because\u001b[39;00m\n\u001b[0;32m    644\u001b[0m \u001b[38;5;66;03m# a non-None value would trigger :func:`sys.displayhook` calls.\u001b[39;00m\n\u001b[0;32m    645\u001b[0m \u001b[38;5;66;03m# Instead, we store the exit_code in user_ns.\u001b[39;00m\n\u001b[0;32m    646\u001b[0m \u001b[38;5;66;03m# Also, protect system call from UNC paths on Windows here too\u001b[39;00m\n\u001b[0;32m    647\u001b[0m \u001b[38;5;66;03m# as is done in InteractiveShell.system_raw\u001b[39;00m\n\u001b[0;32m    648\u001b[0m \u001b[38;5;28;01mif\u001b[39;00m sys\u001b[38;5;241m.\u001b[39mplatform \u001b[38;5;241m==\u001b[39m \u001b[38;5;124m\"\u001b[39m\u001b[38;5;124mwin32\u001b[39m\u001b[38;5;124m\"\u001b[39m:\n",
      "\u001b[1;31mOSError\u001b[0m: Background processes not supported."
     ]
    }
   ],
   "source": [
    "!streamlit run app.py --server.port=8989 &>./logs.txt &"
   ]
  },
  {
   "cell_type": "code",
   "execution_count": null,
   "metadata": {},
   "outputs": [],
   "source": [
    "!python -m streamlit run app.py --server.port=8989 &>./logs.txt &"
   ]
  },
  {
   "cell_type": "code",
   "execution_count": null,
   "metadata": {
    "colab": {
     "base_uri": "https://localhost:8080/"
    },
    "id": "FrVhyQVirAqP",
    "outputId": "bafc38ab-f87c-4d72-c64c-a2809cdb60da"
   },
   "outputs": [
    {
     "name": "stdout",
     "output_type": "stream",
     "text": [
      "Streamlit App: https://0430-35-221-238-153.ngrok-free.app\n"
     ]
    }
   ],
   "source": [
    "'''\n",
    "from pyngrok import ngrok\n",
    "import yaml\n",
    "\n",
    "# Terminate open tunnels if exist\n",
    "ngrok.kill()\n",
    "\n",
    "# Setting the authtoken\n",
    "# Get your authtoken from `ngrok_credentials.yml` file\n",
    "with open('ngrok_credentials.yml', 'r') as file:\n",
    "    NGROK_AUTH_TOKEN = yaml.safe_load(file)\n",
    "ngrok.set_auth_token(NGROK_AUTH_TOKEN['ngrok_key'])\n",
    "\n",
    "# Open an HTTPs tunnel on port XXXX which you get from your `logs.txt` file\n",
    "ngrok_tunnel = ngrok.connect(8989)\n",
    "print(\"Streamlit App:\", ngrok_tunnel.public_url)\n",
    "'''"
   ]
  },
  {
   "cell_type": "markdown",
   "metadata": {
    "id": "2Q3yFB_jsgC5"
   },
   "source": [
    "## Remove running app processes"
   ]
  },
  {
   "cell_type": "code",
   "execution_count": null,
   "metadata": {
    "id": "pG7Abg_LrAw6"
   },
   "outputs": [],
   "source": [
    "ngrok.kill()"
   ]
  },
  {
   "cell_type": "code",
   "execution_count": null,
   "metadata": {
    "colab": {
     "base_uri": "https://localhost:8080/"
    },
    "id": "x2VA4ZtCkPNN",
    "outputId": "f3d7ca23-ff25-4381-c576-63ca7a3d6362"
   },
   "outputs": [
    {
     "name": "stdout",
     "output_type": "stream",
     "text": [
      "root         637       1  1 03:14 ?        00:00:06 /usr/bin/python3 /usr/local/bin/streamlit run ap\n",
      "root        2854     203  0 03:23 ?        00:00:00 /bin/bash -c ps -ef | grep streamlit\n",
      "root        2856    2854  0 03:23 ?        00:00:00 grep streamlit\n"
     ]
    }
   ],
   "source": [
    "!ps -ef | grep streamlit"
   ]
  },
  {
   "cell_type": "code",
   "execution_count": null,
   "metadata": {
    "id": "_WxGAxGHkPLP"
   },
   "outputs": [],
   "source": [
    "!sudo kill -9 637"
   ]
  },
  {
   "cell_type": "code",
   "execution_count": null,
   "metadata": {
    "id": "MlBQh5fdkPPY"
   },
   "outputs": [],
   "source": []
  }
 ],
 "metadata": {
  "colab": {
   "provenance": []
  },
  "kernelspec": {
   "display_name": "Python 3 (ipykernel)",
   "language": "python",
   "name": "python3"
  },
  "language_info": {
   "codemirror_mode": {
    "name": "ipython",
    "version": 3
   },
   "file_extension": ".py",
   "mimetype": "text/x-python",
   "name": "python",
   "nbconvert_exporter": "python",
   "pygments_lexer": "ipython3",
   "version": "3.12.2"
  }
 },
 "nbformat": 4,
 "nbformat_minor": 4
}
